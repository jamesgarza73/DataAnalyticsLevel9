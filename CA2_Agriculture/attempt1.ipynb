{
 "cells": [
  {
   "cell_type": "code",
   "execution_count": 1,
   "id": "2e104697",
   "metadata": {
    "ExecuteTime": {
     "end_time": "2022-04-28T12:43:24.802200Z",
     "start_time": "2022-04-28T12:43:23.360284Z"
    }
   },
   "outputs": [],
   "source": [
    "import pandas as pd"
   ]
  },
  {
   "cell_type": "code",
   "execution_count": 119,
   "id": "062b43d4",
   "metadata": {
    "ExecuteTime": {
     "end_time": "2022-04-28T14:02:20.102976Z",
     "start_time": "2022-04-28T14:02:19.931392Z"
    }
   },
   "outputs": [],
   "source": [
    "euData = pd.read_csv('data/EUBeefPricesWeekly.csv',\n",
    "                    parse_dates=['Week - Begin Date'])\n",
    "\n",
    "euData.drop(columns=['Member State Code','Week - End Date', 'Week Number', 'Unit'], inplace=True)"
   ]
  },
  {
   "cell_type": "code",
   "execution_count": 120,
   "id": "301251d2",
   "metadata": {
    "ExecuteTime": {
     "end_time": "2022-04-28T14:02:20.492723Z",
     "start_time": "2022-04-28T14:02:20.461914Z"
    }
   },
   "outputs": [],
   "source": [
    "euData = euData[(euData['Member State Name'] == 'Ireland') | (euData['Member State Name'] == 'France')]\n",
    "euData = euData[euData['Category'].isin(['Heifers', 'Cows', 'Steers', 'Bulls'])].reset_index(drop=True)\n",
    "\n"
   ]
  },
  {
   "cell_type": "code",
   "execution_count": 121,
   "id": "44520881",
   "metadata": {
    "ExecuteTime": {
     "end_time": "2022-04-28T14:02:29.669129Z",
     "start_time": "2022-04-28T14:02:29.596132Z"
    }
   },
   "outputs": [
    {
     "data": {
      "text/html": [
       "<div>\n",
       "<style scoped>\n",
       "    .dataframe tbody tr th:only-of-type {\n",
       "        vertical-align: middle;\n",
       "    }\n",
       "\n",
       "    .dataframe tbody tr th {\n",
       "        vertical-align: top;\n",
       "    }\n",
       "\n",
       "    .dataframe thead th {\n",
       "        text-align: right;\n",
       "    }\n",
       "</style>\n",
       "<table border=\"1\" class=\"dataframe\">\n",
       "  <thead>\n",
       "    <tr style=\"text-align: right;\">\n",
       "      <th></th>\n",
       "      <th>Category</th>\n",
       "      <th>Date</th>\n",
       "      <th>Price</th>\n",
       "    </tr>\n",
       "  </thead>\n",
       "  <tbody>\n",
       "    <tr>\n",
       "      <th>0</th>\n",
       "      <td>France Bulls</td>\n",
       "      <td>2000-01-31</td>\n",
       "      <td>233.700000</td>\n",
       "    </tr>\n",
       "    <tr>\n",
       "      <th>1</th>\n",
       "      <td>France Bulls</td>\n",
       "      <td>2000-02-29</td>\n",
       "      <td>235.650000</td>\n",
       "    </tr>\n",
       "    <tr>\n",
       "      <th>2</th>\n",
       "      <td>France Bulls</td>\n",
       "      <td>2000-03-31</td>\n",
       "      <td>236.283333</td>\n",
       "    </tr>\n",
       "    <tr>\n",
       "      <th>3</th>\n",
       "      <td>France Bulls</td>\n",
       "      <td>2000-04-30</td>\n",
       "      <td>222.975000</td>\n",
       "    </tr>\n",
       "    <tr>\n",
       "      <th>4</th>\n",
       "      <td>France Bulls</td>\n",
       "      <td>2000-05-31</td>\n",
       "      <td>235.150000</td>\n",
       "    </tr>\n",
       "    <tr>\n",
       "      <th>...</th>\n",
       "      <td>...</td>\n",
       "      <td>...</td>\n",
       "      <td>...</td>\n",
       "    </tr>\n",
       "    <tr>\n",
       "      <th>2162</th>\n",
       "      <td>Ireland Steers</td>\n",
       "      <td>2022-06-30</td>\n",
       "      <td>NaN</td>\n",
       "    </tr>\n",
       "    <tr>\n",
       "      <th>2163</th>\n",
       "      <td>Ireland Steers</td>\n",
       "      <td>2022-07-31</td>\n",
       "      <td>437.800000</td>\n",
       "    </tr>\n",
       "    <tr>\n",
       "      <th>2164</th>\n",
       "      <td>Ireland Steers</td>\n",
       "      <td>2022-08-31</td>\n",
       "      <td>NaN</td>\n",
       "    </tr>\n",
       "    <tr>\n",
       "      <th>2165</th>\n",
       "      <td>Ireland Steers</td>\n",
       "      <td>2022-09-30</td>\n",
       "      <td>NaN</td>\n",
       "    </tr>\n",
       "    <tr>\n",
       "      <th>2166</th>\n",
       "      <td>Ireland Steers</td>\n",
       "      <td>2022-10-31</td>\n",
       "      <td>430.800000</td>\n",
       "    </tr>\n",
       "  </tbody>\n",
       "</table>\n",
       "<p>2167 rows × 3 columns</p>\n",
       "</div>"
      ],
      "text/plain": [
       "            Category       Date       Price\n",
       "0       France Bulls 2000-01-31  233.700000\n",
       "1       France Bulls 2000-02-29  235.650000\n",
       "2       France Bulls 2000-03-31  236.283333\n",
       "3       France Bulls 2000-04-30  222.975000\n",
       "4       France Bulls 2000-05-31  235.150000\n",
       "...              ...        ...         ...\n",
       "2162  Ireland Steers 2022-06-30         NaN\n",
       "2163  Ireland Steers 2022-07-31  437.800000\n",
       "2164  Ireland Steers 2022-08-31         NaN\n",
       "2165  Ireland Steers 2022-09-30         NaN\n",
       "2166  Ireland Steers 2022-10-31  430.800000\n",
       "\n",
       "[2167 rows x 3 columns]"
      ]
     },
     "execution_count": 121,
     "metadata": {},
     "output_type": "execute_result"
    }
   ],
   "source": [
    "test = euData.groupby(['Member State Name', 'Category']).resample('M', on='Week - Begin Date').mean()\n",
    "test.reset_index(inplace=True)\n",
    "test.rename(columns={'Week - Begin Date': 'Date'}, inplace=True)\n",
    "#test.set_index('Date', drop=True, inplace=True)\n",
    "test.Category = test['Member State Name'] + ' ' + test['Category']\n",
    "test.drop(columns='Member State Name', inplace=True)\n",
    "ind = test.Date.unique()\n",
    "cols = test.Category.unique()\n",
    "#test.Date = test.Date.dt.strftime('%Y-%m')\n",
    "test"
   ]
  },
  {
   "cell_type": "code",
   "execution_count": 122,
   "id": "9414e3df",
   "metadata": {
    "ExecuteTime": {
     "end_time": "2022-04-28T14:02:35.227516Z",
     "start_time": "2022-04-28T14:02:35.192505Z"
    }
   },
   "outputs": [
    {
     "data": {
      "text/html": [
       "<div>\n",
       "<style scoped>\n",
       "    .dataframe tbody tr th:only-of-type {\n",
       "        vertical-align: middle;\n",
       "    }\n",
       "\n",
       "    .dataframe tbody tr th {\n",
       "        vertical-align: top;\n",
       "    }\n",
       "\n",
       "    .dataframe thead th {\n",
       "        text-align: right;\n",
       "    }\n",
       "</style>\n",
       "<table border=\"1\" class=\"dataframe\">\n",
       "  <thead>\n",
       "    <tr style=\"text-align: right;\">\n",
       "      <th></th>\n",
       "      <th>France Bulls</th>\n",
       "      <th>France Cows</th>\n",
       "      <th>France Heifers</th>\n",
       "      <th>France Steers</th>\n",
       "      <th>Ireland Bulls</th>\n",
       "      <th>Ireland Cows</th>\n",
       "      <th>Ireland Heifers</th>\n",
       "      <th>Ireland Steers</th>\n",
       "    </tr>\n",
       "    <tr>\n",
       "      <th>Date</th>\n",
       "      <th></th>\n",
       "      <th></th>\n",
       "      <th></th>\n",
       "      <th></th>\n",
       "      <th></th>\n",
       "      <th></th>\n",
       "      <th></th>\n",
       "      <th></th>\n",
       "    </tr>\n",
       "  </thead>\n",
       "  <tbody>\n",
       "    <tr>\n",
       "      <th>2000-01-31</th>\n",
       "      <td>233.700000</td>\n",
       "      <td>231.950000</td>\n",
       "      <td>321.050000</td>\n",
       "      <td>299.325000</td>\n",
       "      <td>NaN</td>\n",
       "      <td>164.000</td>\n",
       "      <td>232.625000</td>\n",
       "      <td>249.100000</td>\n",
       "    </tr>\n",
       "    <tr>\n",
       "      <th>2000-02-29</th>\n",
       "      <td>235.650000</td>\n",
       "      <td>237.625000</td>\n",
       "      <td>320.125000</td>\n",
       "      <td>300.900000</td>\n",
       "      <td>NaN</td>\n",
       "      <td>171.325</td>\n",
       "      <td>238.400000</td>\n",
       "      <td>247.150000</td>\n",
       "    </tr>\n",
       "    <tr>\n",
       "      <th>2000-03-31</th>\n",
       "      <td>236.283333</td>\n",
       "      <td>246.150000</td>\n",
       "      <td>326.500000</td>\n",
       "      <td>302.300000</td>\n",
       "      <td>NaN</td>\n",
       "      <td>174.200</td>\n",
       "      <td>237.416667</td>\n",
       "      <td>246.416667</td>\n",
       "    </tr>\n",
       "    <tr>\n",
       "      <th>2000-04-30</th>\n",
       "      <td>222.975000</td>\n",
       "      <td>242.225000</td>\n",
       "      <td>318.775000</td>\n",
       "      <td>295.800000</td>\n",
       "      <td>NaN</td>\n",
       "      <td>179.050</td>\n",
       "      <td>242.400000</td>\n",
       "      <td>245.000000</td>\n",
       "    </tr>\n",
       "    <tr>\n",
       "      <th>2000-05-31</th>\n",
       "      <td>235.150000</td>\n",
       "      <td>263.575000</td>\n",
       "      <td>334.600000</td>\n",
       "      <td>307.300000</td>\n",
       "      <td>NaN</td>\n",
       "      <td>208.975</td>\n",
       "      <td>256.975000</td>\n",
       "      <td>262.100000</td>\n",
       "    </tr>\n",
       "    <tr>\n",
       "      <th>...</th>\n",
       "      <td>...</td>\n",
       "      <td>...</td>\n",
       "      <td>...</td>\n",
       "      <td>...</td>\n",
       "      <td>...</td>\n",
       "      <td>...</td>\n",
       "      <td>...</td>\n",
       "      <td>...</td>\n",
       "    </tr>\n",
       "    <tr>\n",
       "      <th>2021-12-31</th>\n",
       "      <td>327.200000</td>\n",
       "      <td>349.000000</td>\n",
       "      <td>428.800000</td>\n",
       "      <td>396.000000</td>\n",
       "      <td>319.280000</td>\n",
       "      <td>344.980</td>\n",
       "      <td>425.780000</td>\n",
       "      <td>422.100000</td>\n",
       "    </tr>\n",
       "    <tr>\n",
       "      <th>2022-01-31</th>\n",
       "      <td>352.666667</td>\n",
       "      <td>380.333333</td>\n",
       "      <td>448.666667</td>\n",
       "      <td>425.666667</td>\n",
       "      <td>353.933333</td>\n",
       "      <td>359.500</td>\n",
       "      <td>437.200000</td>\n",
       "      <td>433.066667</td>\n",
       "    </tr>\n",
       "    <tr>\n",
       "      <th>2022-03-31</th>\n",
       "      <td>342.000000</td>\n",
       "      <td>366.000000</td>\n",
       "      <td>440.000000</td>\n",
       "      <td>418.000000</td>\n",
       "      <td>348.700000</td>\n",
       "      <td>353.100</td>\n",
       "      <td>434.000000</td>\n",
       "      <td>430.200000</td>\n",
       "    </tr>\n",
       "    <tr>\n",
       "      <th>2022-07-31</th>\n",
       "      <td>369.000000</td>\n",
       "      <td>396.000000</td>\n",
       "      <td>457.000000</td>\n",
       "      <td>441.000000</td>\n",
       "      <td>360.600000</td>\n",
       "      <td>364.600</td>\n",
       "      <td>442.900000</td>\n",
       "      <td>437.800000</td>\n",
       "    </tr>\n",
       "    <tr>\n",
       "      <th>2022-10-31</th>\n",
       "      <td>344.000000</td>\n",
       "      <td>370.000000</td>\n",
       "      <td>443.000000</td>\n",
       "      <td>394.000000</td>\n",
       "      <td>363.700000</td>\n",
       "      <td>355.600</td>\n",
       "      <td>434.800000</td>\n",
       "      <td>430.800000</td>\n",
       "    </tr>\n",
       "  </tbody>\n",
       "</table>\n",
       "<p>263 rows × 8 columns</p>\n",
       "</div>"
      ],
      "text/plain": [
       "            France Bulls  France Cows  France Heifers  France Steers  \\\n",
       "Date                                                                   \n",
       "2000-01-31    233.700000   231.950000      321.050000     299.325000   \n",
       "2000-02-29    235.650000   237.625000      320.125000     300.900000   \n",
       "2000-03-31    236.283333   246.150000      326.500000     302.300000   \n",
       "2000-04-30    222.975000   242.225000      318.775000     295.800000   \n",
       "2000-05-31    235.150000   263.575000      334.600000     307.300000   \n",
       "...                  ...          ...             ...            ...   \n",
       "2021-12-31    327.200000   349.000000      428.800000     396.000000   \n",
       "2022-01-31    352.666667   380.333333      448.666667     425.666667   \n",
       "2022-03-31    342.000000   366.000000      440.000000     418.000000   \n",
       "2022-07-31    369.000000   396.000000      457.000000     441.000000   \n",
       "2022-10-31    344.000000   370.000000      443.000000     394.000000   \n",
       "\n",
       "            Ireland Bulls  Ireland Cows  Ireland Heifers  Ireland Steers  \n",
       "Date                                                                      \n",
       "2000-01-31            NaN       164.000       232.625000      249.100000  \n",
       "2000-02-29            NaN       171.325       238.400000      247.150000  \n",
       "2000-03-31            NaN       174.200       237.416667      246.416667  \n",
       "2000-04-30            NaN       179.050       242.400000      245.000000  \n",
       "2000-05-31            NaN       208.975       256.975000      262.100000  \n",
       "...                   ...           ...              ...             ...  \n",
       "2021-12-31     319.280000       344.980       425.780000      422.100000  \n",
       "2022-01-31     353.933333       359.500       437.200000      433.066667  \n",
       "2022-03-31     348.700000       353.100       434.000000      430.200000  \n",
       "2022-07-31     360.600000       364.600       442.900000      437.800000  \n",
       "2022-10-31     363.700000       355.600       434.800000      430.800000  \n",
       "\n",
       "[263 rows x 8 columns]"
      ]
     },
     "execution_count": 122,
     "metadata": {},
     "output_type": "execute_result"
    }
   ],
   "source": [
    "test2 = test.pivot_table(index='Date', columns='Category', values='Price')\n",
    "test2.columns = cols\n",
    "#test.index = ind\n",
    "test2"
   ]
  },
  {
   "cell_type": "code",
   "execution_count": 123,
   "id": "1af8c3ab",
   "metadata": {
    "ExecuteTime": {
     "end_time": "2022-04-28T14:02:40.748350Z",
     "start_time": "2022-04-28T14:02:40.728350Z"
    }
   },
   "outputs": [
    {
     "data": {
      "text/plain": [
       "France Bulls        0\n",
       "France Cows         0\n",
       "France Heifers      0\n",
       "France Steers       0\n",
       "Ireland Bulls      31\n",
       "Ireland Cows        0\n",
       "Ireland Heifers     0\n",
       "Ireland Steers      0\n",
       "dtype: int64"
      ]
     },
     "execution_count": 123,
     "metadata": {},
     "output_type": "execute_result"
    }
   ],
   "source": [
    "test2.isna().sum()"
   ]
  },
  {
   "cell_type": "code",
   "execution_count": 125,
   "id": "7eba1b02",
   "metadata": {
    "ExecuteTime": {
     "end_time": "2022-04-28T14:03:02.107114Z",
     "start_time": "2022-04-28T14:03:01.876118Z"
    }
   },
   "outputs": [
    {
     "data": {
      "text/plain": [
       "<AxesSubplot:xlabel='Date'>"
      ]
     },
     "execution_count": 125,
     "metadata": {},
     "output_type": "execute_result"
    },
    {
     "data": {
      "image/png": "[encoded data removed]",
      "text/plain": [
       "<Figure size 432x288 with 1 Axes>"
      ]
     },
     "metadata": {
      "needs_background": "light"
     },
     "output_type": "display_data"
    }
   ],
   "source": [
    "test2.plot()"
   ]
  },
  {
   "cell_type": "code",
   "execution_count": null,
   "id": "f797339e",
   "metadata": {},
   "outputs": [],
   "source": []
  }
 ],
 "metadata": {
  "kernelspec": {
   "display_name": "Python 3 (ipykernel)",
   "language": "python",
   "name": "python3"
  },
  "language_info": {
   "codemirror_mode": {
    "name": "ipython",
    "version": 3
   },
   "file_extension": ".py",
   "mimetype": "text/x-python",
   "name": "python",
   "nbconvert_exporter": "python",
   "pygments_lexer": "ipython3",
   "version": "3.8.12"
  },
  "toc": {
   "base_numbering": 1,
   "nav_menu": {},
   "number_sections": true,
   "sideBar": true,
   "skip_h1_title": false,
   "title_cell": "Table of Contents",
   "title_sidebar": "Contents",
   "toc_cell": false,
   "toc_position": {},
   "toc_section_display": true,
   "toc_window_display": false
  }
 },
 "nbformat": 4,
 "nbformat_minor": 5
}
