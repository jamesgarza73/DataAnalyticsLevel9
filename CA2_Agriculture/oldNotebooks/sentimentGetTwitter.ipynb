{
 "cells": [
  {
   "cell_type": "code",
   "execution_count": 1,
   "id": "b13ebda5",
   "metadata": {
    "ExecuteTime": {
     "end_time": "2022-05-01T21:09:20.086804Z",
     "start_time": "2022-05-01T21:09:17.979220Z"
    }
   },
   "outputs": [
    {
     "name": "stderr",
     "output_type": "stream",
     "text": [
      "[nltk_data] Downloading package stopwords to\n",
      "[nltk_data]     C:\\Users\\irish\\AppData\\Roaming\\nltk_data...\n",
      "[nltk_data]   Package stopwords is already up-to-date!\n"
     ]
    }
   ],
   "source": [
    "import tweepy\n",
    "import nltk\n",
    "nltk.download('stopwords')\n",
    "\n",
    "from nltk.corpus import stopwords\n",
    "stop = stopwords.words('english')\n",
    "\n",
    "from textblob import TextBlob\n",
    "import pandas as pd"
   ]
  },
  {
   "cell_type": "code",
   "execution_count": 2,
   "id": "18db3a0b",
   "metadata": {
    "ExecuteTime": {
     "end_time": "2022-05-01T21:09:20.102022Z",
     "start_time": "2022-05-01T21:09:20.088806Z"
    }
   },
   "outputs": [],
   "source": [
    "# Enter your twitter credentials here\n",
    "consumer_key = \"ATr3GPX2ECzzrQu1NWPSz1cpU\"\n",
    "consumer_secret = \"VdUHLsnmPon7RDG5Y1IwTHCndg5kLTd4yBbZXUQ7q0sLS7yXK0\"\n",
    "access_token= \"1516171293766389765-cZBHtFeMbwzupeYnOb5B142zNLHyb1\"\n",
    "access_token_secret= \"lBCtCP0vCQwkUUIJFqzSTzepsXpbieqyJnVLeLhDOvWhz\""
   ]
  },
  {
   "cell_type": "code",
   "execution_count": 3,
   "id": "a15aff43",
   "metadata": {
    "ExecuteTime": {
     "end_time": "2022-05-01T21:09:24.217974Z",
     "start_time": "2022-05-01T21:09:24.213972Z"
    }
   },
   "outputs": [],
   "source": [
    "# Twitter authentication and the connection to Twitter Streaming API\n",
    "auth = tweepy.OAuthHandler(consumer_key, consumer_secret)\n",
    "auth.set_access_token(access_token, access_token_secret)\n",
    "api = tweepy.API(auth)"
   ]
  },
  {
   "cell_type": "code",
   "execution_count": 7,
   "id": "040010bc",
   "metadata": {
    "ExecuteTime": {
     "end_time": "2022-05-01T21:10:11.105254Z",
     "start_time": "2022-05-01T21:10:11.095257Z"
    }
   },
   "outputs": [],
   "source": [
    "words = ['ireland farming', 'irish beef', 'irish pork', 'irish lamb']\n",
    "train = pd.DataFrame()\n",
    "#https://docs.tweepy.org/en/stable/api.html"
   ]
  },
  {
   "cell_type": "code",
   "execution_count": 8,
   "id": "8baf5084",
   "metadata": {
    "ExecuteTime": {
     "end_time": "2022-05-01T21:11:08.251461Z",
     "start_time": "2022-05-01T21:10:11.485275Z"
    }
   },
   "outputs": [],
   "source": [
    "# For search date parameters / label will be in your Dev enviorment label\n",
    "# https://developer.twitter.com/en/account/environments\n",
    "for word in words:\n",
    "    tweets = tweepy.Cursor(api.search_full_archive, label='CA2Agriculture', query=word,\n",
    "                       fromDate='20070101000', toDate='20200101000').items(1000)\n",
    "    for tweet in tweets:\n",
    "        temp = pd.DataFrame.from_dict(tweet._json, orient='index')\n",
    "        temp = temp.T\n",
    "        temp = temp[['created_at', 'id', 'text','geo', 'coordinates','retweeted','lang']]\n",
    "        train= pd.concat([train, temp], axis=0)\n",
    "train.reset_index(inplace=True, drop=True)\n",
    "\n",
    "train['clean_tweet'] = train['text'].apply(lambda x : \" \".join(x.lower() for x in x.split()))"
   ]
  },
  {
   "cell_type": "code",
   "execution_count": null,
   "id": "a1e83342",
   "metadata": {
    "ExecuteTime": {
     "end_time": "2022-05-01T20:52:35.128110Z",
     "start_time": "2022-05-01T20:52:21.523036Z"
    }
   },
   "outputs": [],
   "source": [
    "# Tweet search only\n",
    "for word in words:\n",
    "    tweets = tweepy.Cursor(api.search_tweets, q=word+'-filter:retweets', lang='en', tweet_mode='extended').items(500)\n",
    "    for tweet in tweets:\n",
    "        temp = pd.DataFrame.from_dict(tweet._json, orient='index')\n",
    "        temp = temp.T\n",
    "        temp = temp[['created_at', 'id', 'full_text','geo', 'coordinates','retweeted','lang']]\n",
    "        train= pd.concat([train, temp], axis=0)\n",
    "train.reset_index(inplace=True, drop=True)\n",
    "\n",
    "train['clean_tweet'] = train['full_text'].apply(lambda x : \" \".join(x.lower() for x in x.split()))"
   ]
  },
  {
   "cell_type": "code",
   "execution_count": 10,
   "id": "c0a21530",
   "metadata": {
    "ExecuteTime": {
     "end_time": "2022-05-01T21:11:18.814429Z",
     "start_time": "2022-05-01T21:11:18.782443Z"
    }
   },
   "outputs": [
    {
     "name": "stderr",
     "output_type": "stream",
     "text": [
      "C:\\Users\\irish\\AppData\\Local\\Temp\\ipykernel_45184\\2542136566.py:1: FutureWarning: The default value of regex will change from True to False in a future version.\n",
      "  train['clean_tweet'] = train['clean_tweet'].str.replace(\"[^\\w\\s]\", \"\")\n"
     ]
    }
   ],
   "source": [
    "train['clean_tweet'] = train['clean_tweet'].str.replace(\"[^\\w\\s]\", \"\")"
   ]
  },
  {
   "cell_type": "code",
   "execution_count": 11,
   "id": "cda0859d",
   "metadata": {
    "ExecuteTime": {
     "end_time": "2022-05-01T21:11:20.328579Z",
     "start_time": "2022-05-01T21:11:19.466638Z"
    }
   },
   "outputs": [],
   "source": [
    "train['sentiment'] = train['clean_tweet'].apply(lambda x : TextBlob(x).sentiment[0])"
   ]
  },
  {
   "cell_type": "code",
   "execution_count": 12,
   "id": "e78cbbc4",
   "metadata": {
    "ExecuteTime": {
     "end_time": "2022-05-01T21:11:21.343180Z",
     "start_time": "2022-05-01T21:11:20.330579Z"
    }
   },
   "outputs": [
    {
     "data": {
      "image/png": "[encoded data removed]",
      "text/plain": [
       "<Figure size 432x288 with 1 Axes>"
      ]
     },
     "metadata": {
      "needs_background": "light"
     },
     "output_type": "display_data"
    }
   ],
   "source": [
    "train['sentiment'].plot(kind='box');"
   ]
  },
  {
   "cell_type": "code",
   "execution_count": 13,
   "id": "cc954b78",
   "metadata": {
    "ExecuteTime": {
     "end_time": "2022-05-01T21:11:21.482635Z",
     "start_time": "2022-05-01T21:11:21.345051Z"
    }
   },
   "outputs": [
    {
     "data": {
      "image/png": "[encoded data removed]",
      "text/plain": [
       "<Figure size 432x288 with 1 Axes>"
      ]
     },
     "metadata": {
      "needs_background": "light"
     },
     "output_type": "display_data"
    }
   ],
   "source": [
    "train['sentiment'].pct_change().plot();"
   ]
  },
  {
   "cell_type": "code",
   "execution_count": null,
   "id": "687e28e5",
   "metadata": {},
   "outputs": [],
   "source": []
  }
 ],
 "metadata": {
  "kernelspec": {
   "display_name": "Python 3 (ipykernel)",
   "language": "python",
   "name": "python3"
  },
  "language_info": {
   "codemirror_mode": {
    "name": "ipython",
    "version": 3
   },
   "file_extension": ".py",
   "mimetype": "text/x-python",
   "name": "python",
   "nbconvert_exporter": "python",
   "pygments_lexer": "ipython3",
   "version": "3.8.12"
  },
  "toc": {
   "base_numbering": 1,
   "nav_menu": {},
   "number_sections": true,
   "sideBar": true,
   "skip_h1_title": false,
   "title_cell": "Table of Contents",
   "title_sidebar": "Contents",
   "toc_cell": false,
   "toc_position": {},
   "toc_section_display": true,
   "toc_window_display": false
  }
 },
 "nbformat": 4,
 "nbformat_minor": 5
}
