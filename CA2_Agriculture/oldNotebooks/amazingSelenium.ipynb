{
 "cells": [
  {
   "cell_type": "code",
   "execution_count": 1,
   "id": "96b7651f",
   "metadata": {
    "ExecuteTime": {
     "end_time": "2022-05-15T13:20:32.314272Z",
     "start_time": "2022-05-15T13:20:31.664474Z"
    },
    "scrolled": true
   },
   "outputs": [],
   "source": [
    "import warnings\n",
    "warnings.filterwarnings(\"ignore\")\n",
    "\n",
    "from selenium import webdriver\n",
    "from selenium.webdriver.common.by import By\n",
    "import pandas as pd"
   ]
  },
  {
   "cell_type": "code",
   "execution_count": 2,
   "id": "6a56d6ac",
   "metadata": {
    "ExecuteTime": {
     "end_time": "2022-05-15T13:20:32.329271Z",
     "start_time": "2022-05-15T13:20:32.316273Z"
    }
   },
   "outputs": [],
   "source": [
    "#http://www.learningaboutelectronics.com/Articles/How-to-install-geckodriver-Python-windows.php\n",
    "#https://newbedev.com/python-selenium-get-href-value\n",
    "#https://selenium-python.readthedocs.io/index.html\n",
    "#https://medium.com/ml-book/web-scraping-using-selenium-python-3be7b8762747"
   ]
  },
  {
   "cell_type": "code",
   "execution_count": 3,
   "id": "b485101d",
   "metadata": {
    "ExecuteTime": {
     "end_time": "2022-05-15T13:20:38.179748Z",
     "start_time": "2022-05-15T13:20:32.530966Z"
    },
    "scrolled": true
   },
   "outputs": [],
   "source": [
    "driver = webdriver.Firefox(executable_path= r\"D:\\Downloads\\geckodriver-v0.31.0-win64\\geckodriver.exe\")"
   ]
  },
  {
   "cell_type": "code",
   "execution_count": 4,
   "id": "d493cca2",
   "metadata": {
    "ExecuteTime": {
     "end_time": "2022-05-15T13:20:38.194749Z",
     "start_time": "2022-05-15T13:20:38.181748Z"
    }
   },
   "outputs": [],
   "source": [
    "searchTerms = ['beef+cattle', 'beef+cattle+prices']"
   ]
  },
  {
   "cell_type": "code",
   "execution_count": 5,
   "id": "e93b80f6",
   "metadata": {
    "ExecuteTime": {
     "end_time": "2022-05-15T13:20:40.443614Z",
     "start_time": "2022-05-15T13:20:38.196751Z"
    }
   },
   "outputs": [],
   "source": [
    "urlQuery = \"https://www.ifa.ie/?s=\" + searchTerms[0] \n",
    "driver.get(urlQuery)\n",
    "elems = driver.find_elements_by_css_selector(\".col-sm-12 [href]\")\n",
    "links = [elem.get_attribute('href') for elem in elems]"
   ]
  },
  {
   "cell_type": "code",
   "execution_count": 6,
   "id": "014f48a1",
   "metadata": {
    "ExecuteTime": {
     "end_time": "2022-05-15T13:20:40.459615Z",
     "start_time": "2022-05-15T13:20:40.445615Z"
    }
   },
   "outputs": [
    {
     "name": "stdout",
     "output_type": "stream",
     "text": [
      "['https://www.ifa.ie/farm-sectors/solid-demand-for-beef-cattle-as-christmas-market-begins/', 'https://www.ifa.ie/farm-sectors/news-article-4471/', 'https://www.ifa.ie/farm-sectors/cattle-finishers-demand-more-on-beef-ifa/', 'https://www.ifa.ie/markets-and-prices/strong-beef-market-demand-should-be-reflected-in-higher-cattle-prices/', 'https://www.ifa.ie/farm-sectors/cattle-supplies-tighter-as-beef-demand-remains-very-strong/', 'https://www.ifa.ie/farm-sectors/factories-paying-more-to-get-cattle-with-strong-beef-demand/', 'https://www.ifa.ie/farm-sectors/strong-manufacturing-beef-market-demand-leaves-factories-looking-for-cattle/', 'https://www.ifa.ie/farm-sectors/ifa-meets-canadian-cattlemens-association-on-beef/', 'https://www.ifa.ie/markets-and-prices/tighter-cattle-supplies-brings-more-bite-to-beef-trade-as-uk-prices-continue-to-rise-ifa/', 'https://www.ifa.ie/markets-and-prices/beef-farmers-digging-in-hard-on-cattle-prices-ifa/', 'https://www.ifa.ie/markets-and-prices/beef-finishers-determined-to-dig-in-on-cattle-prices-ifa/', 'https://www.ifa.ie/markets-and-prices/new-data-on-beef-consumption-and-retail-price-exposes-processors-on-cattle-price-gap-ifa/', 'https://www.ifa.ie/markets-and-prices/uk-beef-price-rise-must-lift-irish-cattle-prices-ifa/']\n",
      "['https://www.ifa.ie/farm-sectors/solid-demand-for-beef-cattle-as-christmas-market-begins/', 'https://www.ifa.ie/farm-sectors/news-article-4471/', 'https://www.ifa.ie/farm-sectors/cattle-finishers-demand-more-on-beef-ifa/', 'https://www.ifa.ie/markets-and-prices/strong-beef-market-demand-should-be-reflected-in-higher-cattle-prices/', 'https://www.ifa.ie/farm-sectors/cattle-supplies-tighter-as-beef-demand-remains-very-strong/', 'https://www.ifa.ie/farm-sectors/factories-paying-more-to-get-cattle-with-strong-beef-demand/', 'https://www.ifa.ie/farm-sectors/strong-manufacturing-beef-market-demand-leaves-factories-looking-for-cattle/', 'https://www.ifa.ie/farm-sectors/ifa-meets-canadian-cattlemens-association-on-beef/', 'https://www.ifa.ie/markets-and-prices/tighter-cattle-supplies-brings-more-bite-to-beef-trade-as-uk-prices-continue-to-rise-ifa/', 'https://www.ifa.ie/markets-and-prices/beef-farmers-digging-in-hard-on-cattle-prices-ifa/', 'https://www.ifa.ie/markets-and-prices/beef-finishers-determined-to-dig-in-on-cattle-prices-ifa/', 'https://www.ifa.ie/markets-and-prices/new-data-on-beef-consumption-and-retail-price-exposes-processors-on-cattle-price-gap-ifa/', 'https://www.ifa.ie/markets-and-prices/uk-beef-price-rise-must-lift-irish-cattle-prices-ifa/']\n",
      "['https://www.ifa.ie/farm-sectors/solid-demand-for-beef-cattle-as-christmas-market-begins/', 'https://www.ifa.ie/farm-sectors/news-article-4471/', 'https://www.ifa.ie/farm-sectors/cattle-finishers-demand-more-on-beef-ifa/', 'https://www.ifa.ie/markets-and-prices/strong-beef-market-demand-should-be-reflected-in-higher-cattle-prices/', 'https://www.ifa.ie/farm-sectors/cattle-supplies-tighter-as-beef-demand-remains-very-strong/', 'https://www.ifa.ie/farm-sectors/factories-paying-more-to-get-cattle-with-strong-beef-demand/', 'https://www.ifa.ie/farm-sectors/strong-manufacturing-beef-market-demand-leaves-factories-looking-for-cattle/', 'https://www.ifa.ie/farm-sectors/ifa-meets-canadian-cattlemens-association-on-beef/', 'https://www.ifa.ie/markets-and-prices/tighter-cattle-supplies-brings-more-bite-to-beef-trade-as-uk-prices-continue-to-rise-ifa/', 'https://www.ifa.ie/markets-and-prices/beef-farmers-digging-in-hard-on-cattle-prices-ifa/', 'https://www.ifa.ie/markets-and-prices/beef-finishers-determined-to-dig-in-on-cattle-prices-ifa/', 'https://www.ifa.ie/markets-and-prices/new-data-on-beef-consumption-and-retail-price-exposes-processors-on-cattle-price-gap-ifa/', 'https://www.ifa.ie/markets-and-prices/uk-beef-price-rise-must-lift-irish-cattle-prices-ifa/']\n",
      "['https://www.ifa.ie/farm-sectors/solid-demand-for-beef-cattle-as-christmas-market-begins/', 'https://www.ifa.ie/farm-sectors/news-article-4471/', 'https://www.ifa.ie/farm-sectors/cattle-finishers-demand-more-on-beef-ifa/', 'https://www.ifa.ie/markets-and-prices/strong-beef-market-demand-should-be-reflected-in-higher-cattle-prices/', 'https://www.ifa.ie/farm-sectors/cattle-supplies-tighter-as-beef-demand-remains-very-strong/', 'https://www.ifa.ie/farm-sectors/factories-paying-more-to-get-cattle-with-strong-beef-demand/', 'https://www.ifa.ie/farm-sectors/strong-manufacturing-beef-market-demand-leaves-factories-looking-for-cattle/', 'https://www.ifa.ie/farm-sectors/ifa-meets-canadian-cattlemens-association-on-beef/', 'https://www.ifa.ie/markets-and-prices/tighter-cattle-supplies-brings-more-bite-to-beef-trade-as-uk-prices-continue-to-rise-ifa/', 'https://www.ifa.ie/markets-and-prices/beef-farmers-digging-in-hard-on-cattle-prices-ifa/', 'https://www.ifa.ie/markets-and-prices/beef-finishers-determined-to-dig-in-on-cattle-prices-ifa/', 'https://www.ifa.ie/markets-and-prices/new-data-on-beef-consumption-and-retail-price-exposes-processors-on-cattle-price-gap-ifa/', 'https://www.ifa.ie/markets-and-prices/uk-beef-price-rise-must-lift-irish-cattle-prices-ifa/']\n",
      "['https://www.ifa.ie/farm-sectors/solid-demand-for-beef-cattle-as-christmas-market-begins/', 'https://www.ifa.ie/farm-sectors/news-article-4471/', 'https://www.ifa.ie/farm-sectors/cattle-finishers-demand-more-on-beef-ifa/', 'https://www.ifa.ie/markets-and-prices/strong-beef-market-demand-should-be-reflected-in-higher-cattle-prices/', 'https://www.ifa.ie/farm-sectors/cattle-supplies-tighter-as-beef-demand-remains-very-strong/', 'https://www.ifa.ie/farm-sectors/factories-paying-more-to-get-cattle-with-strong-beef-demand/', 'https://www.ifa.ie/farm-sectors/strong-manufacturing-beef-market-demand-leaves-factories-looking-for-cattle/', 'https://www.ifa.ie/farm-sectors/ifa-meets-canadian-cattlemens-association-on-beef/', 'https://www.ifa.ie/markets-and-prices/tighter-cattle-supplies-brings-more-bite-to-beef-trade-as-uk-prices-continue-to-rise-ifa/', 'https://www.ifa.ie/markets-and-prices/beef-farmers-digging-in-hard-on-cattle-prices-ifa/', 'https://www.ifa.ie/markets-and-prices/beef-finishers-determined-to-dig-in-on-cattle-prices-ifa/', 'https://www.ifa.ie/markets-and-prices/new-data-on-beef-consumption-and-retail-price-exposes-processors-on-cattle-price-gap-ifa/', 'https://www.ifa.ie/markets-and-prices/uk-beef-price-rise-must-lift-irish-cattle-prices-ifa/']\n",
      "['https://www.ifa.ie/farm-sectors/solid-demand-for-beef-cattle-as-christmas-market-begins/', 'https://www.ifa.ie/farm-sectors/news-article-4471/', 'https://www.ifa.ie/farm-sectors/cattle-finishers-demand-more-on-beef-ifa/', 'https://www.ifa.ie/markets-and-prices/strong-beef-market-demand-should-be-reflected-in-higher-cattle-prices/', 'https://www.ifa.ie/farm-sectors/cattle-supplies-tighter-as-beef-demand-remains-very-strong/', 'https://www.ifa.ie/farm-sectors/factories-paying-more-to-get-cattle-with-strong-beef-demand/', 'https://www.ifa.ie/farm-sectors/strong-manufacturing-beef-market-demand-leaves-factories-looking-for-cattle/', 'https://www.ifa.ie/farm-sectors/ifa-meets-canadian-cattlemens-association-on-beef/', 'https://www.ifa.ie/markets-and-prices/tighter-cattle-supplies-brings-more-bite-to-beef-trade-as-uk-prices-continue-to-rise-ifa/', 'https://www.ifa.ie/markets-and-prices/beef-farmers-digging-in-hard-on-cattle-prices-ifa/', 'https://www.ifa.ie/markets-and-prices/beef-finishers-determined-to-dig-in-on-cattle-prices-ifa/', 'https://www.ifa.ie/markets-and-prices/new-data-on-beef-consumption-and-retail-price-exposes-processors-on-cattle-price-gap-ifa/', 'https://www.ifa.ie/markets-and-prices/uk-beef-price-rise-must-lift-irish-cattle-prices-ifa/']\n",
      "['https://www.ifa.ie/farm-sectors/solid-demand-for-beef-cattle-as-christmas-market-begins/', 'https://www.ifa.ie/farm-sectors/news-article-4471/', 'https://www.ifa.ie/farm-sectors/cattle-finishers-demand-more-on-beef-ifa/', 'https://www.ifa.ie/markets-and-prices/strong-beef-market-demand-should-be-reflected-in-higher-cattle-prices/', 'https://www.ifa.ie/farm-sectors/cattle-supplies-tighter-as-beef-demand-remains-very-strong/', 'https://www.ifa.ie/farm-sectors/factories-paying-more-to-get-cattle-with-strong-beef-demand/', 'https://www.ifa.ie/farm-sectors/strong-manufacturing-beef-market-demand-leaves-factories-looking-for-cattle/', 'https://www.ifa.ie/farm-sectors/ifa-meets-canadian-cattlemens-association-on-beef/', 'https://www.ifa.ie/markets-and-prices/tighter-cattle-supplies-brings-more-bite-to-beef-trade-as-uk-prices-continue-to-rise-ifa/', 'https://www.ifa.ie/markets-and-prices/beef-farmers-digging-in-hard-on-cattle-prices-ifa/', 'https://www.ifa.ie/markets-and-prices/beef-finishers-determined-to-dig-in-on-cattle-prices-ifa/', 'https://www.ifa.ie/markets-and-prices/new-data-on-beef-consumption-and-retail-price-exposes-processors-on-cattle-price-gap-ifa/', 'https://www.ifa.ie/markets-and-prices/uk-beef-price-rise-must-lift-irish-cattle-prices-ifa/']\n",
      "['https://www.ifa.ie/farm-sectors/solid-demand-for-beef-cattle-as-christmas-market-begins/', 'https://www.ifa.ie/farm-sectors/news-article-4471/', 'https://www.ifa.ie/farm-sectors/cattle-finishers-demand-more-on-beef-ifa/', 'https://www.ifa.ie/markets-and-prices/strong-beef-market-demand-should-be-reflected-in-higher-cattle-prices/', 'https://www.ifa.ie/farm-sectors/cattle-supplies-tighter-as-beef-demand-remains-very-strong/', 'https://www.ifa.ie/farm-sectors/factories-paying-more-to-get-cattle-with-strong-beef-demand/', 'https://www.ifa.ie/farm-sectors/strong-manufacturing-beef-market-demand-leaves-factories-looking-for-cattle/', 'https://www.ifa.ie/farm-sectors/ifa-meets-canadian-cattlemens-association-on-beef/', 'https://www.ifa.ie/markets-and-prices/tighter-cattle-supplies-brings-more-bite-to-beef-trade-as-uk-prices-continue-to-rise-ifa/', 'https://www.ifa.ie/markets-and-prices/beef-farmers-digging-in-hard-on-cattle-prices-ifa/', 'https://www.ifa.ie/markets-and-prices/beef-finishers-determined-to-dig-in-on-cattle-prices-ifa/', 'https://www.ifa.ie/markets-and-prices/new-data-on-beef-consumption-and-retail-price-exposes-processors-on-cattle-price-gap-ifa/', 'https://www.ifa.ie/markets-and-prices/uk-beef-price-rise-must-lift-irish-cattle-prices-ifa/']\n",
      "['https://www.ifa.ie/farm-sectors/solid-demand-for-beef-cattle-as-christmas-market-begins/', 'https://www.ifa.ie/farm-sectors/news-article-4471/', 'https://www.ifa.ie/farm-sectors/cattle-finishers-demand-more-on-beef-ifa/', 'https://www.ifa.ie/markets-and-prices/strong-beef-market-demand-should-be-reflected-in-higher-cattle-prices/', 'https://www.ifa.ie/farm-sectors/cattle-supplies-tighter-as-beef-demand-remains-very-strong/', 'https://www.ifa.ie/farm-sectors/factories-paying-more-to-get-cattle-with-strong-beef-demand/', 'https://www.ifa.ie/farm-sectors/strong-manufacturing-beef-market-demand-leaves-factories-looking-for-cattle/', 'https://www.ifa.ie/farm-sectors/ifa-meets-canadian-cattlemens-association-on-beef/', 'https://www.ifa.ie/markets-and-prices/tighter-cattle-supplies-brings-more-bite-to-beef-trade-as-uk-prices-continue-to-rise-ifa/', 'https://www.ifa.ie/markets-and-prices/beef-farmers-digging-in-hard-on-cattle-prices-ifa/', 'https://www.ifa.ie/markets-and-prices/beef-finishers-determined-to-dig-in-on-cattle-prices-ifa/', 'https://www.ifa.ie/markets-and-prices/new-data-on-beef-consumption-and-retail-price-exposes-processors-on-cattle-price-gap-ifa/', 'https://www.ifa.ie/markets-and-prices/uk-beef-price-rise-must-lift-irish-cattle-prices-ifa/']\n",
      "['https://www.ifa.ie/farm-sectors/solid-demand-for-beef-cattle-as-christmas-market-begins/', 'https://www.ifa.ie/farm-sectors/news-article-4471/', 'https://www.ifa.ie/farm-sectors/cattle-finishers-demand-more-on-beef-ifa/', 'https://www.ifa.ie/markets-and-prices/strong-beef-market-demand-should-be-reflected-in-higher-cattle-prices/', 'https://www.ifa.ie/farm-sectors/cattle-supplies-tighter-as-beef-demand-remains-very-strong/', 'https://www.ifa.ie/farm-sectors/factories-paying-more-to-get-cattle-with-strong-beef-demand/', 'https://www.ifa.ie/farm-sectors/strong-manufacturing-beef-market-demand-leaves-factories-looking-for-cattle/', 'https://www.ifa.ie/farm-sectors/ifa-meets-canadian-cattlemens-association-on-beef/', 'https://www.ifa.ie/markets-and-prices/tighter-cattle-supplies-brings-more-bite-to-beef-trade-as-uk-prices-continue-to-rise-ifa/', 'https://www.ifa.ie/markets-and-prices/beef-farmers-digging-in-hard-on-cattle-prices-ifa/', 'https://www.ifa.ie/markets-and-prices/beef-finishers-determined-to-dig-in-on-cattle-prices-ifa/', 'https://www.ifa.ie/markets-and-prices/new-data-on-beef-consumption-and-retail-price-exposes-processors-on-cattle-price-gap-ifa/', 'https://www.ifa.ie/markets-and-prices/uk-beef-price-rise-must-lift-irish-cattle-prices-ifa/']\n",
      "['https://www.ifa.ie/farm-sectors/solid-demand-for-beef-cattle-as-christmas-market-begins/', 'https://www.ifa.ie/farm-sectors/news-article-4471/', 'https://www.ifa.ie/farm-sectors/cattle-finishers-demand-more-on-beef-ifa/', 'https://www.ifa.ie/markets-and-prices/strong-beef-market-demand-should-be-reflected-in-higher-cattle-prices/', 'https://www.ifa.ie/farm-sectors/cattle-supplies-tighter-as-beef-demand-remains-very-strong/', 'https://www.ifa.ie/farm-sectors/factories-paying-more-to-get-cattle-with-strong-beef-demand/', 'https://www.ifa.ie/farm-sectors/strong-manufacturing-beef-market-demand-leaves-factories-looking-for-cattle/', 'https://www.ifa.ie/farm-sectors/ifa-meets-canadian-cattlemens-association-on-beef/', 'https://www.ifa.ie/markets-and-prices/tighter-cattle-supplies-brings-more-bite-to-beef-trade-as-uk-prices-continue-to-rise-ifa/', 'https://www.ifa.ie/markets-and-prices/beef-farmers-digging-in-hard-on-cattle-prices-ifa/', 'https://www.ifa.ie/markets-and-prices/beef-finishers-determined-to-dig-in-on-cattle-prices-ifa/', 'https://www.ifa.ie/markets-and-prices/new-data-on-beef-consumption-and-retail-price-exposes-processors-on-cattle-price-gap-ifa/', 'https://www.ifa.ie/markets-and-prices/uk-beef-price-rise-must-lift-irish-cattle-prices-ifa/']\n",
      "['https://www.ifa.ie/farm-sectors/solid-demand-for-beef-cattle-as-christmas-market-begins/', 'https://www.ifa.ie/farm-sectors/news-article-4471/', 'https://www.ifa.ie/farm-sectors/cattle-finishers-demand-more-on-beef-ifa/', 'https://www.ifa.ie/markets-and-prices/strong-beef-market-demand-should-be-reflected-in-higher-cattle-prices/', 'https://www.ifa.ie/farm-sectors/cattle-supplies-tighter-as-beef-demand-remains-very-strong/', 'https://www.ifa.ie/farm-sectors/factories-paying-more-to-get-cattle-with-strong-beef-demand/', 'https://www.ifa.ie/farm-sectors/strong-manufacturing-beef-market-demand-leaves-factories-looking-for-cattle/', 'https://www.ifa.ie/farm-sectors/ifa-meets-canadian-cattlemens-association-on-beef/', 'https://www.ifa.ie/markets-and-prices/tighter-cattle-supplies-brings-more-bite-to-beef-trade-as-uk-prices-continue-to-rise-ifa/', 'https://www.ifa.ie/markets-and-prices/beef-farmers-digging-in-hard-on-cattle-prices-ifa/', 'https://www.ifa.ie/markets-and-prices/beef-finishers-determined-to-dig-in-on-cattle-prices-ifa/', 'https://www.ifa.ie/markets-and-prices/new-data-on-beef-consumption-and-retail-price-exposes-processors-on-cattle-price-gap-ifa/', 'https://www.ifa.ie/markets-and-prices/uk-beef-price-rise-must-lift-irish-cattle-prices-ifa/']\n",
      "['https://www.ifa.ie/farm-sectors/solid-demand-for-beef-cattle-as-christmas-market-begins/', 'https://www.ifa.ie/farm-sectors/news-article-4471/', 'https://www.ifa.ie/farm-sectors/cattle-finishers-demand-more-on-beef-ifa/', 'https://www.ifa.ie/markets-and-prices/strong-beef-market-demand-should-be-reflected-in-higher-cattle-prices/', 'https://www.ifa.ie/farm-sectors/cattle-supplies-tighter-as-beef-demand-remains-very-strong/', 'https://www.ifa.ie/farm-sectors/factories-paying-more-to-get-cattle-with-strong-beef-demand/', 'https://www.ifa.ie/farm-sectors/strong-manufacturing-beef-market-demand-leaves-factories-looking-for-cattle/', 'https://www.ifa.ie/farm-sectors/ifa-meets-canadian-cattlemens-association-on-beef/', 'https://www.ifa.ie/markets-and-prices/tighter-cattle-supplies-brings-more-bite-to-beef-trade-as-uk-prices-continue-to-rise-ifa/', 'https://www.ifa.ie/markets-and-prices/beef-farmers-digging-in-hard-on-cattle-prices-ifa/', 'https://www.ifa.ie/markets-and-prices/beef-finishers-determined-to-dig-in-on-cattle-prices-ifa/', 'https://www.ifa.ie/markets-and-prices/new-data-on-beef-consumption-and-retail-price-exposes-processors-on-cattle-price-gap-ifa/', 'https://www.ifa.ie/markets-and-prices/uk-beef-price-rise-must-lift-irish-cattle-prices-ifa/']\n"
     ]
    }
   ],
   "source": [
    "for link in links:\n",
    "    print(links)"
   ]
  },
  {
   "cell_type": "code",
   "execution_count": 7,
   "id": "b9450104",
   "metadata": {
    "ExecuteTime": {
     "end_time": "2022-05-15T13:21:04.243041Z",
     "start_time": "2022-05-15T13:20:51.291436Z"
    }
   },
   "outputs": [
    {
     "name": "stdout",
     "output_type": "stream",
     "text": [
      "https://www.ifa.ie/page/2/?s=beef+cattle\n",
      "https://www.ifa.ie/farm-sectors/solid-demand-for-beef-cattle-as-christmas-market-begins/\n",
      "https://www.ifa.ie/page/3/?s=beef+cattle\n",
      "https://www.ifa.ie/farm-sectors/solid-demand-for-beef-cattle-as-christmas-market-begins/\n",
      "https://www.ifa.ie/page/48/?s=beef+cattle\n",
      "https://www.ifa.ie/farm-sectors/solid-demand-for-beef-cattle-as-christmas-market-begins/\n",
      "https://www.ifa.ie/page/2/?s=beef+cattle\n",
      "https://www.ifa.ie/farm-sectors/solid-demand-for-beef-cattle-as-christmas-market-begins/\n",
      "https://www.ifa.ie/page/2/?s=beef+cattle\n",
      "https://www.ifa.ie/farm-sectors/news-article-4471/\n",
      "https://www.ifa.ie/page/3/?s=beef+cattle\n",
      "https://www.ifa.ie/farm-sectors/news-article-4471/\n",
      "https://www.ifa.ie/page/48/?s=beef+cattle\n",
      "https://www.ifa.ie/farm-sectors/news-article-4471/\n",
      "https://www.ifa.ie/page/2/?s=beef+cattle\n",
      "https://www.ifa.ie/farm-sectors/news-article-4471/\n",
      "https://www.ifa.ie/page/2/?s=beef+cattle\n",
      "https://www.ifa.ie/farm-sectors/cattle-finishers-demand-more-on-beef-ifa/\n",
      "https://www.ifa.ie/page/3/?s=beef+cattle\n",
      "https://www.ifa.ie/farm-sectors/cattle-finishers-demand-more-on-beef-ifa/\n",
      "https://www.ifa.ie/page/48/?s=beef+cattle\n",
      "https://www.ifa.ie/farm-sectors/cattle-finishers-demand-more-on-beef-ifa/\n",
      "https://www.ifa.ie/page/2/?s=beef+cattle\n",
      "https://www.ifa.ie/farm-sectors/cattle-finishers-demand-more-on-beef-ifa/\n",
      "https://www.ifa.ie/page/2/?s=beef+cattle\n",
      "https://www.ifa.ie/markets-and-prices/strong-beef-market-demand-should-be-reflected-in-higher-cattle-prices/\n",
      "https://www.ifa.ie/page/3/?s=beef+cattle\n",
      "https://www.ifa.ie/markets-and-prices/strong-beef-market-demand-should-be-reflected-in-higher-cattle-prices/\n",
      "https://www.ifa.ie/page/48/?s=beef+cattle\n",
      "https://www.ifa.ie/markets-and-prices/strong-beef-market-demand-should-be-reflected-in-higher-cattle-prices/\n",
      "https://www.ifa.ie/page/2/?s=beef+cattle\n",
      "https://www.ifa.ie/markets-and-prices/strong-beef-market-demand-should-be-reflected-in-higher-cattle-prices/\n",
      "https://www.ifa.ie/page/2/?s=beef+cattle\n",
      "https://www.ifa.ie/farm-sectors/cattle-supplies-tighter-as-beef-demand-remains-very-strong/\n",
      "https://www.ifa.ie/page/3/?s=beef+cattle\n",
      "https://www.ifa.ie/farm-sectors/cattle-supplies-tighter-as-beef-demand-remains-very-strong/\n",
      "https://www.ifa.ie/page/48/?s=beef+cattle\n",
      "https://www.ifa.ie/farm-sectors/cattle-supplies-tighter-as-beef-demand-remains-very-strong/\n",
      "https://www.ifa.ie/page/2/?s=beef+cattle\n",
      "https://www.ifa.ie/farm-sectors/cattle-supplies-tighter-as-beef-demand-remains-very-strong/\n",
      "https://www.ifa.ie/page/2/?s=beef+cattle\n",
      "https://www.ifa.ie/farm-sectors/factories-paying-more-to-get-cattle-with-strong-beef-demand/\n",
      "https://www.ifa.ie/page/3/?s=beef+cattle\n",
      "https://www.ifa.ie/farm-sectors/factories-paying-more-to-get-cattle-with-strong-beef-demand/\n",
      "https://www.ifa.ie/page/48/?s=beef+cattle\n",
      "https://www.ifa.ie/farm-sectors/factories-paying-more-to-get-cattle-with-strong-beef-demand/\n",
      "https://www.ifa.ie/page/2/?s=beef+cattle\n",
      "https://www.ifa.ie/farm-sectors/factories-paying-more-to-get-cattle-with-strong-beef-demand/\n",
      "https://www.ifa.ie/page/2/?s=beef+cattle\n",
      "https://www.ifa.ie/farm-sectors/strong-manufacturing-beef-market-demand-leaves-factories-looking-for-cattle/\n",
      "https://www.ifa.ie/page/3/?s=beef+cattle\n",
      "https://www.ifa.ie/farm-sectors/strong-manufacturing-beef-market-demand-leaves-factories-looking-for-cattle/\n",
      "https://www.ifa.ie/page/48/?s=beef+cattle\n",
      "https://www.ifa.ie/farm-sectors/strong-manufacturing-beef-market-demand-leaves-factories-looking-for-cattle/\n",
      "https://www.ifa.ie/page/2/?s=beef+cattle\n",
      "https://www.ifa.ie/farm-sectors/strong-manufacturing-beef-market-demand-leaves-factories-looking-for-cattle/\n",
      "https://www.ifa.ie/page/2/?s=beef+cattle\n",
      "https://www.ifa.ie/farm-sectors/ifa-meets-canadian-cattlemens-association-on-beef/\n",
      "https://www.ifa.ie/page/3/?s=beef+cattle\n",
      "https://www.ifa.ie/farm-sectors/ifa-meets-canadian-cattlemens-association-on-beef/\n",
      "https://www.ifa.ie/page/48/?s=beef+cattle\n",
      "https://www.ifa.ie/farm-sectors/ifa-meets-canadian-cattlemens-association-on-beef/\n",
      "https://www.ifa.ie/page/2/?s=beef+cattle\n",
      "https://www.ifa.ie/farm-sectors/ifa-meets-canadian-cattlemens-association-on-beef/\n",
      "https://www.ifa.ie/page/2/?s=beef+cattle\n",
      "https://www.ifa.ie/markets-and-prices/tighter-cattle-supplies-brings-more-bite-to-beef-trade-as-uk-prices-continue-to-rise-ifa/\n",
      "https://www.ifa.ie/page/3/?s=beef+cattle\n",
      "https://www.ifa.ie/markets-and-prices/tighter-cattle-supplies-brings-more-bite-to-beef-trade-as-uk-prices-continue-to-rise-ifa/\n",
      "https://www.ifa.ie/page/48/?s=beef+cattle\n",
      "https://www.ifa.ie/markets-and-prices/tighter-cattle-supplies-brings-more-bite-to-beef-trade-as-uk-prices-continue-to-rise-ifa/\n",
      "https://www.ifa.ie/page/2/?s=beef+cattle\n",
      "https://www.ifa.ie/markets-and-prices/tighter-cattle-supplies-brings-more-bite-to-beef-trade-as-uk-prices-continue-to-rise-ifa/\n",
      "https://www.ifa.ie/page/2/?s=beef+cattle\n",
      "https://www.ifa.ie/markets-and-prices/beef-farmers-digging-in-hard-on-cattle-prices-ifa/\n",
      "https://www.ifa.ie/page/3/?s=beef+cattle\n",
      "https://www.ifa.ie/markets-and-prices/beef-farmers-digging-in-hard-on-cattle-prices-ifa/\n",
      "https://www.ifa.ie/page/48/?s=beef+cattle\n",
      "https://www.ifa.ie/markets-and-prices/beef-farmers-digging-in-hard-on-cattle-prices-ifa/\n",
      "https://www.ifa.ie/page/2/?s=beef+cattle\n",
      "https://www.ifa.ie/markets-and-prices/beef-farmers-digging-in-hard-on-cattle-prices-ifa/\n",
      "https://www.ifa.ie/page/2/?s=beef+cattle\n",
      "https://www.ifa.ie/markets-and-prices/beef-finishers-determined-to-dig-in-on-cattle-prices-ifa/\n",
      "https://www.ifa.ie/page/3/?s=beef+cattle\n",
      "https://www.ifa.ie/markets-and-prices/beef-finishers-determined-to-dig-in-on-cattle-prices-ifa/\n",
      "https://www.ifa.ie/page/48/?s=beef+cattle\n",
      "https://www.ifa.ie/markets-and-prices/beef-finishers-determined-to-dig-in-on-cattle-prices-ifa/\n",
      "https://www.ifa.ie/page/2/?s=beef+cattle\n",
      "https://www.ifa.ie/markets-and-prices/beef-finishers-determined-to-dig-in-on-cattle-prices-ifa/\n",
      "https://www.ifa.ie/page/2/?s=beef+cattle\n",
      "https://www.ifa.ie/markets-and-prices/new-data-on-beef-consumption-and-retail-price-exposes-processors-on-cattle-price-gap-ifa/\n",
      "https://www.ifa.ie/page/3/?s=beef+cattle\n",
      "https://www.ifa.ie/markets-and-prices/new-data-on-beef-consumption-and-retail-price-exposes-processors-on-cattle-price-gap-ifa/\n",
      "https://www.ifa.ie/page/48/?s=beef+cattle\n",
      "https://www.ifa.ie/markets-and-prices/new-data-on-beef-consumption-and-retail-price-exposes-processors-on-cattle-price-gap-ifa/\n",
      "https://www.ifa.ie/page/2/?s=beef+cattle\n",
      "https://www.ifa.ie/markets-and-prices/new-data-on-beef-consumption-and-retail-price-exposes-processors-on-cattle-price-gap-ifa/\n",
      "https://www.ifa.ie/page/2/?s=beef+cattle\n",
      "https://www.ifa.ie/markets-and-prices/uk-beef-price-rise-must-lift-irish-cattle-prices-ifa/\n",
      "https://www.ifa.ie/page/3/?s=beef+cattle\n",
      "https://www.ifa.ie/markets-and-prices/uk-beef-price-rise-must-lift-irish-cattle-prices-ifa/\n",
      "https://www.ifa.ie/page/48/?s=beef+cattle\n",
      "https://www.ifa.ie/markets-and-prices/uk-beef-price-rise-must-lift-irish-cattle-prices-ifa/\n",
      "https://www.ifa.ie/page/2/?s=beef+cattle\n",
      "https://www.ifa.ie/markets-and-prices/uk-beef-price-rise-must-lift-irish-cattle-prices-ifa/\n",
      "https://www.ifa.ie/page/2/?s=beef+cattle+prices\n",
      "https://www.ifa.ie/markets-and-prices/strong-beef-market-demand-should-be-reflected-in-higher-cattle-prices/\n",
      "https://www.ifa.ie/page/3/?s=beef+cattle+prices\n",
      "https://www.ifa.ie/markets-and-prices/strong-beef-market-demand-should-be-reflected-in-higher-cattle-prices/\n",
      "https://www.ifa.ie/page/37/?s=beef+cattle+prices\n",
      "https://www.ifa.ie/markets-and-prices/strong-beef-market-demand-should-be-reflected-in-higher-cattle-prices/\n",
      "https://www.ifa.ie/page/2/?s=beef+cattle+prices\n",
      "https://www.ifa.ie/markets-and-prices/strong-beef-market-demand-should-be-reflected-in-higher-cattle-prices/\n",
      "https://www.ifa.ie/page/2/?s=beef+cattle+prices\n",
      "https://www.ifa.ie/markets-and-prices/tighter-cattle-supplies-brings-more-bite-to-beef-trade-as-uk-prices-continue-to-rise-ifa/\n",
      "https://www.ifa.ie/page/3/?s=beef+cattle+prices\n",
      "https://www.ifa.ie/markets-and-prices/tighter-cattle-supplies-brings-more-bite-to-beef-trade-as-uk-prices-continue-to-rise-ifa/\n",
      "https://www.ifa.ie/page/37/?s=beef+cattle+prices\n",
      "https://www.ifa.ie/markets-and-prices/tighter-cattle-supplies-brings-more-bite-to-beef-trade-as-uk-prices-continue-to-rise-ifa/\n",
      "https://www.ifa.ie/page/2/?s=beef+cattle+prices\n",
      "https://www.ifa.ie/markets-and-prices/tighter-cattle-supplies-brings-more-bite-to-beef-trade-as-uk-prices-continue-to-rise-ifa/\n"
     ]
    },
    {
     "name": "stdout",
     "output_type": "stream",
     "text": [
      "https://www.ifa.ie/page/2/?s=beef+cattle+prices\n",
      "https://www.ifa.ie/markets-and-prices/beef-farmers-digging-in-hard-on-cattle-prices-ifa/\n",
      "https://www.ifa.ie/page/3/?s=beef+cattle+prices\n",
      "https://www.ifa.ie/markets-and-prices/beef-farmers-digging-in-hard-on-cattle-prices-ifa/\n",
      "https://www.ifa.ie/page/37/?s=beef+cattle+prices\n",
      "https://www.ifa.ie/markets-and-prices/beef-farmers-digging-in-hard-on-cattle-prices-ifa/\n",
      "https://www.ifa.ie/page/2/?s=beef+cattle+prices\n",
      "https://www.ifa.ie/markets-and-prices/beef-farmers-digging-in-hard-on-cattle-prices-ifa/\n",
      "https://www.ifa.ie/page/2/?s=beef+cattle+prices\n",
      "https://www.ifa.ie/markets-and-prices/beef-finishers-determined-to-dig-in-on-cattle-prices-ifa/\n",
      "https://www.ifa.ie/page/3/?s=beef+cattle+prices\n",
      "https://www.ifa.ie/markets-and-prices/beef-finishers-determined-to-dig-in-on-cattle-prices-ifa/\n",
      "https://www.ifa.ie/page/37/?s=beef+cattle+prices\n",
      "https://www.ifa.ie/markets-and-prices/beef-finishers-determined-to-dig-in-on-cattle-prices-ifa/\n",
      "https://www.ifa.ie/page/2/?s=beef+cattle+prices\n",
      "https://www.ifa.ie/markets-and-prices/beef-finishers-determined-to-dig-in-on-cattle-prices-ifa/\n",
      "https://www.ifa.ie/page/2/?s=beef+cattle+prices\n",
      "https://www.ifa.ie/markets-and-prices/uk-beef-price-rise-must-lift-irish-cattle-prices-ifa/\n",
      "https://www.ifa.ie/page/3/?s=beef+cattle+prices\n",
      "https://www.ifa.ie/markets-and-prices/uk-beef-price-rise-must-lift-irish-cattle-prices-ifa/\n",
      "https://www.ifa.ie/page/37/?s=beef+cattle+prices\n",
      "https://www.ifa.ie/markets-and-prices/uk-beef-price-rise-must-lift-irish-cattle-prices-ifa/\n",
      "https://www.ifa.ie/page/2/?s=beef+cattle+prices\n",
      "https://www.ifa.ie/markets-and-prices/uk-beef-price-rise-must-lift-irish-cattle-prices-ifa/\n",
      "https://www.ifa.ie/page/2/?s=beef+cattle+prices\n",
      "https://www.ifa.ie/markets-and-prices/news-article-5208/\n",
      "https://www.ifa.ie/page/3/?s=beef+cattle+prices\n",
      "https://www.ifa.ie/markets-and-prices/news-article-5208/\n",
      "https://www.ifa.ie/page/37/?s=beef+cattle+prices\n",
      "https://www.ifa.ie/markets-and-prices/news-article-5208/\n",
      "https://www.ifa.ie/page/2/?s=beef+cattle+prices\n",
      "https://www.ifa.ie/markets-and-prices/news-article-5208/\n",
      "https://www.ifa.ie/page/2/?s=beef+cattle+prices\n",
      "https://www.ifa.ie/markets-and-prices/beef-sheep-update-13th-may/\n",
      "https://www.ifa.ie/page/3/?s=beef+cattle+prices\n",
      "https://www.ifa.ie/markets-and-prices/beef-sheep-update-13th-may/\n",
      "https://www.ifa.ie/page/37/?s=beef+cattle+prices\n",
      "https://www.ifa.ie/markets-and-prices/beef-sheep-update-13th-may/\n",
      "https://www.ifa.ie/page/2/?s=beef+cattle+prices\n",
      "https://www.ifa.ie/markets-and-prices/beef-sheep-update-13th-may/\n",
      "https://www.ifa.ie/page/2/?s=beef+cattle+prices\n",
      "https://www.ifa.ie/farm-sectors/suckler-and-cattle-farmers-most-exposed-by-inputs-increases/\n",
      "https://www.ifa.ie/page/3/?s=beef+cattle+prices\n",
      "https://www.ifa.ie/farm-sectors/suckler-and-cattle-farmers-most-exposed-by-inputs-increases/\n",
      "https://www.ifa.ie/page/37/?s=beef+cattle+prices\n",
      "https://www.ifa.ie/farm-sectors/suckler-and-cattle-farmers-most-exposed-by-inputs-increases/\n",
      "https://www.ifa.ie/page/2/?s=beef+cattle+prices\n",
      "https://www.ifa.ie/farm-sectors/suckler-and-cattle-farmers-most-exposed-by-inputs-increases/\n",
      "https://www.ifa.ie/page/2/?s=beef+cattle+prices\n",
      "https://www.ifa.ie/markets-and-prices/beef-sheep-update/\n",
      "https://www.ifa.ie/page/3/?s=beef+cattle+prices\n",
      "https://www.ifa.ie/markets-and-prices/beef-sheep-update/\n",
      "https://www.ifa.ie/page/37/?s=beef+cattle+prices\n",
      "https://www.ifa.ie/markets-and-prices/beef-sheep-update/\n",
      "https://www.ifa.ie/page/2/?s=beef+cattle+prices\n",
      "https://www.ifa.ie/markets-and-prices/beef-sheep-update/\n",
      "https://www.ifa.ie/page/2/?s=beef+cattle+prices\n",
      "https://www.ifa.ie/farm-sectors/focus-of-beef-farmers-remains-on-sustainability/\n",
      "https://www.ifa.ie/page/3/?s=beef+cattle+prices\n",
      "https://www.ifa.ie/farm-sectors/focus-of-beef-farmers-remains-on-sustainability/\n",
      "https://www.ifa.ie/page/37/?s=beef+cattle+prices\n",
      "https://www.ifa.ie/farm-sectors/focus-of-beef-farmers-remains-on-sustainability/\n",
      "https://www.ifa.ie/page/2/?s=beef+cattle+prices\n",
      "https://www.ifa.ie/farm-sectors/focus-of-beef-farmers-remains-on-sustainability/\n",
      "https://www.ifa.ie/page/2/?s=beef+cattle+prices\n",
      "https://www.ifa.ie/farm-sectors/suckler-and-beef-farmers-must-be-supported-at-critical-time-for-sector/\n",
      "https://www.ifa.ie/page/3/?s=beef+cattle+prices\n",
      "https://www.ifa.ie/farm-sectors/suckler-and-beef-farmers-must-be-supported-at-critical-time-for-sector/\n",
      "https://www.ifa.ie/page/37/?s=beef+cattle+prices\n",
      "https://www.ifa.ie/farm-sectors/suckler-and-beef-farmers-must-be-supported-at-critical-time-for-sector/\n",
      "https://www.ifa.ie/page/2/?s=beef+cattle+prices\n",
      "https://www.ifa.ie/farm-sectors/suckler-and-beef-farmers-must-be-supported-at-critical-time-for-sector/\n",
      "https://www.ifa.ie/page/2/?s=beef+cattle+prices\n",
      "https://www.ifa.ie/markets-and-prices/beef-sheep-update-25th-march/\n",
      "https://www.ifa.ie/page/3/?s=beef+cattle+prices\n",
      "https://www.ifa.ie/markets-and-prices/beef-sheep-update-25th-march/\n",
      "https://www.ifa.ie/page/37/?s=beef+cattle+prices\n",
      "https://www.ifa.ie/markets-and-prices/beef-sheep-update-25th-march/\n",
      "https://www.ifa.ie/page/2/?s=beef+cattle+prices\n",
      "https://www.ifa.ie/markets-and-prices/beef-sheep-update-25th-march/\n",
      "https://www.ifa.ie/page/2/?s=beef+cattle+prices\n",
      "https://www.ifa.ie/farm-sectors/measures-needed-to-avoid-disruption-on-beef-and-suckler-farms/\n",
      "https://www.ifa.ie/page/3/?s=beef+cattle+prices\n",
      "https://www.ifa.ie/farm-sectors/measures-needed-to-avoid-disruption-on-beef-and-suckler-farms/\n",
      "https://www.ifa.ie/page/37/?s=beef+cattle+prices\n",
      "https://www.ifa.ie/farm-sectors/measures-needed-to-avoid-disruption-on-beef-and-suckler-farms/\n",
      "https://www.ifa.ie/page/2/?s=beef+cattle+prices\n",
      "https://www.ifa.ie/farm-sectors/measures-needed-to-avoid-disruption-on-beef-and-suckler-farms/\n"
     ]
    }
   ],
   "source": [
    "links = []\n",
    "for term in searchTerms:\n",
    "    # IFA\n",
    "    urlQuery = \"https://www.ifa.ie/?s=\" + term \n",
    "    driver.get(urlQuery)\n",
    "    elems = driver.find_elements_by_css_selector(\".col-sm-12 [href]\")\n",
    "    links = [elem.get_attribute('href') for elem in elems]\n",
    "    \n",
    "    for link in links:\n",
    "        # IFA\n",
    "        driver.get(urlQuery)\n",
    "        elems = driver.find_elements_by_css_selector(\".nav-links [href]\")\n",
    "        pages = [elem.get_attribute('href') for elem in elems]\n",
    "\n",
    "        for page in pages:\n",
    "            print(page)\n",
    "            print(link)"
   ]
  },
  {
   "cell_type": "code",
   "execution_count": null,
   "id": "88288085",
   "metadata": {},
   "outputs": [],
   "source": [
    "# IFA\n",
    "urlQuery = \"https://www.ifa.ie/?s=beef+or+cattle\"\n",
    "driver.get(urlQuery)\n",
    "elems = driver.find_elements_by_css_selector(\".col-sm-12 [href]\")\n",
    "links = [elem.get_attribute('href') for elem in elems]\n",
    "\n",
    "for link in links:\n",
    "    print(link)\n",
    "    \n",
    "# IFA\n",
    "driver.get(urlQuery)\n",
    "elems = driver.find_elements_by_css_selector(\".nav-links [href]\")\n",
    "pages = [elem.get_attribute('href') for elem in elems]\n",
    "\n",
    "for page in pages:\n",
    "    print(page)\n",
    "    \n",
    "driver.get(links[12])\n",
    "page = driver.find_element_by_xpath(\"/html/body\")\n",
    "print('URL Title: \\n {} \\n'.format(page.find_element(By.CLASS_NAME, 'entry-title').text))\n",
    "print('URL Date:\\n {} \\n'.format(page.find_element(By.CLASS_NAME, 'entry-date').text))\n",
    "print('URL Text: \\n {}'.format(page.find_element(By.CLASS_NAME, 'single-content').text))"
   ]
  },
  {
   "cell_type": "code",
   "execution_count": null,
   "id": "c5fabbd2",
   "metadata": {},
   "outputs": [],
   "source": []
  },
  {
   "cell_type": "code",
   "execution_count": null,
   "id": "305b45c9",
   "metadata": {},
   "outputs": [],
   "source": []
  },
  {
   "cell_type": "code",
   "execution_count": 11,
   "id": "60e587d5",
   "metadata": {
    "ExecuteTime": {
     "end_time": "2022-05-11T12:38:21.190338Z",
     "start_time": "2022-05-11T12:38:19.960338Z"
    },
    "scrolled": true
   },
   "outputs": [],
   "source": [
    "# IFA\n",
    "urlQuery = \"https://www.ifa.ie/?s=beef+or+cattle\"\n",
    "driver.get(urlQuery)\n",
    "elems = driver.find_elements_by_css_selector(\".col-sm-12 [href]\")\n",
    "links = [elem.get_attribute('href') for elem in elems]"
   ]
  },
  {
   "cell_type": "code",
   "execution_count": 12,
   "id": "794e76bb",
   "metadata": {
    "ExecuteTime": {
     "end_time": "2022-05-11T12:38:21.205340Z",
     "start_time": "2022-05-11T12:38:21.192341Z"
    }
   },
   "outputs": [
    {
     "name": "stdout",
     "output_type": "stream",
     "text": [
      "https://www.ifa.ie/farm-sectors/cattle-finishers-demand-more-on-beef-ifa/\n",
      "https://www.ifa.ie/farm-sectors/solid-demand-for-beef-cattle-as-christmas-market-begins/\n",
      "https://www.ifa.ie/markets-and-prices/strong-beef-market-demand-should-be-reflected-in-higher-cattle-prices/\n",
      "https://www.ifa.ie/farm-sectors/cattle-supplies-tighter-as-beef-demand-remains-very-strong/\n",
      "https://www.ifa.ie/farm-sectors/factories-paying-more-to-get-cattle-with-strong-beef-demand/\n",
      "https://www.ifa.ie/farm-sectors/strong-manufacturing-beef-market-demand-leaves-factories-looking-for-cattle/\n",
      "https://www.ifa.ie/farm-sectors/ifa-meets-canadian-cattlemens-association-on-beef/\n",
      "https://www.ifa.ie/markets-and-prices/tighter-cattle-supplies-brings-more-bite-to-beef-trade-as-uk-prices-continue-to-rise-ifa/\n",
      "https://www.ifa.ie/markets-and-prices/beef-farmers-digging-in-hard-on-cattle-prices-ifa/\n",
      "https://www.ifa.ie/markets-and-prices/beef-finishers-determined-to-dig-in-on-cattle-prices-ifa/\n",
      "https://www.ifa.ie/markets-and-prices/new-data-on-beef-consumption-and-retail-price-exposes-processors-on-cattle-price-gap-ifa/\n",
      "https://www.ifa.ie/markets-and-prices/uk-beef-price-rise-must-lift-irish-cattle-prices-ifa/\n",
      "https://www.ifa.ie/farm-sectors/ifa-meet-tesco-on-beef-to-progress-solution-on-cattle-going-north/\n"
     ]
    }
   ],
   "source": [
    "for link in links:\n",
    "    print(link)"
   ]
  },
  {
   "cell_type": "code",
   "execution_count": null,
   "id": "db87114e",
   "metadata": {},
   "outputs": [],
   "source": []
  },
  {
   "cell_type": "code",
   "execution_count": null,
   "id": "53fdee01",
   "metadata": {},
   "outputs": [],
   "source": []
  },
  {
   "cell_type": "code",
   "execution_count": null,
   "id": "4c4c6d68",
   "metadata": {},
   "outputs": [],
   "source": []
  },
  {
   "cell_type": "code",
   "execution_count": null,
   "id": "9075e9d9",
   "metadata": {},
   "outputs": [],
   "source": []
  },
  {
   "cell_type": "code",
   "execution_count": 8,
   "id": "8e39a677",
   "metadata": {
    "ExecuteTime": {
     "end_time": "2022-05-15T13:21:08.939213Z",
     "start_time": "2022-05-15T13:21:08.661177Z"
    }
   },
   "outputs": [],
   "source": [
    "# IFA\n",
    "maxPages = 200\n",
    "driver.get(urlQuery)\n",
    "elems = driver.find_elements_by_css_selector(\".nav-links [href]\")\n",
    "pages = [elem.get_attribute('href') for elem in elems]"
   ]
  },
  {
   "cell_type": "code",
   "execution_count": 21,
   "id": "25020453",
   "metadata": {
    "ExecuteTime": {
     "end_time": "2022-05-15T13:58:15.078867Z",
     "start_time": "2022-05-15T13:58:12.693562Z"
    }
   },
   "outputs": [],
   "source": [
    "currentUrl = searchUrl + str(1) + '/?s=' + searchTerms\n",
    "driver.get(currentUrl)\n",
    "elems = driver.find_elements_by_css_selector(\".col-sm-12 [href]\")\n",
    "links = [elem.get_attribute('href') for elem in elems]"
   ]
  },
  {
   "cell_type": "code",
   "execution_count": 22,
   "id": "175da21d",
   "metadata": {
    "ExecuteTime": {
     "end_time": "2022-05-15T13:58:26.826184Z",
     "start_time": "2022-05-15T13:58:26.809185Z"
    }
   },
   "outputs": [
    {
     "name": "stdout",
     "output_type": "stream",
     "text": [
      "https://www.ifa.ie/markets-and-prices/strong-beef-market-demand-should-be-reflected-in-higher-cattle-prices/\n",
      "https://www.ifa.ie/markets-and-prices/tighter-cattle-supplies-brings-more-bite-to-beef-trade-as-uk-prices-continue-to-rise-ifa/\n",
      "https://www.ifa.ie/markets-and-prices/beef-farmers-digging-in-hard-on-cattle-prices-ifa/\n",
      "https://www.ifa.ie/markets-and-prices/beef-finishers-determined-to-dig-in-on-cattle-prices-ifa/\n",
      "https://www.ifa.ie/markets-and-prices/uk-beef-price-rise-must-lift-irish-cattle-prices-ifa/\n",
      "https://www.ifa.ie/markets-and-prices/news-article-5208/\n",
      "https://www.ifa.ie/markets-and-prices/beef-sheep-update-13th-may/\n",
      "https://www.ifa.ie/farm-sectors/suckler-and-cattle-farmers-most-exposed-by-inputs-increases/\n",
      "https://www.ifa.ie/markets-and-prices/beef-sheep-update/\n",
      "https://www.ifa.ie/farm-sectors/focus-of-beef-farmers-remains-on-sustainability/\n",
      "https://www.ifa.ie/farm-sectors/suckler-and-beef-farmers-must-be-supported-at-critical-time-for-sector/\n",
      "https://www.ifa.ie/markets-and-prices/beef-sheep-update-25th-march/\n",
      "https://www.ifa.ie/farm-sectors/measures-needed-to-avoid-disruption-on-beef-and-suckler-farms/\n"
     ]
    }
   ],
   "source": [
    "for link in links:\n",
    "    print(link)"
   ]
  },
  {
   "cell_type": "code",
   "execution_count": 23,
   "id": "2038d8e1",
   "metadata": {
    "ExecuteTime": {
     "end_time": "2022-05-15T14:00:40.295790Z",
     "start_time": "2022-05-15T13:59:21.883564Z"
    },
    "scrolled": true
   },
   "outputs": [
    {
     "name": "stdout",
     "output_type": "stream",
     "text": [
      "0\n",
      "1\n",
      "2\n",
      "3\n",
      "4\n",
      "5\n",
      "6\n"
     ]
    },
    {
     "ename": "NoSuchElementException",
     "evalue": "Message: Unable to locate element: .entry-date\nStacktrace:\nWebDriverError@chrome://remote/content/shared/webdriver/Errors.jsm:183:5\nNoSuchElementError@chrome://remote/content/shared/webdriver/Errors.jsm:395:5\nelement.find/</<@chrome://remote/content/marionette/element.js:300:16\n",
     "output_type": "error",
     "traceback": [
      "\u001b[1;31m---------------------------------------------------------------------------\u001b[0m",
      "\u001b[1;31mNoSuchElementException\u001b[0m                    Traceback (most recent call last)",
      "Input \u001b[1;32mIn [23]\u001b[0m, in \u001b[0;36m<cell line: 10>\u001b[1;34m()\u001b[0m\n\u001b[0;32m     18\u001b[0m     page \u001b[38;5;241m=\u001b[39m driver\u001b[38;5;241m.\u001b[39mfind_element_by_xpath(\u001b[38;5;124m\"\u001b[39m\u001b[38;5;124m/html/body\u001b[39m\u001b[38;5;124m\"\u001b[39m)\n\u001b[0;32m     19\u001b[0m     titles\u001b[38;5;241m.\u001b[39mappend(page\u001b[38;5;241m.\u001b[39mfind_element(By\u001b[38;5;241m.\u001b[39mCLASS_NAME, \u001b[38;5;124m'\u001b[39m\u001b[38;5;124mentry-title\u001b[39m\u001b[38;5;124m'\u001b[39m)\u001b[38;5;241m.\u001b[39mtext)\n\u001b[1;32m---> 20\u001b[0m     dates\u001b[38;5;241m.\u001b[39mappend(\u001b[43mpage\u001b[49m\u001b[38;5;241;43m.\u001b[39;49m\u001b[43mfind_element\u001b[49m\u001b[43m(\u001b[49m\u001b[43mBy\u001b[49m\u001b[38;5;241;43m.\u001b[39;49m\u001b[43mCLASS_NAME\u001b[49m\u001b[43m,\u001b[49m\u001b[43m \u001b[49m\u001b[38;5;124;43m'\u001b[39;49m\u001b[38;5;124;43mentry-date\u001b[39;49m\u001b[38;5;124;43m'\u001b[39;49m\u001b[43m)\u001b[49m\u001b[38;5;241m.\u001b[39mtext)\n\u001b[0;32m     21\u001b[0m     text\u001b[38;5;241m.\u001b[39mappend(page\u001b[38;5;241m.\u001b[39mfind_element(By\u001b[38;5;241m.\u001b[39mCLASS_NAME, \u001b[38;5;124m'\u001b[39m\u001b[38;5;124msingle-content\u001b[39m\u001b[38;5;124m'\u001b[39m)\u001b[38;5;241m.\u001b[39mtext)\n\u001b[0;32m     22\u001b[0m \u001b[38;5;28mprint\u001b[39m(i)\n",
      "File \u001b[1;32mC:\\ProgramData\\Anaconda3\\envs\\pycarot\\lib\\site-packages\\selenium\\webdriver\\remote\\webelement.py:763\u001b[0m, in \u001b[0;36mWebElement.find_element\u001b[1;34m(self, by, value)\u001b[0m\n\u001b[0;32m    760\u001b[0m     by \u001b[38;5;241m=\u001b[39m By\u001b[38;5;241m.\u001b[39mCSS_SELECTOR\n\u001b[0;32m    761\u001b[0m     value \u001b[38;5;241m=\u001b[39m \u001b[38;5;124m'\u001b[39m\u001b[38;5;124m[name=\u001b[39m\u001b[38;5;124m\"\u001b[39m\u001b[38;5;132;01m%s\u001b[39;00m\u001b[38;5;124m\"\u001b[39m\u001b[38;5;124m]\u001b[39m\u001b[38;5;124m'\u001b[39m \u001b[38;5;241m%\u001b[39m value\n\u001b[1;32m--> 763\u001b[0m \u001b[38;5;28;01mreturn\u001b[39;00m \u001b[38;5;28;43mself\u001b[39;49m\u001b[38;5;241;43m.\u001b[39;49m\u001b[43m_execute\u001b[49m\u001b[43m(\u001b[49m\u001b[43mCommand\u001b[49m\u001b[38;5;241;43m.\u001b[39;49m\u001b[43mFIND_CHILD_ELEMENT\u001b[49m\u001b[43m,\u001b[49m\n\u001b[0;32m    764\u001b[0m \u001b[43m                     \u001b[49m\u001b[43m{\u001b[49m\u001b[38;5;124;43m\"\u001b[39;49m\u001b[38;5;124;43musing\u001b[39;49m\u001b[38;5;124;43m\"\u001b[39;49m\u001b[43m:\u001b[49m\u001b[43m \u001b[49m\u001b[43mby\u001b[49m\u001b[43m,\u001b[49m\u001b[43m \u001b[49m\u001b[38;5;124;43m\"\u001b[39;49m\u001b[38;5;124;43mvalue\u001b[39;49m\u001b[38;5;124;43m\"\u001b[39;49m\u001b[43m:\u001b[49m\u001b[43m \u001b[49m\u001b[43mvalue\u001b[49m\u001b[43m}\u001b[49m\u001b[43m)\u001b[49m[\u001b[38;5;124m'\u001b[39m\u001b[38;5;124mvalue\u001b[39m\u001b[38;5;124m'\u001b[39m]\n",
      "File \u001b[1;32mC:\\ProgramData\\Anaconda3\\envs\\pycarot\\lib\\site-packages\\selenium\\webdriver\\remote\\webelement.py:740\u001b[0m, in \u001b[0;36mWebElement._execute\u001b[1;34m(self, command, params)\u001b[0m\n\u001b[0;32m    738\u001b[0m     params \u001b[38;5;241m=\u001b[39m {}\n\u001b[0;32m    739\u001b[0m params[\u001b[38;5;124m'\u001b[39m\u001b[38;5;124mid\u001b[39m\u001b[38;5;124m'\u001b[39m] \u001b[38;5;241m=\u001b[39m \u001b[38;5;28mself\u001b[39m\u001b[38;5;241m.\u001b[39m_id\n\u001b[1;32m--> 740\u001b[0m \u001b[38;5;28;01mreturn\u001b[39;00m \u001b[38;5;28;43mself\u001b[39;49m\u001b[38;5;241;43m.\u001b[39;49m\u001b[43m_parent\u001b[49m\u001b[38;5;241;43m.\u001b[39;49m\u001b[43mexecute\u001b[49m\u001b[43m(\u001b[49m\u001b[43mcommand\u001b[49m\u001b[43m,\u001b[49m\u001b[43m \u001b[49m\u001b[43mparams\u001b[49m\u001b[43m)\u001b[49m\n",
      "File \u001b[1;32mC:\\ProgramData\\Anaconda3\\envs\\pycarot\\lib\\site-packages\\selenium\\webdriver\\remote\\webdriver.py:430\u001b[0m, in \u001b[0;36mWebDriver.execute\u001b[1;34m(self, driver_command, params)\u001b[0m\n\u001b[0;32m    428\u001b[0m response \u001b[38;5;241m=\u001b[39m \u001b[38;5;28mself\u001b[39m\u001b[38;5;241m.\u001b[39mcommand_executor\u001b[38;5;241m.\u001b[39mexecute(driver_command, params)\n\u001b[0;32m    429\u001b[0m \u001b[38;5;28;01mif\u001b[39;00m response:\n\u001b[1;32m--> 430\u001b[0m     \u001b[38;5;28;43mself\u001b[39;49m\u001b[38;5;241;43m.\u001b[39;49m\u001b[43merror_handler\u001b[49m\u001b[38;5;241;43m.\u001b[39;49m\u001b[43mcheck_response\u001b[49m\u001b[43m(\u001b[49m\u001b[43mresponse\u001b[49m\u001b[43m)\u001b[49m\n\u001b[0;32m    431\u001b[0m     response[\u001b[38;5;124m'\u001b[39m\u001b[38;5;124mvalue\u001b[39m\u001b[38;5;124m'\u001b[39m] \u001b[38;5;241m=\u001b[39m \u001b[38;5;28mself\u001b[39m\u001b[38;5;241m.\u001b[39m_unwrap_value(\n\u001b[0;32m    432\u001b[0m         response\u001b[38;5;241m.\u001b[39mget(\u001b[38;5;124m'\u001b[39m\u001b[38;5;124mvalue\u001b[39m\u001b[38;5;124m'\u001b[39m, \u001b[38;5;28;01mNone\u001b[39;00m))\n\u001b[0;32m    433\u001b[0m     \u001b[38;5;28;01mreturn\u001b[39;00m response\n",
      "File \u001b[1;32mC:\\ProgramData\\Anaconda3\\envs\\pycarot\\lib\\site-packages\\selenium\\webdriver\\remote\\errorhandler.py:247\u001b[0m, in \u001b[0;36mErrorHandler.check_response\u001b[1;34m(self, response)\u001b[0m\n\u001b[0;32m    245\u001b[0m         alert_text \u001b[38;5;241m=\u001b[39m value[\u001b[38;5;124m'\u001b[39m\u001b[38;5;124malert\u001b[39m\u001b[38;5;124m'\u001b[39m]\u001b[38;5;241m.\u001b[39mget(\u001b[38;5;124m'\u001b[39m\u001b[38;5;124mtext\u001b[39m\u001b[38;5;124m'\u001b[39m)\n\u001b[0;32m    246\u001b[0m     \u001b[38;5;28;01mraise\u001b[39;00m exception_class(message, screen, stacktrace, alert_text)  \u001b[38;5;66;03m# type: ignore[call-arg]  # mypy is not smart enough here\u001b[39;00m\n\u001b[1;32m--> 247\u001b[0m \u001b[38;5;28;01mraise\u001b[39;00m exception_class(message, screen, stacktrace)\n",
      "\u001b[1;31mNoSuchElementException\u001b[0m: Message: Unable to locate element: .entry-date\nStacktrace:\nWebDriverError@chrome://remote/content/shared/webdriver/Errors.jsm:183:5\nNoSuchElementError@chrome://remote/content/shared/webdriver/Errors.jsm:395:5\nelement.find/</<@chrome://remote/content/marionette/element.js:300:16\n"
     ]
    }
   ],
   "source": [
    "searchUrl = 'https://www.ifa.ie/page/'\n",
    "searchTerms = 'beef+cattle+prices'\n",
    "\n",
    "maxPages = 35\n",
    "dates = []\n",
    "titles = []\n",
    "urlLinks = []\n",
    "text = []\n",
    "\n",
    "for i in range(maxPages):\n",
    "    currentUrl = searchUrl + str(i+1) + '/?s=' + searchTerms\n",
    "    driver.get(currentUrl)\n",
    "    elems = driver.find_elements_by_css_selector(\".col-sm-12 [href]\")\n",
    "    links = [elem.get_attribute('href') for elem in elems]\n",
    "    for link in links:\n",
    "        driver.get(link)\n",
    "        urlLinks.append(link)\n",
    "        try: \n",
    "        page = driver.find_element_by_xpath(\"/html/body\")\n",
    "        titles.append(page.find_element(By.CLASS_NAME, 'entry-title').text)\n",
    "        dates.append(page.find_element(By.CLASS_NAME, 'entry-date').text)\n",
    "        text.append(page.find_element(By.CLASS_NAME, 'single-content').text)\n",
    "        except:\n",
    "            print('Could not get data for {}'.format(link))"
   ]
  },
  {
   "cell_type": "code",
   "execution_count": 16,
   "id": "07df083f",
   "metadata": {
    "ExecuteTime": {
     "end_time": "2022-05-15T13:49:03.745303Z",
     "start_time": "2022-05-15T13:49:03.738302Z"
    }
   },
   "outputs": [
    {
     "data": {
      "text/plain": [
       "3112"
      ]
     },
     "execution_count": 16,
     "metadata": {},
     "output_type": "execute_result"
    }
   ],
   "source": [
    "len(dates)"
   ]
  },
  {
   "cell_type": "code",
   "execution_count": 17,
   "id": "acdab839",
   "metadata": {
    "ExecuteTime": {
     "end_time": "2022-05-15T13:49:22.366072Z",
     "start_time": "2022-05-15T13:49:22.349073Z"
    }
   },
   "outputs": [
    {
     "data": {
      "text/plain": [
       "3126"
      ]
     },
     "execution_count": 17,
     "metadata": {},
     "output_type": "execute_result"
    }
   ],
   "source": [
    "len(links)"
   ]
  },
  {
   "cell_type": "code",
   "execution_count": 26,
   "id": "13a04fed",
   "metadata": {
    "ExecuteTime": {
     "end_time": "2022-05-15T14:02:01.634502Z",
     "start_time": "2022-05-15T14:02:01.612505Z"
    }
   },
   "outputs": [
    {
     "data": {
      "text/html": [
       "<div>\n",
       "<style scoped>\n",
       "    .dataframe tbody tr th:only-of-type {\n",
       "        vertical-align: middle;\n",
       "    }\n",
       "\n",
       "    .dataframe tbody tr th {\n",
       "        vertical-align: top;\n",
       "    }\n",
       "\n",
       "    .dataframe thead th {\n",
       "        text-align: right;\n",
       "    }\n",
       "</style>\n",
       "<table border=\"1\" class=\"dataframe\">\n",
       "  <thead>\n",
       "    <tr style=\"text-align: right;\">\n",
       "      <th></th>\n",
       "      <th>Date</th>\n",
       "      <th>Text</th>\n",
       "    </tr>\n",
       "  </thead>\n",
       "  <tbody>\n",
       "    <tr>\n",
       "      <th>0</th>\n",
       "      <td>23 October 2017</td>\n",
       "      <td>IFA President Joe Healy said market demand for...</td>\n",
       "    </tr>\n",
       "    <tr>\n",
       "      <th>1</th>\n",
       "      <td>10 August 2016</td>\n",
       "      <td>IFA National Livestock Committee Chairman Angu...</td>\n",
       "    </tr>\n",
       "    <tr>\n",
       "      <th>2</th>\n",
       "      <td>17 September 2015</td>\n",
       "      <td>IFA National Livestock Chairman Henry Burns ha...</td>\n",
       "    </tr>\n",
       "    <tr>\n",
       "      <th>3</th>\n",
       "      <td>7 May 2015</td>\n",
       "      <td>IFA National Livestock Chairman Henry Burns sa...</td>\n",
       "    </tr>\n",
       "    <tr>\n",
       "      <th>4</th>\n",
       "      <td>3 October 2014</td>\n",
       "      <td>IFA President Eddie Downey said with beef pric...</td>\n",
       "    </tr>\n",
       "    <tr>\n",
       "      <th>...</th>\n",
       "      <td>...</td>\n",
       "      <td>...</td>\n",
       "    </tr>\n",
       "    <tr>\n",
       "      <th>86</th>\n",
       "      <td>24 October 2020</td>\n",
       "      <td>FARMER-CONTROLLED GRASS-FED PGI AND SUCKLER-BA...</td>\n",
       "    </tr>\n",
       "    <tr>\n",
       "      <th>87</th>\n",
       "      <td>17 October 2020</td>\n",
       "      <td>70% Basic Payment Advance\\nThe Minister for Ag...</td>\n",
       "    </tr>\n",
       "    <tr>\n",
       "      <th>88</th>\n",
       "      <td>15 October 2020</td>\n",
       "      <td>IFA Livestock Chairman Brendan Golden said fac...</td>\n",
       "    </tr>\n",
       "    <tr>\n",
       "      <th>89</th>\n",
       "      <td>9 October 2020</td>\n",
       "      <td>Charter Meeting Update\\nIFA National Livestock...</td>\n",
       "    </tr>\n",
       "    <tr>\n",
       "      <th>90</th>\n",
       "      <td>3 October 2020</td>\n",
       "      <td>2020 ANC Payments\\nThe rollout of ANC payments...</td>\n",
       "    </tr>\n",
       "  </tbody>\n",
       "</table>\n",
       "<p>91 rows × 2 columns</p>\n",
       "</div>"
      ],
      "text/plain": [
       "                 Date                                               Text\n",
       "0     23 October 2017  IFA President Joe Healy said market demand for...\n",
       "1      10 August 2016  IFA National Livestock Committee Chairman Angu...\n",
       "2   17 September 2015  IFA National Livestock Chairman Henry Burns ha...\n",
       "3          7 May 2015  IFA National Livestock Chairman Henry Burns sa...\n",
       "4      3 October 2014  IFA President Eddie Downey said with beef pric...\n",
       "..                ...                                                ...\n",
       "86    24 October 2020  FARMER-CONTROLLED GRASS-FED PGI AND SUCKLER-BA...\n",
       "87    17 October 2020  70% Basic Payment Advance\\nThe Minister for Ag...\n",
       "88    15 October 2020  IFA Livestock Chairman Brendan Golden said fac...\n",
       "89     9 October 2020  Charter Meeting Update\\nIFA National Livestock...\n",
       "90     3 October 2020  2020 ANC Payments\\nThe rollout of ANC payments...\n",
       "\n",
       "[91 rows x 2 columns]"
      ]
     },
     "execution_count": 26,
     "metadata": {},
     "output_type": "execute_result"
    }
   ],
   "source": [
    "webData = pd.DataFrame()\n",
    "#webData['Link'] = links\n",
    "webData['Date'] = dates\n",
    "#webData['Title'] = titles\n",
    "webData['Text'] = text\n",
    "webData"
   ]
  },
  {
   "cell_type": "code",
   "execution_count": 28,
   "id": "d2a6fd11",
   "metadata": {
    "ExecuteTime": {
     "end_time": "2022-05-15T14:02:15.570750Z",
     "start_time": "2022-05-15T14:02:15.547752Z"
    }
   },
   "outputs": [
    {
     "data": {
      "text/html": [
       "<div>\n",
       "<style scoped>\n",
       "    .dataframe tbody tr th:only-of-type {\n",
       "        vertical-align: middle;\n",
       "    }\n",
       "\n",
       "    .dataframe tbody tr th {\n",
       "        vertical-align: top;\n",
       "    }\n",
       "\n",
       "    .dataframe thead th {\n",
       "        text-align: right;\n",
       "    }\n",
       "</style>\n",
       "<table border=\"1\" class=\"dataframe\">\n",
       "  <thead>\n",
       "    <tr style=\"text-align: right;\">\n",
       "      <th></th>\n",
       "      <th>Date</th>\n",
       "      <th>Text</th>\n",
       "    </tr>\n",
       "  </thead>\n",
       "  <tbody>\n",
       "    <tr>\n",
       "      <th>0</th>\n",
       "      <td>23 October 2017</td>\n",
       "      <td>IFA President Joe Healy said market demand for...</td>\n",
       "    </tr>\n",
       "    <tr>\n",
       "      <th>1</th>\n",
       "      <td>10 August 2016</td>\n",
       "      <td>IFA National Livestock Committee Chairman Angu...</td>\n",
       "    </tr>\n",
       "    <tr>\n",
       "      <th>2</th>\n",
       "      <td>17 September 2015</td>\n",
       "      <td>IFA National Livestock Chairman Henry Burns ha...</td>\n",
       "    </tr>\n",
       "    <tr>\n",
       "      <th>3</th>\n",
       "      <td>7 May 2015</td>\n",
       "      <td>IFA National Livestock Chairman Henry Burns sa...</td>\n",
       "    </tr>\n",
       "    <tr>\n",
       "      <th>4</th>\n",
       "      <td>3 October 2014</td>\n",
       "      <td>IFA President Eddie Downey said with beef pric...</td>\n",
       "    </tr>\n",
       "    <tr>\n",
       "      <th>...</th>\n",
       "      <td>...</td>\n",
       "      <td>...</td>\n",
       "    </tr>\n",
       "    <tr>\n",
       "      <th>86</th>\n",
       "      <td>24 October 2020</td>\n",
       "      <td>FARMER-CONTROLLED GRASS-FED PGI AND SUCKLER-BA...</td>\n",
       "    </tr>\n",
       "    <tr>\n",
       "      <th>87</th>\n",
       "      <td>17 October 2020</td>\n",
       "      <td>70% Basic Payment Advance\\nThe Minister for Ag...</td>\n",
       "    </tr>\n",
       "    <tr>\n",
       "      <th>88</th>\n",
       "      <td>15 October 2020</td>\n",
       "      <td>IFA Livestock Chairman Brendan Golden said fac...</td>\n",
       "    </tr>\n",
       "    <tr>\n",
       "      <th>89</th>\n",
       "      <td>9 October 2020</td>\n",
       "      <td>Charter Meeting Update\\nIFA National Livestock...</td>\n",
       "    </tr>\n",
       "    <tr>\n",
       "      <th>90</th>\n",
       "      <td>3 October 2020</td>\n",
       "      <td>2020 ANC Payments\\nThe rollout of ANC payments...</td>\n",
       "    </tr>\n",
       "  </tbody>\n",
       "</table>\n",
       "<p>91 rows × 2 columns</p>\n",
       "</div>"
      ],
      "text/plain": [
       "                 Date                                               Text\n",
       "0     23 October 2017  IFA President Joe Healy said market demand for...\n",
       "1      10 August 2016  IFA National Livestock Committee Chairman Angu...\n",
       "2   17 September 2015  IFA National Livestock Chairman Henry Burns ha...\n",
       "3          7 May 2015  IFA National Livestock Chairman Henry Burns sa...\n",
       "4      3 October 2014  IFA President Eddie Downey said with beef pric...\n",
       "..                ...                                                ...\n",
       "86    24 October 2020  FARMER-CONTROLLED GRASS-FED PGI AND SUCKLER-BA...\n",
       "87    17 October 2020  70% Basic Payment Advance\\nThe Minister for Ag...\n",
       "88    15 October 2020  IFA Livestock Chairman Brendan Golden said fac...\n",
       "89     9 October 2020  Charter Meeting Update\\nIFA National Livestock...\n",
       "90     3 October 2020  2020 ANC Payments\\nThe rollout of ANC payments...\n",
       "\n",
       "[91 rows x 2 columns]"
      ]
     },
     "execution_count": 28,
     "metadata": {},
     "output_type": "execute_result"
    }
   ],
   "source": [
    "webData.drop_duplicates(subset=['Date', 'Text'], keep='last').reset_index(drop=True)"
   ]
  },
  {
   "cell_type": "code",
   "execution_count": null,
   "id": "4995a8b4",
   "metadata": {},
   "outputs": [],
   "source": []
  },
  {
   "cell_type": "code",
   "execution_count": null,
   "id": "360bb378",
   "metadata": {},
   "outputs": [],
   "source": []
  },
  {
   "cell_type": "code",
   "execution_count": null,
   "id": "b5e7d3d4",
   "metadata": {},
   "outputs": [],
   "source": []
  },
  {
   "cell_type": "code",
   "execution_count": null,
   "id": "aafb185e",
   "metadata": {},
   "outputs": [],
   "source": []
  },
  {
   "cell_type": "code",
   "execution_count": null,
   "id": "5b11b1aa",
   "metadata": {},
   "outputs": [],
   "source": []
  },
  {
   "cell_type": "code",
   "execution_count": null,
   "id": "1807b4b1",
   "metadata": {},
   "outputs": [],
   "source": []
  },
  {
   "cell_type": "code",
   "execution_count": null,
   "id": "230b0a6c",
   "metadata": {},
   "outputs": [],
   "source": []
  },
  {
   "cell_type": "code",
   "execution_count": 16,
   "id": "446ca0a0",
   "metadata": {
    "ExecuteTime": {
     "end_time": "2022-05-11T12:38:31.164132Z",
     "start_time": "2022-05-11T12:38:30.126028Z"
    }
   },
   "outputs": [
    {
     "name": "stdout",
     "output_type": "stream",
     "text": [
      "URL Title: \n",
      " IFA Meet Tesco on Beef to Progress Solution on Cattle Going North \n",
      "\n",
      "URL Date:\n",
      " 29 August 2014 \n",
      "\n",
      "URL Text: \n",
      " IFA President Eddie Downey and National Livestock Chairman Henry Burns met with senior executives from Tesco in Dublin today to the discuss the difficulties in the beef sector and branding and labelling issues on cattle exported to Northern Ireland as well as specifications.\n",
      "After the meeting, Eddie Downey said Tesco outlined to the IFA that they will positively engage and work towards finding a solution regarding the branding and labelling issues on Irish cattle exported to Northern Ireland.\n",
      "Eddie Downey said the IFA clearly explained the complex issues around the branding and labelling of cattle that are exported North and put forward proposals to enable a solution. He said this is a specific issue that requires a specific solution. He said “IFA working with the Northern Ireland beef processors as well as Minister Coveney and Minister O’Neill from Northern Ireland, have put forward proposals that can progress this issue.”\n",
      "The IFA President said it is very important that there is full support from all sectors to find a solution to this problem and Tesco made it clear that they will engage positively and quickly in this regard. Earlier this week, the Minister for Agriculture Simon Coveney told the IFA he also met with Tesco supporting the proposals for a solution on the cattle exported from the Republic to Northern Ireland.\n",
      "Eddie Downey said IFA outlined the current price and specification difficulties impacting severely on beef farm incomes to Tesco. He said the specification for the Irish beef sector has to take account of our high quality suckler beef production systems which are based on grass and later maturing continental breeds. “This is the basis of Irelands top quality beef systems and our marketing drive around Origin Green and Quality Assurance. Forcing a specification based on intensively fed younger and lighter animals would be the wrong direction for Ireland.”\n"
     ]
    }
   ],
   "source": [
    "driver.get(links[12])\n",
    "page = driver.find_element_by_xpath(\"/html/body\")\n",
    "print('URL Title: \\n {} \\n'.format(page.find_element(By.CLASS_NAME, 'entry-title').text))\n",
    "print('URL Date:\\n {} \\n'.format(page.find_element(By.CLASS_NAME, 'entry-date').text))\n",
    "print('URL Text: \\n {}'.format(page.find_element(By.CLASS_NAME, 'single-content').text))"
   ]
  },
  {
   "cell_type": "code",
   "execution_count": null,
   "id": "5072a2e5",
   "metadata": {},
   "outputs": [],
   "source": []
  },
  {
   "cell_type": "code",
   "execution_count": null,
   "id": "f341cdb0",
   "metadata": {},
   "outputs": [],
   "source": []
  },
  {
   "cell_type": "code",
   "execution_count": null,
   "id": "0c9c1252",
   "metadata": {},
   "outputs": [],
   "source": []
  },
  {
   "cell_type": "code",
   "execution_count": null,
   "id": "fa739927",
   "metadata": {},
   "outputs": [],
   "source": []
  },
  {
   "cell_type": "code",
   "execution_count": null,
   "id": "f4f3ddeb",
   "metadata": {
    "ExecuteTime": {
     "end_time": "2022-05-11T12:15:00.651156Z",
     "start_time": "2022-05-11T12:14:59.647156Z"
    }
   },
   "outputs": [],
   "source": [
    "# Farmers Journal\n",
    "urlQuery = 'https://www.farmersjournal.ie/archive.php#stq=beef%20or%20cattle%20prices&stp=1'\n",
    "driver.get(urlQuery)\n",
    "elems = driver.find_elements_by_css_selector(\".title [href]\")\n",
    "links = [elem.get_attribute('href') for elem in elems]"
   ]
  },
  {
   "cell_type": "code",
   "execution_count": null,
   "id": "58f49d8f",
   "metadata": {
    "ExecuteTime": {
     "end_time": "2022-05-11T12:15:01.707050Z",
     "start_time": "2022-05-11T12:15:01.685051Z"
    },
    "scrolled": true
   },
   "outputs": [],
   "source": [
    "for link in links:\n",
    "    print(link)"
   ]
  },
  {
   "cell_type": "code",
   "execution_count": null,
   "id": "f68cfe45",
   "metadata": {
    "ExecuteTime": {
     "end_time": "2022-05-11T12:14:22.068836Z",
     "start_time": "2022-05-11T12:14:19.175442Z"
    },
    "scrolled": true
   },
   "outputs": [],
   "source": [
    "# Farmers Journal\n",
    "driver.get(urlQuery)\n",
    "#https://www.geeksforgeeks.org/sign-in-geeksforgeeks-using-python-selenium/\n",
    "#driver.find_element_by_xpath('//*[@id=\"email-main\"]').send_keys('sba19035@student.cct.ie')\n",
    "#driver.find_element_by_xpath('//*[@id=\"password-main\"]').send_keys('lucan123')\n",
    "#driver.find_element_by_xpath('/html/body/div[2]/div[6]/div/div/div[2]/div/div[2]/a').click()\n",
    "#html.sid-plesk body div.container.archive-container.white-background div.center.form-container div#st-results-container.st-result-listing div.st-page a.st-next\n",
    "elems = driver.find_elements_by_css_selector(\".st-result [href]\")\n",
    "pages = [elem.get_attribute('href') for elem in elems]"
   ]
  },
  {
   "cell_type": "code",
   "execution_count": null,
   "id": "50da047a",
   "metadata": {
    "ExecuteTime": {
     "end_time": "2022-05-11T12:14:22.100838Z",
     "start_time": "2022-05-11T12:14:22.069837Z"
    }
   },
   "outputs": [],
   "source": [
    "for page in pages:\n",
    "    print(page)"
   ]
  },
  {
   "cell_type": "code",
   "execution_count": null,
   "id": "486011ac",
   "metadata": {
    "ExecuteTime": {
     "end_time": "2022-05-11T12:31:59.549310Z",
     "start_time": "2022-05-11T12:31:59.537308Z"
    }
   },
   "outputs": [],
   "source": [
    "\n",
    "page = driver.find_element_by_xpath(\"/html/body\")"
   ]
  },
  {
   "cell_type": "code",
   "execution_count": null,
   "id": "16e1dd39",
   "metadata": {
    "ExecuteTime": {
     "end_time": "2022-05-11T12:32:00.404076Z",
     "start_time": "2022-05-11T12:32:00.147075Z"
    }
   },
   "outputs": [],
   "source": [
    "page.text"
   ]
  },
  {
   "cell_type": "code",
   "execution_count": null,
   "id": "3e81970c",
   "metadata": {
    "ExecuteTime": {
     "end_time": "2022-05-11T12:21:32.139984Z",
     "start_time": "2022-05-11T12:21:32.115985Z"
    }
   },
   "outputs": [],
   "source": [
    "page.find_element_by_css_selector('h1').text"
   ]
  },
  {
   "cell_type": "code",
   "execution_count": null,
   "id": "ff0492da",
   "metadata": {
    "ExecuteTime": {
     "end_time": "2022-05-11T12:30:47.843572Z",
     "start_time": "2022-05-11T12:30:47.822575Z"
    },
    "scrolled": true
   },
   "outputs": [],
   "source": [
    "page.find_elements_by_class_name('modal-open')\n",
    "#html.sid-plesk body.modal-open div.container div.container.center.white-background.article-container div.news-article div.row.narrow-row div.col-md-3.desktop-show div.article-info div.meta div.grey"
   ]
  },
  {
   "cell_type": "code",
   "execution_count": null,
   "id": "6781f48a",
   "metadata": {
    "ExecuteTime": {
     "end_time": "2022-05-11T12:31:05.147635Z",
     "start_time": "2022-05-11T12:31:04.905633Z"
    }
   },
   "outputs": [],
   "source": [
    "page.text"
   ]
  },
  {
   "cell_type": "code",
   "execution_count": null,
   "id": "4ba6b275",
   "metadata": {
    "ExecuteTime": {
     "end_time": "2022-05-11T12:01:49.125305Z",
     "start_time": "2022-05-11T12:01:45.146753Z"
    }
   },
   "outputs": [],
   "source": [
    "driver.get(links[0])\n",
    "page = driver.find_element_by_xpath(\"/html/body\")\n",
    "print('URL Title: \\n {} \\n'.format(page.find_element(By.CLASS_NAME, 'entry-title').text))\n",
    "print('URL Date:\\n {} \\n'.format(page.find_element(By.CLASS_NAME, 'entry-date').text))\n",
    "print('URL Text: \\n {}'.format(page.find_element(By.CLASS_NAME, 'single-content').text))"
   ]
  },
  {
   "cell_type": "code",
   "execution_count": null,
   "id": "01e0e357",
   "metadata": {},
   "outputs": [],
   "source": []
  },
  {
   "cell_type": "code",
   "execution_count": null,
   "id": "1ddc3adf",
   "metadata": {},
   "outputs": [],
   "source": []
  },
  {
   "cell_type": "code",
   "execution_count": null,
   "id": "d7db63cb",
   "metadata": {},
   "outputs": [],
   "source": []
  },
  {
   "cell_type": "code",
   "execution_count": null,
   "id": "b5e293f3",
   "metadata": {},
   "outputs": [],
   "source": []
  }
 ],
 "metadata": {
  "kernelspec": {
   "display_name": "Python 3 (ipykernel)",
   "language": "python",
   "name": "python3"
  },
  "language_info": {
   "codemirror_mode": {
    "name": "ipython",
    "version": 3
   },
   "file_extension": ".py",
   "mimetype": "text/x-python",
   "name": "python",
   "nbconvert_exporter": "python",
   "pygments_lexer": "ipython3",
   "version": "3.8.12"
  },
  "toc": {
   "base_numbering": 1,
   "nav_menu": {},
   "number_sections": true,
   "sideBar": true,
   "skip_h1_title": false,
   "title_cell": "Table of Contents",
   "title_sidebar": "Contents",
   "toc_cell": false,
   "toc_position": {},
   "toc_section_display": true,
   "toc_window_display": false
  }
 },
 "nbformat": 4,
 "nbformat_minor": 5
}
