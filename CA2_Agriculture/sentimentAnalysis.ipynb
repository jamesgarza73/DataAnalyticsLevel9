{
 "cells": [
  {
   "cell_type": "markdown",
   "id": "93b7a5af",
   "metadata": {},
   "source": [
    "# Import Libraries\n",
    "\n",
    "Libraries needed for sentiment analysis.  This is a simple sentiment analysis on text scrapped from online.  Additionally brought in Stats class to show statistics on sentiment analysis."
   ]
  },
  {
   "cell_type": "code",
   "execution_count": 1,
   "id": "8cdc75e2",
   "metadata": {
    "ExecuteTime": {
     "end_time": "2022-05-22T20:19:02.644079Z",
     "start_time": "2022-05-22T20:18:54.040814Z"
    }
   },
   "outputs": [
    {
     "name": "stderr",
     "output_type": "stream",
     "text": [
      "[nltk_data] Downloading package stopwords to\n",
      "[nltk_data]     C:\\Users\\irish\\AppData\\Roaming\\nltk_data...\n",
      "[nltk_data]   Package stopwords is already up-to-date!\n"
     ]
    },
    {
     "data": {
      "text/html": [
       "        <script type=\"text/javascript\">\n",
       "        window.PlotlyConfig = {MathJaxConfig: 'local'};\n",
       "        if (window.MathJax) {MathJax.Hub.Config({SVG: {font: \"STIX-Web\"}});}\n",
       "        if (typeof require !== 'undefined') {\n",
       "        require.undef(\"plotly\");\n",
       "        requirejs.config({\n",
       "            paths: {\n",
       "                'plotly': ['https://cdn.plot.ly/plotly-2.9.0.min']\n",
       "            }\n",
       "        });\n",
       "        require(['plotly'], function(Plotly) {\n",
       "            window._Plotly = Plotly;\n",
       "        });\n",
       "        }\n",
       "        </script>\n",
       "        "
      ]
     },
     "metadata": {},
     "output_type": "display_data"
    },
    {
     "data": {
      "text/html": [
       "        <script type=\"text/javascript\">\n",
       "        window.PlotlyConfig = {MathJaxConfig: 'local'};\n",
       "        if (window.MathJax) {MathJax.Hub.Config({SVG: {font: \"STIX-Web\"}});}\n",
       "        if (typeof require !== 'undefined') {\n",
       "        require.undef(\"plotly\");\n",
       "        requirejs.config({\n",
       "            paths: {\n",
       "                'plotly': ['https://cdn.plot.ly/plotly-2.9.0.min']\n",
       "            }\n",
       "        });\n",
       "        require(['plotly'], function(Plotly) {\n",
       "            window._Plotly = Plotly;\n",
       "        });\n",
       "        }\n",
       "        </script>\n",
       "        "
      ]
     },
     "metadata": {},
     "output_type": "display_data"
    },
    {
     "data": {
      "text/plain": [
       "'!\"#$%&\\'()*+,-./:;<=>?@[\\\\]^_`{|}~'"
      ]
     },
     "execution_count": 1,
     "metadata": {},
     "output_type": "execute_result"
    }
   ],
   "source": [
    "import warnings\n",
    "warnings.filterwarnings(\"ignore\")\n",
    "\n",
    "import pandas as pd\n",
    "\n",
    "import nltk\n",
    "nltk.download('stopwords')\n",
    "\n",
    "from nltk.corpus import stopwords\n",
    "stopWords = nltk.corpus.stopwords.words('english')\n",
    "\n",
    "from textblob import TextBlob\n",
    "from functions import Stats\n",
    "\n",
    "import seaborn as sns\n",
    "import matplotlib.pyplot as plt\n",
    "import cufflinks as cf\n",
    "cf.set_config_file(offline=True)\n",
    "\n",
    "import string\n",
    "string.punctuation"
   ]
  },
  {
   "cell_type": "markdown",
   "id": "62f02f08",
   "metadata": {},
   "source": [
    "# Import Libraries for Text Sentiment"
   ]
  },
  {
   "cell_type": "code",
   "execution_count": 2,
   "id": "a056e9c1",
   "metadata": {
    "ExecuteTime": {
     "end_time": "2022-05-22T20:19:02.735643Z",
     "start_time": "2022-05-22T20:19:02.646079Z"
    }
   },
   "outputs": [],
   "source": [
    "farmerData = pd.read_csv('data/IFA_Search_data.csv', parse_dates=['Date'])\n",
    "consumerData = pd.read_csv('data/ExaminerSearchArticles.csv', parse_dates=['Date'])"
   ]
  },
  {
   "cell_type": "markdown",
   "id": "3b7ee3c7",
   "metadata": {
    "ExecuteTime": {
     "end_time": "2022-05-22T12:41:34.049146Z",
     "start_time": "2022-05-22T12:41:34.036142Z"
    }
   },
   "source": [
    "# Class and Methods Word Cleaning"
   ]
  },
  {
   "cell_type": "code",
   "execution_count": 3,
   "id": "33eed53f",
   "metadata": {
    "ExecuteTime": {
     "end_time": "2022-05-22T20:19:02.751644Z",
     "start_time": "2022-05-22T20:19:02.738643Z"
    }
   },
   "outputs": [],
   "source": [
    "def formatDates(data, position):\n",
    "    '''This method converts the day of the month to the first date in the dataframe.\n",
    "    When resampling dates the dates can be all over the place.  This is important\n",
    "    when merging dataframes.\n",
    "\n",
    "    Args:\n",
    "    data (data frame): The dataset with datetime columns.\n",
    "    position (int): This is the number of column the datetime column is in the dataframe.\n",
    "\n",
    "    Returns:\n",
    "    dates (string array): datetime string array that will be converted into datetime.\n",
    "\n",
    "    Notes: \n",
    "    '''\n",
    "    dates = []\n",
    "    for index, row in data.iterrows():\n",
    "        dates.append(str(row[position])[:8] + '01')\n",
    "    return dates\n",
    "\n",
    "class WordCleaning:\n",
    "    '''This Class will preprocess text for sentiment analysis. The methods \n",
    "    are to put all text into lower case, then remove any html that might be in \n",
    "    the text.  Next remove any punctuations and stop words to help sentiment \n",
    "    improve sentiment score accuracy. Finally, run textblob on all the text and\n",
    "    return sentiment. \n",
    "\n",
    "    Args:\n",
    "    data (data frame): The dataset with text to be analyzed.\n",
    "    textColumn (string): This is the name of the column where the text is located.\n",
    "\n",
    "    Returns:\n",
    "    dataframe (dataframe): Dataframe is returned with cleaned text and sentiment \n",
    "    analysis scores on the cleaned text.\n",
    "\n",
    "    Notes: \n",
    "    '''\n",
    "    def __init__(self, data, textColumn):\n",
    "        self.data = data\n",
    "        self.textColumn = textColumn\n",
    "        \n",
    "    def lowerCase(self):\n",
    "        self.data['Cleaned_text'] = self.data[self.textColumn].apply(lambda x : \" \".join(x.lower() for x in x.split()))\n",
    "                                                                     \n",
    "    def removeHTML(self):\n",
    "        self.data['Cleaned_text'] = self.data['Cleaned_text'].str.replace(\"[^\\w\\s]\\n\\W+\", \"\")\n",
    "        \n",
    "    def removePuncs(self):\n",
    "        self.data['Cleaned_text'].apply(lambda x: \"\".join([char for char in x if char not in string.punctuation]))\n",
    "        \n",
    "    def removeStop(self):\n",
    "        self.data['Cleaned_text'] = self.data['Cleaned_text'].apply(lambda x: [item for item in x if item not in stopWords])\n",
    "\n",
    "    def getSentiment(self):\n",
    "        self.lowerCase()\n",
    "        self.removeHTML()\n",
    "        self.removePuncs()\n",
    "        self.data['Sentiment'] = self.data['Cleaned_text'].apply(lambda x : TextBlob(x).sentiment[0])"
   ]
  },
  {
   "cell_type": "markdown",
   "id": "2fb2d51f",
   "metadata": {},
   "source": [
    "# Producer Text Analysis\n",
    "\n",
    "Here the IFA articles are imported and articles to be analyzed.  This is from a Farmer's association and will\n",
    "be seen as producer sentiment. "
   ]
  },
  {
   "cell_type": "code",
   "execution_count": 4,
   "id": "abb6b72d",
   "metadata": {
    "ExecuteTime": {
     "end_time": "2022-05-22T20:19:04.388893Z",
     "start_time": "2022-05-22T20:19:02.753644Z"
    }
   },
   "outputs": [
    {
     "data": {
      "text/html": [
       "<div>\n",
       "<style scoped>\n",
       "    .dataframe tbody tr th:only-of-type {\n",
       "        vertical-align: middle;\n",
       "    }\n",
       "\n",
       "    .dataframe tbody tr th {\n",
       "        vertical-align: top;\n",
       "    }\n",
       "\n",
       "    .dataframe thead th {\n",
       "        text-align: right;\n",
       "    }\n",
       "</style>\n",
       "<table border=\"1\" class=\"dataframe\">\n",
       "  <thead>\n",
       "    <tr style=\"text-align: right;\">\n",
       "      <th></th>\n",
       "      <th>Link</th>\n",
       "      <th>Date</th>\n",
       "      <th>Title</th>\n",
       "      <th>Text</th>\n",
       "      <th>Cleaned_text</th>\n",
       "      <th>Sentiment</th>\n",
       "    </tr>\n",
       "  </thead>\n",
       "  <tbody>\n",
       "    <tr>\n",
       "      <th>0</th>\n",
       "      <td>https://www.ifa.ie/markets-and-prices/news-art...</td>\n",
       "      <td>2010-11-08</td>\n",
       "      <td>IFA Issues Warning to Factories on Cattle Prices</td>\n",
       "      <td>IFA National Livestock Chairman Michael Doran ...</td>\n",
       "      <td>ifa national livestock chairman michael doran ...</td>\n",
       "      <td>-0.022469</td>\n",
       "    </tr>\n",
       "    <tr>\n",
       "      <th>1</th>\n",
       "      <td>https://www.ifa.ie/markets-and-prices/news-art...</td>\n",
       "      <td>2010-11-10</td>\n",
       "      <td>Growing Anger and Frustration over Cattle Pric...</td>\n",
       "      <td>IFA National Livestock Committee Chairman Mich...</td>\n",
       "      <td>ifa national livestock committee chairman mich...</td>\n",
       "      <td>-0.001568</td>\n",
       "    </tr>\n",
       "    <tr>\n",
       "      <th>2</th>\n",
       "      <td>https://www.ifa.ie/markets-and-prices/news-art...</td>\n",
       "      <td>2010-11-18</td>\n",
       "      <td>Doran Accuses Factories of Holding Back on Cat...</td>\n",
       "      <td>IFA National Livestock Committee Chairman Mich...</td>\n",
       "      <td>ifa national livestock committee chairman mich...</td>\n",
       "      <td>0.071829</td>\n",
       "    </tr>\n",
       "    <tr>\n",
       "      <th>3</th>\n",
       "      <td>https://www.ifa.ie/markets-and-prices/news-art...</td>\n",
       "      <td>2010-11-25</td>\n",
       "      <td>Hold Now and Demand a Price Increase for Cattl...</td>\n",
       "      <td>IFA President John Bryan said now is the time ...</td>\n",
       "      <td>ifa president john bryan said now is the time ...</td>\n",
       "      <td>-0.016450</td>\n",
       "    </tr>\n",
       "    <tr>\n",
       "      <th>4</th>\n",
       "      <td>https://www.ifa.ie/farm-sectors/news-article-4...</td>\n",
       "      <td>2011-01-07</td>\n",
       "      <td>Opening of Turkish Market Positive Move for Ir...</td>\n",
       "      <td>IFA President John Bryan said the move to open...</td>\n",
       "      <td>ifa president john bryan said the move to open...</td>\n",
       "      <td>0.038223</td>\n",
       "    </tr>\n",
       "    <tr>\n",
       "      <th>...</th>\n",
       "      <td>...</td>\n",
       "      <td>...</td>\n",
       "      <td>...</td>\n",
       "      <td>...</td>\n",
       "      <td>...</td>\n",
       "      <td>...</td>\n",
       "    </tr>\n",
       "    <tr>\n",
       "      <th>440</th>\n",
       "      <td>https://www.ifa.ie/markets-and-prices/beef-she...</td>\n",
       "      <td>2022-04-08</td>\n",
       "      <td>Beef &amp; Sheep Update</td>\n",
       "      <td>Beef Update\\nIFA livestock chairman Brendan Go...</td>\n",
       "      <td>beef update ifa livestock chairman brendan gol...</td>\n",
       "      <td>0.020277</td>\n",
       "    </tr>\n",
       "    <tr>\n",
       "      <th>441</th>\n",
       "      <td>https://www.ifa.ie/farm-sectors/suckler-and-ca...</td>\n",
       "      <td>2022-04-13</td>\n",
       "      <td>Suckler and Cattle Farmers Most Exposed by Inp...</td>\n",
       "      <td>IFA Livestock Chairman Brendan Golden said the...</td>\n",
       "      <td>ifa livestock chairman brendan golden said the...</td>\n",
       "      <td>0.087500</td>\n",
       "    </tr>\n",
       "    <tr>\n",
       "      <th>442</th>\n",
       "      <td>https://www.ifa.ie/resources/ifa-weekly-update...</td>\n",
       "      <td>2022-04-14</td>\n",
       "      <td>IFA Weekly Update 14th April 2022</td>\n",
       "      <td>Reaction To Government Pig Sector Support Pack...</td>\n",
       "      <td>reaction to government pig sector support pack...</td>\n",
       "      <td>0.123440</td>\n",
       "    </tr>\n",
       "    <tr>\n",
       "      <th>443</th>\n",
       "      <td>https://www.ifa.ie/resources/ifa-weekly-news-u...</td>\n",
       "      <td>2022-04-22</td>\n",
       "      <td>IFA Weekly News Update 22nd April 2022</td>\n",
       "      <td>Calves For Ukraine Fundraiser Success\\n\\nActio...</td>\n",
       "      <td>calves for ukraine fundraiser success action n...</td>\n",
       "      <td>0.161358</td>\n",
       "    </tr>\n",
       "    <tr>\n",
       "      <th>444</th>\n",
       "      <td>https://www.ifa.ie/markets-and-prices/beef-she...</td>\n",
       "      <td>2022-05-13</td>\n",
       "      <td>Beef &amp; Sheep Update 13th May</td>\n",
       "      <td>Beef Update\\nIFA Livestock Committee chairman ...</td>\n",
       "      <td>beef update ifa livestock committee chairman b...</td>\n",
       "      <td>0.087119</td>\n",
       "    </tr>\n",
       "  </tbody>\n",
       "</table>\n",
       "<p>445 rows × 6 columns</p>\n",
       "</div>"
      ],
      "text/plain": [
       "                                                  Link       Date  \\\n",
       "0    https://www.ifa.ie/markets-and-prices/news-art... 2010-11-08   \n",
       "1    https://www.ifa.ie/markets-and-prices/news-art... 2010-11-10   \n",
       "2    https://www.ifa.ie/markets-and-prices/news-art... 2010-11-18   \n",
       "3    https://www.ifa.ie/markets-and-prices/news-art... 2010-11-25   \n",
       "4    https://www.ifa.ie/farm-sectors/news-article-4... 2011-01-07   \n",
       "..                                                 ...        ...   \n",
       "440  https://www.ifa.ie/markets-and-prices/beef-she... 2022-04-08   \n",
       "441  https://www.ifa.ie/farm-sectors/suckler-and-ca... 2022-04-13   \n",
       "442  https://www.ifa.ie/resources/ifa-weekly-update... 2022-04-14   \n",
       "443  https://www.ifa.ie/resources/ifa-weekly-news-u... 2022-04-22   \n",
       "444  https://www.ifa.ie/markets-and-prices/beef-she... 2022-05-13   \n",
       "\n",
       "                                                 Title  \\\n",
       "0     IFA Issues Warning to Factories on Cattle Prices   \n",
       "1    Growing Anger and Frustration over Cattle Pric...   \n",
       "2    Doran Accuses Factories of Holding Back on Cat...   \n",
       "3    Hold Now and Demand a Price Increase for Cattl...   \n",
       "4    Opening of Turkish Market Positive Move for Ir...   \n",
       "..                                                 ...   \n",
       "440                                Beef & Sheep Update   \n",
       "441  Suckler and Cattle Farmers Most Exposed by Inp...   \n",
       "442                  IFA Weekly Update 14th April 2022   \n",
       "443             IFA Weekly News Update 22nd April 2022   \n",
       "444                       Beef & Sheep Update 13th May   \n",
       "\n",
       "                                                  Text  \\\n",
       "0    IFA National Livestock Chairman Michael Doran ...   \n",
       "1    IFA National Livestock Committee Chairman Mich...   \n",
       "2    IFA National Livestock Committee Chairman Mich...   \n",
       "3    IFA President John Bryan said now is the time ...   \n",
       "4    IFA President John Bryan said the move to open...   \n",
       "..                                                 ...   \n",
       "440  Beef Update\\nIFA livestock chairman Brendan Go...   \n",
       "441  IFA Livestock Chairman Brendan Golden said the...   \n",
       "442  Reaction To Government Pig Sector Support Pack...   \n",
       "443  Calves For Ukraine Fundraiser Success\\n\\nActio...   \n",
       "444  Beef Update\\nIFA Livestock Committee chairman ...   \n",
       "\n",
       "                                          Cleaned_text  Sentiment  \n",
       "0    ifa national livestock chairman michael doran ...  -0.022469  \n",
       "1    ifa national livestock committee chairman mich...  -0.001568  \n",
       "2    ifa national livestock committee chairman mich...   0.071829  \n",
       "3    ifa president john bryan said now is the time ...  -0.016450  \n",
       "4    ifa president john bryan said the move to open...   0.038223  \n",
       "..                                                 ...        ...  \n",
       "440  beef update ifa livestock chairman brendan gol...   0.020277  \n",
       "441  ifa livestock chairman brendan golden said the...   0.087500  \n",
       "442  reaction to government pig sector support pack...   0.123440  \n",
       "443  calves for ukraine fundraiser success action n...   0.161358  \n",
       "444  beef update ifa livestock committee chairman b...   0.087119  \n",
       "\n",
       "[445 rows x 6 columns]"
      ]
     },
     "execution_count": 4,
     "metadata": {},
     "output_type": "execute_result"
    }
   ],
   "source": [
    "farmerData = WordCleaning(farmerData, 'Text')\n",
    "farmerData.getSentiment()\n",
    "farmerData.data"
   ]
  },
  {
   "cell_type": "markdown",
   "id": "58c399c9",
   "metadata": {},
   "source": [
    "# Consumer Text Analysis\n",
    "\n",
    "This data is brought in from the Irish Examiner and is to be analyzed as consumer sentiment."
   ]
  },
  {
   "cell_type": "code",
   "execution_count": 5,
   "id": "93ef0078",
   "metadata": {
    "ExecuteTime": {
     "end_time": "2022-05-22T20:19:09.510981Z",
     "start_time": "2022-05-22T20:19:04.390894Z"
    }
   },
   "outputs": [
    {
     "data": {
      "text/html": [
       "<div>\n",
       "<style scoped>\n",
       "    .dataframe tbody tr th:only-of-type {\n",
       "        vertical-align: middle;\n",
       "    }\n",
       "\n",
       "    .dataframe tbody tr th {\n",
       "        vertical-align: top;\n",
       "    }\n",
       "\n",
       "    .dataframe thead th {\n",
       "        text-align: right;\n",
       "    }\n",
       "</style>\n",
       "<table border=\"1\" class=\"dataframe\">\n",
       "  <thead>\n",
       "    <tr style=\"text-align: right;\">\n",
       "      <th></th>\n",
       "      <th>Link</th>\n",
       "      <th>Date</th>\n",
       "      <th>Title</th>\n",
       "      <th>Text</th>\n",
       "      <th>Cleaned_text</th>\n",
       "      <th>Sentiment</th>\n",
       "    </tr>\n",
       "  </thead>\n",
       "  <tbody>\n",
       "    <tr>\n",
       "      <th>0</th>\n",
       "      <td>https://www.irishexaminer.com/farming/arid-101...</td>\n",
       "      <td>2002-07-11 02:00:00</td>\n",
       "      <td>Farm leaders condemn CAP reforms as Greens say...</td>\n",
       "      <td>However, the Irish Cattle Sheep Farmers Associ...</td>\n",
       "      <td>however, the irish cattle sheep farmers associ...</td>\n",
       "      <td>0.087524</td>\n",
       "    </tr>\n",
       "    <tr>\n",
       "      <th>1</th>\n",
       "      <td>https://www.irishexaminer.com/farming/arid-100...</td>\n",
       "      <td>2002-07-11 02:00:00</td>\n",
       "      <td>EU Commission positive, but beef prospects mixed</td>\n",
       "      <td>In its just published seven year trade outlook...</td>\n",
       "      <td>in its just published seven year trade outlook...</td>\n",
       "      <td>0.080172</td>\n",
       "    </tr>\n",
       "    <tr>\n",
       "      <th>2</th>\n",
       "      <td>https://www.irishexaminer.com/farming/arid-100...</td>\n",
       "      <td>2002-07-11 02:00:00</td>\n",
       "      <td>As big as foot and mouth</td>\n",
       "      <td>Question 1: Do you want a change to area- base...</td>\n",
       "      <td>question 1: do you want a change to area- base...</td>\n",
       "      <td>0.106401</td>\n",
       "    </tr>\n",
       "    <tr>\n",
       "      <th>3</th>\n",
       "      <td>https://www.irishexaminer.com/farming/arid-100...</td>\n",
       "      <td>2002-07-11 02:00:00</td>\n",
       "      <td>As big as foot and mouth</td>\n",
       "      <td>Question 1: Do you want a change to area- base...</td>\n",
       "      <td>question 1: do you want a change to area- base...</td>\n",
       "      <td>0.106401</td>\n",
       "    </tr>\n",
       "    <tr>\n",
       "      <th>4</th>\n",
       "      <td>https://www.irishexaminer.com/farming/arid-100...</td>\n",
       "      <td>2002-07-12 02:00:00</td>\n",
       "      <td>CAP reform will force beef plant closures, say...</td>\n",
       "      <td>In the past five years the number of processor...</td>\n",
       "      <td>in the past five years the number of processor...</td>\n",
       "      <td>0.122250</td>\n",
       "    </tr>\n",
       "    <tr>\n",
       "      <th>...</th>\n",
       "      <td>...</td>\n",
       "      <td>...</td>\n",
       "      <td>...</td>\n",
       "      <td>...</td>\n",
       "      <td>...</td>\n",
       "      <td>...</td>\n",
       "    </tr>\n",
       "    <tr>\n",
       "      <th>1220</th>\n",
       "      <td>https://www.irishexaminer.com/farming/arid-408...</td>\n",
       "      <td>2022-05-10 14:02:00</td>\n",
       "      <td>Over €1m expected for 87-acre Golden Vale farm</td>\n",
       "      <td>It's another week and another public and onlin...</td>\n",
       "      <td>it's another week and another public and onlin...</td>\n",
       "      <td>0.332275</td>\n",
       "    </tr>\n",
       "    <tr>\n",
       "      <th>1221</th>\n",
       "      <td>https://www.irishexaminer.com/farming/arid-408...</td>\n",
       "      <td>2022-05-11 06:22:00</td>\n",
       "      <td>Lamb prices: Some processors offering up to 20...</td>\n",
       "      <td>Lamb prices have improved by up to 20 cents/kg...</td>\n",
       "      <td>lamb prices have improved by up to 20 cents/kg...</td>\n",
       "      <td>0.215801</td>\n",
       "    </tr>\n",
       "    <tr>\n",
       "      <th>1222</th>\n",
       "      <td>https://www.irishexaminer.com/farming/arid-408...</td>\n",
       "      <td>2022-05-11 15:16:00</td>\n",
       "      <td>Agriculture minister rules out restoring ban o...</td>\n",
       "      <td>There are no plans to ban below-cost selling o...</td>\n",
       "      <td>there are no plans to ban below-cost selling o...</td>\n",
       "      <td>0.078823</td>\n",
       "    </tr>\n",
       "    <tr>\n",
       "      <th>1223</th>\n",
       "      <td>https://www.irishexaminer.com/food/arid-408657...</td>\n",
       "      <td>2022-05-14 06:00:00</td>\n",
       "      <td>Caitriona Redmond: As prices rise families may...</td>\n",
       "      <td>When I talk about feeding families on a budget...</td>\n",
       "      <td>when i talk about feeding families on a budget...</td>\n",
       "      <td>0.136270</td>\n",
       "    </tr>\n",
       "    <tr>\n",
       "      <th>1224</th>\n",
       "      <td>https://www.irishexaminer.com/food/arid-408718...</td>\n",
       "      <td>2022-05-14 06:00:00</td>\n",
       "      <td>Darina Allen: Use up every last scrap of food ...</td>\n",
       "      <td>This week’s column will focus on sustainable f...</td>\n",
       "      <td>this week’s column will focus on sustainable f...</td>\n",
       "      <td>0.167441</td>\n",
       "    </tr>\n",
       "  </tbody>\n",
       "</table>\n",
       "<p>1225 rows × 6 columns</p>\n",
       "</div>"
      ],
      "text/plain": [
       "                                                   Link                Date  \\\n",
       "0     https://www.irishexaminer.com/farming/arid-101... 2002-07-11 02:00:00   \n",
       "1     https://www.irishexaminer.com/farming/arid-100... 2002-07-11 02:00:00   \n",
       "2     https://www.irishexaminer.com/farming/arid-100... 2002-07-11 02:00:00   \n",
       "3     https://www.irishexaminer.com/farming/arid-100... 2002-07-11 02:00:00   \n",
       "4     https://www.irishexaminer.com/farming/arid-100... 2002-07-12 02:00:00   \n",
       "...                                                 ...                 ...   \n",
       "1220  https://www.irishexaminer.com/farming/arid-408... 2022-05-10 14:02:00   \n",
       "1221  https://www.irishexaminer.com/farming/arid-408... 2022-05-11 06:22:00   \n",
       "1222  https://www.irishexaminer.com/farming/arid-408... 2022-05-11 15:16:00   \n",
       "1223  https://www.irishexaminer.com/food/arid-408657... 2022-05-14 06:00:00   \n",
       "1224  https://www.irishexaminer.com/food/arid-408718... 2022-05-14 06:00:00   \n",
       "\n",
       "                                                  Title  \\\n",
       "0     Farm leaders condemn CAP reforms as Greens say...   \n",
       "1      EU Commission positive, but beef prospects mixed   \n",
       "2                              As big as foot and mouth   \n",
       "3                              As big as foot and mouth   \n",
       "4     CAP reform will force beef plant closures, say...   \n",
       "...                                                 ...   \n",
       "1220     Over €1m expected for 87-acre Golden Vale farm   \n",
       "1221  Lamb prices: Some processors offering up to 20...   \n",
       "1222  Agriculture minister rules out restoring ban o...   \n",
       "1223  Caitriona Redmond: As prices rise families may...   \n",
       "1224  Darina Allen: Use up every last scrap of food ...   \n",
       "\n",
       "                                                   Text  \\\n",
       "0     However, the Irish Cattle Sheep Farmers Associ...   \n",
       "1     In its just published seven year trade outlook...   \n",
       "2     Question 1: Do you want a change to area- base...   \n",
       "3     Question 1: Do you want a change to area- base...   \n",
       "4     In the past five years the number of processor...   \n",
       "...                                                 ...   \n",
       "1220  It's another week and another public and onlin...   \n",
       "1221  Lamb prices have improved by up to 20 cents/kg...   \n",
       "1222  There are no plans to ban below-cost selling o...   \n",
       "1223  When I talk about feeding families on a budget...   \n",
       "1224  This week’s column will focus on sustainable f...   \n",
       "\n",
       "                                           Cleaned_text  Sentiment  \n",
       "0     however, the irish cattle sheep farmers associ...   0.087524  \n",
       "1     in its just published seven year trade outlook...   0.080172  \n",
       "2     question 1: do you want a change to area- base...   0.106401  \n",
       "3     question 1: do you want a change to area- base...   0.106401  \n",
       "4     in the past five years the number of processor...   0.122250  \n",
       "...                                                 ...        ...  \n",
       "1220  it's another week and another public and onlin...   0.332275  \n",
       "1221  lamb prices have improved by up to 20 cents/kg...   0.215801  \n",
       "1222  there are no plans to ban below-cost selling o...   0.078823  \n",
       "1223  when i talk about feeding families on a budget...   0.136270  \n",
       "1224  this week’s column will focus on sustainable f...   0.167441  \n",
       "\n",
       "[1225 rows x 6 columns]"
      ]
     },
     "execution_count": 5,
     "metadata": {},
     "output_type": "execute_result"
    }
   ],
   "source": [
    "consumerData = WordCleaning(consumerData, 'Text')\n",
    "consumerData.getSentiment()\n",
    "consumerData.data"
   ]
  },
  {
   "cell_type": "markdown",
   "id": "d4898946",
   "metadata": {},
   "source": [
    "# Resample data to Monthly \n",
    "\n",
    "The dataframes will be resampled to monthly as there are not enough articles to do daily analysis of sentiment.  The sentiment will get the mean of the month sentiment. This will be done for both producer and consumer."
   ]
  },
  {
   "cell_type": "markdown",
   "id": "784adc05",
   "metadata": {},
   "source": [
    "## Producer Resample"
   ]
  },
  {
   "cell_type": "code",
   "execution_count": 6,
   "id": "e3cb5239",
   "metadata": {
    "ExecuteTime": {
     "end_time": "2022-05-22T20:19:09.573230Z",
     "start_time": "2022-05-22T20:19:09.512980Z"
    }
   },
   "outputs": [
    {
     "data": {
      "text/html": [
       "<div>\n",
       "<style scoped>\n",
       "    .dataframe tbody tr th:only-of-type {\n",
       "        vertical-align: middle;\n",
       "    }\n",
       "\n",
       "    .dataframe tbody tr th {\n",
       "        vertical-align: top;\n",
       "    }\n",
       "\n",
       "    .dataframe thead th {\n",
       "        text-align: right;\n",
       "    }\n",
       "</style>\n",
       "<table border=\"1\" class=\"dataframe\">\n",
       "  <thead>\n",
       "    <tr style=\"text-align: right;\">\n",
       "      <th></th>\n",
       "      <th>farmer_sentiment</th>\n",
       "    </tr>\n",
       "    <tr>\n",
       "      <th>Date</th>\n",
       "      <th></th>\n",
       "    </tr>\n",
       "  </thead>\n",
       "  <tbody>\n",
       "    <tr>\n",
       "      <th>2010-11-01</th>\n",
       "      <td>0.007835</td>\n",
       "    </tr>\n",
       "    <tr>\n",
       "      <th>2011-01-01</th>\n",
       "      <td>0.037752</td>\n",
       "    </tr>\n",
       "    <tr>\n",
       "      <th>2011-02-01</th>\n",
       "      <td>0.089827</td>\n",
       "    </tr>\n",
       "    <tr>\n",
       "      <th>2011-03-01</th>\n",
       "      <td>0.047175</td>\n",
       "    </tr>\n",
       "    <tr>\n",
       "      <th>2011-04-01</th>\n",
       "      <td>-0.120278</td>\n",
       "    </tr>\n",
       "    <tr>\n",
       "      <th>...</th>\n",
       "      <td>...</td>\n",
       "    </tr>\n",
       "    <tr>\n",
       "      <th>2022-01-01</th>\n",
       "      <td>0.066922</td>\n",
       "    </tr>\n",
       "    <tr>\n",
       "      <th>2022-02-01</th>\n",
       "      <td>0.104565</td>\n",
       "    </tr>\n",
       "    <tr>\n",
       "      <th>2022-03-01</th>\n",
       "      <td>0.077841</td>\n",
       "    </tr>\n",
       "    <tr>\n",
       "      <th>2022-04-01</th>\n",
       "      <td>0.117588</td>\n",
       "    </tr>\n",
       "    <tr>\n",
       "      <th>2022-05-01</th>\n",
       "      <td>0.087119</td>\n",
       "    </tr>\n",
       "  </tbody>\n",
       "</table>\n",
       "<p>120 rows × 1 columns</p>\n",
       "</div>"
      ],
      "text/plain": [
       "            farmer_sentiment\n",
       "Date                        \n",
       "2010-11-01          0.007835\n",
       "2011-01-01          0.037752\n",
       "2011-02-01          0.089827\n",
       "2011-03-01          0.047175\n",
       "2011-04-01         -0.120278\n",
       "...                      ...\n",
       "2022-01-01          0.066922\n",
       "2022-02-01          0.104565\n",
       "2022-03-01          0.077841\n",
       "2022-04-01          0.117588\n",
       "2022-05-01          0.087119\n",
       "\n",
       "[120 rows x 1 columns]"
      ]
     },
     "execution_count": 6,
     "metadata": {},
     "output_type": "execute_result"
    }
   ],
   "source": [
    "farmerData = farmerData.data.resample('M', on='Date').mean()\n",
    "farmerData.reset_index(inplace=True)\n",
    "\n",
    "farmerData.Date = formatDates(farmerData, 0)\n",
    "farmerData.Date = pd.to_datetime(farmerData.Date)\n",
    "farmerData.set_index('Date', inplace=True)\n",
    "farmerData.dropna(inplace=True)\n",
    "farmerData.columns = ['farmer_sentiment']\n",
    "farmerData"
   ]
  },
  {
   "cell_type": "markdown",
   "id": "a79541b2",
   "metadata": {},
   "source": [
    "## Consumer Resample"
   ]
  },
  {
   "cell_type": "code",
   "execution_count": 7,
   "id": "91c80fc6",
   "metadata": {
    "ExecuteTime": {
     "end_time": "2022-05-22T20:19:09.621003Z",
     "start_time": "2022-05-22T20:19:09.574907Z"
    },
    "scrolled": true
   },
   "outputs": [
    {
     "data": {
      "text/html": [
       "<div>\n",
       "<style scoped>\n",
       "    .dataframe tbody tr th:only-of-type {\n",
       "        vertical-align: middle;\n",
       "    }\n",
       "\n",
       "    .dataframe tbody tr th {\n",
       "        vertical-align: top;\n",
       "    }\n",
       "\n",
       "    .dataframe thead th {\n",
       "        text-align: right;\n",
       "    }\n",
       "</style>\n",
       "<table border=\"1\" class=\"dataframe\">\n",
       "  <thead>\n",
       "    <tr style=\"text-align: right;\">\n",
       "      <th></th>\n",
       "      <th>consumer_sentiment</th>\n",
       "    </tr>\n",
       "    <tr>\n",
       "      <th>Date</th>\n",
       "      <th></th>\n",
       "    </tr>\n",
       "  </thead>\n",
       "  <tbody>\n",
       "    <tr>\n",
       "      <th>2002-07-01</th>\n",
       "      <td>0.090516</td>\n",
       "    </tr>\n",
       "    <tr>\n",
       "      <th>2002-08-01</th>\n",
       "      <td>0.065044</td>\n",
       "    </tr>\n",
       "    <tr>\n",
       "      <th>2002-09-01</th>\n",
       "      <td>0.118545</td>\n",
       "    </tr>\n",
       "    <tr>\n",
       "      <th>2002-10-01</th>\n",
       "      <td>0.064515</td>\n",
       "    </tr>\n",
       "    <tr>\n",
       "      <th>2002-11-01</th>\n",
       "      <td>0.067729</td>\n",
       "    </tr>\n",
       "    <tr>\n",
       "      <th>...</th>\n",
       "      <td>...</td>\n",
       "    </tr>\n",
       "    <tr>\n",
       "      <th>2022-01-01</th>\n",
       "      <td>0.116012</td>\n",
       "    </tr>\n",
       "    <tr>\n",
       "      <th>2022-02-01</th>\n",
       "      <td>0.007873</td>\n",
       "    </tr>\n",
       "    <tr>\n",
       "      <th>2022-03-01</th>\n",
       "      <td>0.086016</td>\n",
       "    </tr>\n",
       "    <tr>\n",
       "      <th>2022-04-01</th>\n",
       "      <td>0.129803</td>\n",
       "    </tr>\n",
       "    <tr>\n",
       "      <th>2022-05-01</th>\n",
       "      <td>0.147654</td>\n",
       "    </tr>\n",
       "  </tbody>\n",
       "</table>\n",
       "<p>108 rows × 1 columns</p>\n",
       "</div>"
      ],
      "text/plain": [
       "            consumer_sentiment\n",
       "Date                          \n",
       "2002-07-01            0.090516\n",
       "2002-08-01            0.065044\n",
       "2002-09-01            0.118545\n",
       "2002-10-01            0.064515\n",
       "2002-11-01            0.067729\n",
       "...                        ...\n",
       "2022-01-01            0.116012\n",
       "2022-02-01            0.007873\n",
       "2022-03-01            0.086016\n",
       "2022-04-01            0.129803\n",
       "2022-05-01            0.147654\n",
       "\n",
       "[108 rows x 1 columns]"
      ]
     },
     "execution_count": 7,
     "metadata": {},
     "output_type": "execute_result"
    }
   ],
   "source": [
    "consumerData = consumerData.data.resample('M', on='Date').mean()\n",
    "consumerData.reset_index(inplace=True)\n",
    "\n",
    "consumerData.Date = formatDates(consumerData, 0)\n",
    "consumerData.Date = pd.to_datetime(consumerData.Date)\n",
    "consumerData.set_index('Date', inplace=True)\n",
    "consumerData.dropna(inplace=True)\n",
    "consumerData.columns = ['consumer_sentiment']\n",
    "consumerData"
   ]
  },
  {
   "cell_type": "markdown",
   "id": "cb6162bc",
   "metadata": {},
   "source": [
    "## Merge Both Sentiments into One"
   ]
  },
  {
   "cell_type": "code",
   "execution_count": 8,
   "id": "37c20f23",
   "metadata": {
    "ExecuteTime": {
     "end_time": "2022-05-22T20:19:09.653018Z",
     "start_time": "2022-05-22T20:19:09.622003Z"
    },
    "scrolled": true
   },
   "outputs": [
    {
     "data": {
      "text/html": [
       "<div>\n",
       "<style scoped>\n",
       "    .dataframe tbody tr th:only-of-type {\n",
       "        vertical-align: middle;\n",
       "    }\n",
       "\n",
       "    .dataframe tbody tr th {\n",
       "        vertical-align: top;\n",
       "    }\n",
       "\n",
       "    .dataframe thead th {\n",
       "        text-align: right;\n",
       "    }\n",
       "</style>\n",
       "<table border=\"1\" class=\"dataframe\">\n",
       "  <thead>\n",
       "    <tr style=\"text-align: right;\">\n",
       "      <th></th>\n",
       "      <th>consumer_sentiment</th>\n",
       "      <th>farmer_sentiment</th>\n",
       "    </tr>\n",
       "    <tr>\n",
       "      <th>Date</th>\n",
       "      <th></th>\n",
       "      <th></th>\n",
       "    </tr>\n",
       "  </thead>\n",
       "  <tbody>\n",
       "    <tr>\n",
       "      <th>2010-11-01</th>\n",
       "      <td>-0.013120</td>\n",
       "      <td>0.007835</td>\n",
       "    </tr>\n",
       "    <tr>\n",
       "      <th>2011-01-01</th>\n",
       "      <td>0.242857</td>\n",
       "      <td>0.037752</td>\n",
       "    </tr>\n",
       "    <tr>\n",
       "      <th>2011-03-01</th>\n",
       "      <td>-0.083785</td>\n",
       "      <td>0.047175</td>\n",
       "    </tr>\n",
       "    <tr>\n",
       "      <th>2016-04-01</th>\n",
       "      <td>0.068676</td>\n",
       "      <td>-0.042806</td>\n",
       "    </tr>\n",
       "    <tr>\n",
       "      <th>2017-01-01</th>\n",
       "      <td>0.152916</td>\n",
       "      <td>0.051089</td>\n",
       "    </tr>\n",
       "    <tr>\n",
       "      <th>2017-06-01</th>\n",
       "      <td>0.123968</td>\n",
       "      <td>0.023762</td>\n",
       "    </tr>\n",
       "    <tr>\n",
       "      <th>2017-07-01</th>\n",
       "      <td>0.061260</td>\n",
       "      <td>0.087950</td>\n",
       "    </tr>\n",
       "    <tr>\n",
       "      <th>2017-08-01</th>\n",
       "      <td>0.112078</td>\n",
       "      <td>0.017779</td>\n",
       "    </tr>\n",
       "    <tr>\n",
       "      <th>2017-09-01</th>\n",
       "      <td>0.061910</td>\n",
       "      <td>0.059699</td>\n",
       "    </tr>\n",
       "    <tr>\n",
       "      <th>2017-10-01</th>\n",
       "      <td>-0.016364</td>\n",
       "      <td>0.083014</td>\n",
       "    </tr>\n",
       "    <tr>\n",
       "      <th>2017-11-01</th>\n",
       "      <td>0.067080</td>\n",
       "      <td>0.014705</td>\n",
       "    </tr>\n",
       "    <tr>\n",
       "      <th>2017-12-01</th>\n",
       "      <td>0.146014</td>\n",
       "      <td>-0.003121</td>\n",
       "    </tr>\n",
       "    <tr>\n",
       "      <th>2019-06-01</th>\n",
       "      <td>0.070000</td>\n",
       "      <td>-0.016806</td>\n",
       "    </tr>\n",
       "    <tr>\n",
       "      <th>2019-09-01</th>\n",
       "      <td>0.062029</td>\n",
       "      <td>0.050847</td>\n",
       "    </tr>\n",
       "    <tr>\n",
       "      <th>2019-11-01</th>\n",
       "      <td>0.062405</td>\n",
       "      <td>0.041611</td>\n",
       "    </tr>\n",
       "    <tr>\n",
       "      <th>2019-12-01</th>\n",
       "      <td>0.049360</td>\n",
       "      <td>0.023966</td>\n",
       "    </tr>\n",
       "    <tr>\n",
       "      <th>2020-01-01</th>\n",
       "      <td>0.093384</td>\n",
       "      <td>0.179545</td>\n",
       "    </tr>\n",
       "    <tr>\n",
       "      <th>2020-02-01</th>\n",
       "      <td>0.070829</td>\n",
       "      <td>0.058634</td>\n",
       "    </tr>\n",
       "    <tr>\n",
       "      <th>2020-03-01</th>\n",
       "      <td>0.084442</td>\n",
       "      <td>0.080147</td>\n",
       "    </tr>\n",
       "    <tr>\n",
       "      <th>2020-04-01</th>\n",
       "      <td>0.074937</td>\n",
       "      <td>0.081412</td>\n",
       "    </tr>\n",
       "    <tr>\n",
       "      <th>2020-07-01</th>\n",
       "      <td>0.133542</td>\n",
       "      <td>0.102352</td>\n",
       "    </tr>\n",
       "    <tr>\n",
       "      <th>2020-08-01</th>\n",
       "      <td>0.084898</td>\n",
       "      <td>0.107127</td>\n",
       "    </tr>\n",
       "    <tr>\n",
       "      <th>2020-09-01</th>\n",
       "      <td>0.135095</td>\n",
       "      <td>0.103648</td>\n",
       "    </tr>\n",
       "    <tr>\n",
       "      <th>2020-10-01</th>\n",
       "      <td>0.102108</td>\n",
       "      <td>0.098326</td>\n",
       "    </tr>\n",
       "    <tr>\n",
       "      <th>2020-11-01</th>\n",
       "      <td>0.118779</td>\n",
       "      <td>0.128080</td>\n",
       "    </tr>\n",
       "    <tr>\n",
       "      <th>2020-12-01</th>\n",
       "      <td>0.109252</td>\n",
       "      <td>0.071315</td>\n",
       "    </tr>\n",
       "    <tr>\n",
       "      <th>2021-01-01</th>\n",
       "      <td>0.108786</td>\n",
       "      <td>0.144274</td>\n",
       "    </tr>\n",
       "    <tr>\n",
       "      <th>2021-02-01</th>\n",
       "      <td>0.163817</td>\n",
       "      <td>0.083605</td>\n",
       "    </tr>\n",
       "    <tr>\n",
       "      <th>2021-03-01</th>\n",
       "      <td>0.085742</td>\n",
       "      <td>0.058761</td>\n",
       "    </tr>\n",
       "    <tr>\n",
       "      <th>2021-04-01</th>\n",
       "      <td>0.113471</td>\n",
       "      <td>0.114977</td>\n",
       "    </tr>\n",
       "    <tr>\n",
       "      <th>2021-05-01</th>\n",
       "      <td>0.107574</td>\n",
       "      <td>0.044357</td>\n",
       "    </tr>\n",
       "    <tr>\n",
       "      <th>2021-06-01</th>\n",
       "      <td>0.100127</td>\n",
       "      <td>0.046563</td>\n",
       "    </tr>\n",
       "    <tr>\n",
       "      <th>2021-07-01</th>\n",
       "      <td>0.097589</td>\n",
       "      <td>0.082776</td>\n",
       "    </tr>\n",
       "    <tr>\n",
       "      <th>2021-08-01</th>\n",
       "      <td>0.084330</td>\n",
       "      <td>0.093392</td>\n",
       "    </tr>\n",
       "    <tr>\n",
       "      <th>2021-09-01</th>\n",
       "      <td>0.118174</td>\n",
       "      <td>0.092411</td>\n",
       "    </tr>\n",
       "    <tr>\n",
       "      <th>2021-10-01</th>\n",
       "      <td>0.113769</td>\n",
       "      <td>0.088121</td>\n",
       "    </tr>\n",
       "    <tr>\n",
       "      <th>2021-11-01</th>\n",
       "      <td>0.112656</td>\n",
       "      <td>0.125407</td>\n",
       "    </tr>\n",
       "    <tr>\n",
       "      <th>2021-12-01</th>\n",
       "      <td>0.125088</td>\n",
       "      <td>0.089245</td>\n",
       "    </tr>\n",
       "    <tr>\n",
       "      <th>2022-01-01</th>\n",
       "      <td>0.116012</td>\n",
       "      <td>0.066922</td>\n",
       "    </tr>\n",
       "    <tr>\n",
       "      <th>2022-02-01</th>\n",
       "      <td>0.007873</td>\n",
       "      <td>0.104565</td>\n",
       "    </tr>\n",
       "    <tr>\n",
       "      <th>2022-03-01</th>\n",
       "      <td>0.086016</td>\n",
       "      <td>0.077841</td>\n",
       "    </tr>\n",
       "    <tr>\n",
       "      <th>2022-04-01</th>\n",
       "      <td>0.129803</td>\n",
       "      <td>0.117588</td>\n",
       "    </tr>\n",
       "    <tr>\n",
       "      <th>2022-05-01</th>\n",
       "      <td>0.147654</td>\n",
       "      <td>0.087119</td>\n",
       "    </tr>\n",
       "  </tbody>\n",
       "</table>\n",
       "</div>"
      ],
      "text/plain": [
       "            consumer_sentiment  farmer_sentiment\n",
       "Date                                            \n",
       "2010-11-01           -0.013120          0.007835\n",
       "2011-01-01            0.242857          0.037752\n",
       "2011-03-01           -0.083785          0.047175\n",
       "2016-04-01            0.068676         -0.042806\n",
       "2017-01-01            0.152916          0.051089\n",
       "2017-06-01            0.123968          0.023762\n",
       "2017-07-01            0.061260          0.087950\n",
       "2017-08-01            0.112078          0.017779\n",
       "2017-09-01            0.061910          0.059699\n",
       "2017-10-01           -0.016364          0.083014\n",
       "2017-11-01            0.067080          0.014705\n",
       "2017-12-01            0.146014         -0.003121\n",
       "2019-06-01            0.070000         -0.016806\n",
       "2019-09-01            0.062029          0.050847\n",
       "2019-11-01            0.062405          0.041611\n",
       "2019-12-01            0.049360          0.023966\n",
       "2020-01-01            0.093384          0.179545\n",
       "2020-02-01            0.070829          0.058634\n",
       "2020-03-01            0.084442          0.080147\n",
       "2020-04-01            0.074937          0.081412\n",
       "2020-07-01            0.133542          0.102352\n",
       "2020-08-01            0.084898          0.107127\n",
       "2020-09-01            0.135095          0.103648\n",
       "2020-10-01            0.102108          0.098326\n",
       "2020-11-01            0.118779          0.128080\n",
       "2020-12-01            0.109252          0.071315\n",
       "2021-01-01            0.108786          0.144274\n",
       "2021-02-01            0.163817          0.083605\n",
       "2021-03-01            0.085742          0.058761\n",
       "2021-04-01            0.113471          0.114977\n",
       "2021-05-01            0.107574          0.044357\n",
       "2021-06-01            0.100127          0.046563\n",
       "2021-07-01            0.097589          0.082776\n",
       "2021-08-01            0.084330          0.093392\n",
       "2021-09-01            0.118174          0.092411\n",
       "2021-10-01            0.113769          0.088121\n",
       "2021-11-01            0.112656          0.125407\n",
       "2021-12-01            0.125088          0.089245\n",
       "2022-01-01            0.116012          0.066922\n",
       "2022-02-01            0.007873          0.104565\n",
       "2022-03-01            0.086016          0.077841\n",
       "2022-04-01            0.129803          0.117588\n",
       "2022-05-01            0.147654          0.087119"
      ]
     },
     "execution_count": 8,
     "metadata": {},
     "output_type": "execute_result"
    }
   ],
   "source": [
    "allSentiment = pd.concat([consumerData, farmerData], axis=1)\n",
    "allSentiment.dropna(inplace=True)\n",
    "allSentiment"
   ]
  },
  {
   "cell_type": "markdown",
   "id": "c7c88ea5",
   "metadata": {},
   "source": [
    "# Import Irish Monthly Prices\n",
    "\n",
    "Imported steak prices in Ireland from the CRO.  There is no direct cost of carcass bovine meat but steak prices should reflect the overall cost of bovine carcass in Ireland once processed. "
   ]
  },
  {
   "cell_type": "code",
   "execution_count": 9,
   "id": "ae13ee37",
   "metadata": {
    "ExecuteTime": {
     "end_time": "2022-05-22T20:19:09.684057Z",
     "start_time": "2022-05-22T20:19:09.656018Z"
    }
   },
   "outputs": [
    {
     "data": {
      "text/html": [
       "<div>\n",
       "<style scoped>\n",
       "    .dataframe tbody tr th:only-of-type {\n",
       "        vertical-align: middle;\n",
       "    }\n",
       "\n",
       "    .dataframe tbody tr th {\n",
       "        vertical-align: top;\n",
       "    }\n",
       "\n",
       "    .dataframe thead th {\n",
       "        text-align: right;\n",
       "    }\n",
       "</style>\n",
       "<table border=\"1\" class=\"dataframe\">\n",
       "  <thead>\n",
       "    <tr style=\"text-align: right;\">\n",
       "      <th></th>\n",
       "      <th>steak_prices</th>\n",
       "    </tr>\n",
       "    <tr>\n",
       "      <th>Month</th>\n",
       "      <th></th>\n",
       "    </tr>\n",
       "  </thead>\n",
       "  <tbody>\n",
       "    <tr>\n",
       "      <th>2012-01-01</th>\n",
       "      <td>18.0075</td>\n",
       "    </tr>\n",
       "    <tr>\n",
       "      <th>2012-02-01</th>\n",
       "      <td>17.5945</td>\n",
       "    </tr>\n",
       "    <tr>\n",
       "      <th>2012-03-01</th>\n",
       "      <td>18.2155</td>\n",
       "    </tr>\n",
       "    <tr>\n",
       "      <th>2012-04-01</th>\n",
       "      <td>18.7900</td>\n",
       "    </tr>\n",
       "    <tr>\n",
       "      <th>2012-05-01</th>\n",
       "      <td>18.7345</td>\n",
       "    </tr>\n",
       "    <tr>\n",
       "      <th>...</th>\n",
       "      <td>...</td>\n",
       "    </tr>\n",
       "    <tr>\n",
       "      <th>2021-11-01</th>\n",
       "      <td>16.8100</td>\n",
       "    </tr>\n",
       "    <tr>\n",
       "      <th>2021-12-01</th>\n",
       "      <td>17.3090</td>\n",
       "    </tr>\n",
       "    <tr>\n",
       "      <th>2022-01-01</th>\n",
       "      <td>17.3475</td>\n",
       "    </tr>\n",
       "    <tr>\n",
       "      <th>2022-02-01</th>\n",
       "      <td>17.3620</td>\n",
       "    </tr>\n",
       "    <tr>\n",
       "      <th>2022-03-01</th>\n",
       "      <td>17.8710</td>\n",
       "    </tr>\n",
       "  </tbody>\n",
       "</table>\n",
       "<p>123 rows × 1 columns</p>\n",
       "</div>"
      ],
      "text/plain": [
       "            steak_prices\n",
       "Month                   \n",
       "2012-01-01       18.0075\n",
       "2012-02-01       17.5945\n",
       "2012-03-01       18.2155\n",
       "2012-04-01       18.7900\n",
       "2012-05-01       18.7345\n",
       "...                  ...\n",
       "2021-11-01       16.8100\n",
       "2021-12-01       17.3090\n",
       "2022-01-01       17.3475\n",
       "2022-02-01       17.3620\n",
       "2022-03-01       17.8710\n",
       "\n",
       "[123 rows x 1 columns]"
      ]
     },
     "execution_count": 9,
     "metadata": {},
     "output_type": "execute_result"
    }
   ],
   "source": [
    "#https://data.cso.ie/table/CPM12\n",
    "steakPrices = pd.read_csv('data/steakPricesIreland.csv')\n",
    "steakPrices.Month = pd.to_datetime(steakPrices.Month, format='%YM%m')\n",
    "steakPrices = steakPrices.groupby('Month').mean()\n",
    "steakPrices.dropna(inplace=True)\n",
    "steakPrices.columns = ['steak_prices']\n",
    "steakPrices"
   ]
  },
  {
   "cell_type": "markdown",
   "id": "c4f7e903",
   "metadata": {},
   "source": [
    "# Merge all Datasets\n",
    "\n",
    "Now merge sentiment with prices and see if there are any correlations."
   ]
  },
  {
   "cell_type": "code",
   "execution_count": 10,
   "id": "66db3928",
   "metadata": {
    "ExecuteTime": {
     "end_time": "2022-05-22T20:19:09.715185Z",
     "start_time": "2022-05-22T20:19:09.686060Z"
    },
    "scrolled": true
   },
   "outputs": [
    {
     "data": {
      "text/html": [
       "<div>\n",
       "<style scoped>\n",
       "    .dataframe tbody tr th:only-of-type {\n",
       "        vertical-align: middle;\n",
       "    }\n",
       "\n",
       "    .dataframe tbody tr th {\n",
       "        vertical-align: top;\n",
       "    }\n",
       "\n",
       "    .dataframe thead th {\n",
       "        text-align: right;\n",
       "    }\n",
       "</style>\n",
       "<table border=\"1\" class=\"dataframe\">\n",
       "  <thead>\n",
       "    <tr style=\"text-align: right;\">\n",
       "      <th></th>\n",
       "      <th>consumer_sentiment</th>\n",
       "      <th>farmer_sentiment</th>\n",
       "      <th>steak_prices</th>\n",
       "    </tr>\n",
       "  </thead>\n",
       "  <tbody>\n",
       "    <tr>\n",
       "      <th>2016-04-01</th>\n",
       "      <td>0.068676</td>\n",
       "      <td>-0.042806</td>\n",
       "      <td>18.5490</td>\n",
       "    </tr>\n",
       "    <tr>\n",
       "      <th>2017-01-01</th>\n",
       "      <td>0.152916</td>\n",
       "      <td>0.051089</td>\n",
       "      <td>19.8480</td>\n",
       "    </tr>\n",
       "    <tr>\n",
       "      <th>2017-06-01</th>\n",
       "      <td>0.123968</td>\n",
       "      <td>0.023762</td>\n",
       "      <td>19.0085</td>\n",
       "    </tr>\n",
       "    <tr>\n",
       "      <th>2017-07-01</th>\n",
       "      <td>0.061260</td>\n",
       "      <td>0.087950</td>\n",
       "      <td>18.7060</td>\n",
       "    </tr>\n",
       "    <tr>\n",
       "      <th>2017-08-01</th>\n",
       "      <td>0.112078</td>\n",
       "      <td>0.017779</td>\n",
       "      <td>18.5045</td>\n",
       "    </tr>\n",
       "    <tr>\n",
       "      <th>2017-09-01</th>\n",
       "      <td>0.061910</td>\n",
       "      <td>0.059699</td>\n",
       "      <td>19.6500</td>\n",
       "    </tr>\n",
       "    <tr>\n",
       "      <th>2017-10-01</th>\n",
       "      <td>-0.016364</td>\n",
       "      <td>0.083014</td>\n",
       "      <td>19.1305</td>\n",
       "    </tr>\n",
       "    <tr>\n",
       "      <th>2017-11-01</th>\n",
       "      <td>0.067080</td>\n",
       "      <td>0.014705</td>\n",
       "      <td>18.5435</td>\n",
       "    </tr>\n",
       "    <tr>\n",
       "      <th>2017-12-01</th>\n",
       "      <td>0.146014</td>\n",
       "      <td>-0.003121</td>\n",
       "      <td>17.7785</td>\n",
       "    </tr>\n",
       "    <tr>\n",
       "      <th>2019-06-01</th>\n",
       "      <td>0.070000</td>\n",
       "      <td>-0.016806</td>\n",
       "      <td>17.5765</td>\n",
       "    </tr>\n",
       "    <tr>\n",
       "      <th>2019-09-01</th>\n",
       "      <td>0.062029</td>\n",
       "      <td>0.050847</td>\n",
       "      <td>18.1945</td>\n",
       "    </tr>\n",
       "    <tr>\n",
       "      <th>2019-11-01</th>\n",
       "      <td>0.062405</td>\n",
       "      <td>0.041611</td>\n",
       "      <td>17.5545</td>\n",
       "    </tr>\n",
       "    <tr>\n",
       "      <th>2019-12-01</th>\n",
       "      <td>0.049360</td>\n",
       "      <td>0.023966</td>\n",
       "      <td>18.0625</td>\n",
       "    </tr>\n",
       "    <tr>\n",
       "      <th>2020-01-01</th>\n",
       "      <td>0.093384</td>\n",
       "      <td>0.179545</td>\n",
       "      <td>17.5275</td>\n",
       "    </tr>\n",
       "    <tr>\n",
       "      <th>2020-02-01</th>\n",
       "      <td>0.070829</td>\n",
       "      <td>0.058634</td>\n",
       "      <td>17.2815</td>\n",
       "    </tr>\n",
       "    <tr>\n",
       "      <th>2020-03-01</th>\n",
       "      <td>0.084442</td>\n",
       "      <td>0.080147</td>\n",
       "      <td>18.3975</td>\n",
       "    </tr>\n",
       "    <tr>\n",
       "      <th>2020-04-01</th>\n",
       "      <td>0.074937</td>\n",
       "      <td>0.081412</td>\n",
       "      <td>17.6435</td>\n",
       "    </tr>\n",
       "    <tr>\n",
       "      <th>2020-07-01</th>\n",
       "      <td>0.133542</td>\n",
       "      <td>0.102352</td>\n",
       "      <td>17.1985</td>\n",
       "    </tr>\n",
       "    <tr>\n",
       "      <th>2020-08-01</th>\n",
       "      <td>0.084898</td>\n",
       "      <td>0.107127</td>\n",
       "      <td>17.4525</td>\n",
       "    </tr>\n",
       "    <tr>\n",
       "      <th>2020-09-01</th>\n",
       "      <td>0.135095</td>\n",
       "      <td>0.103648</td>\n",
       "      <td>17.4010</td>\n",
       "    </tr>\n",
       "    <tr>\n",
       "      <th>2020-10-01</th>\n",
       "      <td>0.102108</td>\n",
       "      <td>0.098326</td>\n",
       "      <td>17.4525</td>\n",
       "    </tr>\n",
       "    <tr>\n",
       "      <th>2020-11-01</th>\n",
       "      <td>0.118779</td>\n",
       "      <td>0.128080</td>\n",
       "      <td>17.4305</td>\n",
       "    </tr>\n",
       "    <tr>\n",
       "      <th>2020-12-01</th>\n",
       "      <td>0.109252</td>\n",
       "      <td>0.071315</td>\n",
       "      <td>17.3715</td>\n",
       "    </tr>\n",
       "    <tr>\n",
       "      <th>2021-01-01</th>\n",
       "      <td>0.108786</td>\n",
       "      <td>0.144274</td>\n",
       "      <td>17.0585</td>\n",
       "    </tr>\n",
       "    <tr>\n",
       "      <th>2021-02-01</th>\n",
       "      <td>0.163817</td>\n",
       "      <td>0.083605</td>\n",
       "      <td>16.7510</td>\n",
       "    </tr>\n",
       "    <tr>\n",
       "      <th>2021-03-01</th>\n",
       "      <td>0.085742</td>\n",
       "      <td>0.058761</td>\n",
       "      <td>17.2530</td>\n",
       "    </tr>\n",
       "    <tr>\n",
       "      <th>2021-04-01</th>\n",
       "      <td>0.113471</td>\n",
       "      <td>0.114977</td>\n",
       "      <td>17.2585</td>\n",
       "    </tr>\n",
       "    <tr>\n",
       "      <th>2021-05-01</th>\n",
       "      <td>0.107574</td>\n",
       "      <td>0.044357</td>\n",
       "      <td>16.8795</td>\n",
       "    </tr>\n",
       "    <tr>\n",
       "      <th>2021-06-01</th>\n",
       "      <td>0.100127</td>\n",
       "      <td>0.046563</td>\n",
       "      <td>16.9695</td>\n",
       "    </tr>\n",
       "    <tr>\n",
       "      <th>2021-07-01</th>\n",
       "      <td>0.097589</td>\n",
       "      <td>0.082776</td>\n",
       "      <td>16.9870</td>\n",
       "    </tr>\n",
       "    <tr>\n",
       "      <th>2021-08-01</th>\n",
       "      <td>0.084330</td>\n",
       "      <td>0.093392</td>\n",
       "      <td>17.0410</td>\n",
       "    </tr>\n",
       "    <tr>\n",
       "      <th>2021-09-01</th>\n",
       "      <td>0.118174</td>\n",
       "      <td>0.092411</td>\n",
       "      <td>17.1990</td>\n",
       "    </tr>\n",
       "    <tr>\n",
       "      <th>2021-10-01</th>\n",
       "      <td>0.113769</td>\n",
       "      <td>0.088121</td>\n",
       "      <td>17.1930</td>\n",
       "    </tr>\n",
       "    <tr>\n",
       "      <th>2021-11-01</th>\n",
       "      <td>0.112656</td>\n",
       "      <td>0.125407</td>\n",
       "      <td>16.8100</td>\n",
       "    </tr>\n",
       "    <tr>\n",
       "      <th>2021-12-01</th>\n",
       "      <td>0.125088</td>\n",
       "      <td>0.089245</td>\n",
       "      <td>17.3090</td>\n",
       "    </tr>\n",
       "    <tr>\n",
       "      <th>2022-01-01</th>\n",
       "      <td>0.116012</td>\n",
       "      <td>0.066922</td>\n",
       "      <td>17.3475</td>\n",
       "    </tr>\n",
       "    <tr>\n",
       "      <th>2022-02-01</th>\n",
       "      <td>0.007873</td>\n",
       "      <td>0.104565</td>\n",
       "      <td>17.3620</td>\n",
       "    </tr>\n",
       "    <tr>\n",
       "      <th>2022-03-01</th>\n",
       "      <td>0.086016</td>\n",
       "      <td>0.077841</td>\n",
       "      <td>17.8710</td>\n",
       "    </tr>\n",
       "  </tbody>\n",
       "</table>\n",
       "</div>"
      ],
      "text/plain": [
       "            consumer_sentiment  farmer_sentiment  steak_prices\n",
       "2016-04-01            0.068676         -0.042806       18.5490\n",
       "2017-01-01            0.152916          0.051089       19.8480\n",
       "2017-06-01            0.123968          0.023762       19.0085\n",
       "2017-07-01            0.061260          0.087950       18.7060\n",
       "2017-08-01            0.112078          0.017779       18.5045\n",
       "2017-09-01            0.061910          0.059699       19.6500\n",
       "2017-10-01           -0.016364          0.083014       19.1305\n",
       "2017-11-01            0.067080          0.014705       18.5435\n",
       "2017-12-01            0.146014         -0.003121       17.7785\n",
       "2019-06-01            0.070000         -0.016806       17.5765\n",
       "2019-09-01            0.062029          0.050847       18.1945\n",
       "2019-11-01            0.062405          0.041611       17.5545\n",
       "2019-12-01            0.049360          0.023966       18.0625\n",
       "2020-01-01            0.093384          0.179545       17.5275\n",
       "2020-02-01            0.070829          0.058634       17.2815\n",
       "2020-03-01            0.084442          0.080147       18.3975\n",
       "2020-04-01            0.074937          0.081412       17.6435\n",
       "2020-07-01            0.133542          0.102352       17.1985\n",
       "2020-08-01            0.084898          0.107127       17.4525\n",
       "2020-09-01            0.135095          0.103648       17.4010\n",
       "2020-10-01            0.102108          0.098326       17.4525\n",
       "2020-11-01            0.118779          0.128080       17.4305\n",
       "2020-12-01            0.109252          0.071315       17.3715\n",
       "2021-01-01            0.108786          0.144274       17.0585\n",
       "2021-02-01            0.163817          0.083605       16.7510\n",
       "2021-03-01            0.085742          0.058761       17.2530\n",
       "2021-04-01            0.113471          0.114977       17.2585\n",
       "2021-05-01            0.107574          0.044357       16.8795\n",
       "2021-06-01            0.100127          0.046563       16.9695\n",
       "2021-07-01            0.097589          0.082776       16.9870\n",
       "2021-08-01            0.084330          0.093392       17.0410\n",
       "2021-09-01            0.118174          0.092411       17.1990\n",
       "2021-10-01            0.113769          0.088121       17.1930\n",
       "2021-11-01            0.112656          0.125407       16.8100\n",
       "2021-12-01            0.125088          0.089245       17.3090\n",
       "2022-01-01            0.116012          0.066922       17.3475\n",
       "2022-02-01            0.007873          0.104565       17.3620\n",
       "2022-03-01            0.086016          0.077841       17.8710"
      ]
     },
     "execution_count": 10,
     "metadata": {},
     "output_type": "execute_result"
    }
   ],
   "source": [
    "allSentiment = pd.concat([allSentiment, steakPrices], axis=1)\n",
    "allSentiment.dropna(inplace=True)\n",
    "allSentiment"
   ]
  },
  {
   "cell_type": "code",
   "execution_count": 11,
   "id": "c184f3bb",
   "metadata": {
    "ExecuteTime": {
     "end_time": "2022-05-22T20:19:09.914053Z",
     "start_time": "2022-05-22T20:19:09.717107Z"
    }
   },
   "outputs": [
    {
     "data": {
      "image/png": "[encoded data removed]",
      "text/plain": [
       "<Figure size 432x288 with 1 Axes>"
      ]
     },
     "metadata": {
      "needs_background": "light"
     },
     "output_type": "display_data"
    }
   ],
   "source": [
    "allSentiment[['consumer_sentiment', 'farmer_sentiment']].plot(kind='box', rot=90)\n",
    "plt.title('Plot of Producer and Consumer Sentiment', fontsize=25);"
   ]
  },
  {
   "cell_type": "code",
   "execution_count": 12,
   "id": "ec7e1ad5",
   "metadata": {
    "ExecuteTime": {
     "end_time": "2022-05-22T20:19:11.240217Z",
     "start_time": "2022-05-22T20:19:09.916056Z"
    }
   },
   "outputs": [
    {
     "data": {
      "application/vnd.plotly.v1+json": {
       "config": {
        "linkText": "Export to plot.ly",
        "plotlyServerURL": "https://plot.ly",
        "showLink": true
       },
       "data": [
        {
         "histfunc": "count",
         "histnorm": "",
         "marker": {
          "color": "rgba(255, 153, 51, 1.0)",
          "line": {
           "color": "#4D5663",
           "width": 1.3
          }
         },
         "name": "consumer_sentiment",
         "nbinsx": 25,
         "opacity": 0.8,
         "orientation": "v",
         "type": "histogram",
         "x": [
          0.06867556158600936,
          0.15291587752525254,
          0.12396802770815925,
          0.06125985840180865,
          0.11207788652125346,
          0.06190985715404319,
          -0.016363636363636365,
          0.06708002645502645,
          0.14601446474253496,
          0.07,
          0.062029211547780835,
          0.062404652701129375,
          0.04936027688215781,
          0.09338401369062713,
          0.07082859428557005,
          0.08444187206349725,
          0.07493738337526289,
          0.13354175810133398,
          0.08489772855600232,
          0.13509496535308385,
          0.10210802455107237,
          0.11877919695921159,
          0.10925167328301524,
          0.10878552681704892,
          0.16381671824033944,
          0.08574202621128701,
          0.11347056846628205,
          0.10757434470623027,
          0.10012710203535616,
          0.09758853204430938,
          0.08432963760732515,
          0.11817367299011934,
          0.11376862688168603,
          0.11265644305470465,
          0.1250877788341328,
          0.11601156228650127,
          0.007872852953498106,
          0.08601579444470077
         ],
         "xaxis": "x",
         "yaxis": "y"
        },
        {
         "histfunc": "count",
         "histnorm": "",
         "marker": {
          "color": "rgba(55, 128, 191, 1.0)",
          "line": {
           "color": "#4D5663",
           "width": 1.3
          }
         },
         "name": "farmer_sentiment",
         "nbinsx": 25,
         "opacity": 0.8,
         "orientation": "v",
         "type": "histogram",
         "x": [
          -0.04280552374913299,
          0.05108871860910859,
          0.02376201506125748,
          0.08794992348758879,
          0.01777861241588241,
          0.059698927254169615,
          0.08301393606393609,
          0.014704627291432843,
          -0.00312121212121212,
          -0.01680603655603655,
          0.050846630690761514,
          0.04161054994388327,
          0.0239657580509395,
          0.1795454545454545,
          0.05863363363363363,
          0.08014705882352942,
          0.08141233766233767,
          0.10235181924875132,
          0.1071268452366937,
          0.10364773462343994,
          0.09832584250305318,
          0.1280800761733424,
          0.0713153457351134,
          0.14427448170455415,
          0.08360478379018278,
          0.058760510714254977,
          0.11497691689510317,
          0.044357400855078874,
          0.04656251370576026,
          0.08277597452438569,
          0.09339164023254931,
          0.09241082624272279,
          0.08812130037455823,
          0.12540678248905293,
          0.08924464871862502,
          0.0669216519559769,
          0.1045651164443872,
          0.07784053910948892
         ],
         "xaxis": "x2",
         "yaxis": "y2"
        },
        {
         "histfunc": "count",
         "histnorm": "",
         "marker": {
          "color": "rgba(50, 171, 96, 1.0)",
          "line": {
           "color": "#4D5663",
           "width": 1.3
          }
         },
         "name": "steak_prices",
         "nbinsx": 25,
         "opacity": 0.8,
         "orientation": "v",
         "type": "histogram",
         "x": [
          18.549,
          19.848,
          19.008499999999998,
          18.706,
          18.5045,
          19.65,
          19.1305,
          18.5435,
          17.7785,
          17.5765,
          18.194499999999998,
          17.5545,
          18.0625,
          17.5275,
          17.2815,
          18.3975,
          17.6435,
          17.1985,
          17.4525,
          17.401,
          17.4525,
          17.430500000000002,
          17.3715,
          17.0585,
          16.750999999999998,
          17.253,
          17.2585,
          16.8795,
          16.9695,
          16.987000000000002,
          17.041,
          17.198999999999998,
          17.192999999999998,
          16.810000000000002,
          17.308999999999997,
          17.3475,
          17.362,
          17.871000000000002
         ],
         "xaxis": "x3",
         "yaxis": "y3"
        }
       ],
       "layout": {
        "annotations": [
         {
          "font": {
           "size": 16
          },
          "showarrow": false,
          "text": "consumer_sentiment",
          "x": 0.225,
          "xanchor": "center",
          "xref": "paper",
          "y": 1,
          "yanchor": "bottom",
          "yref": "paper"
         },
         {
          "font": {
           "size": 16
          },
          "showarrow": false,
          "text": "farmer_sentiment",
          "x": 0.775,
          "xanchor": "center",
          "xref": "paper",
          "y": 1,
          "yanchor": "bottom",
          "yref": "paper"
         },
         {
          "font": {
           "size": 16
          },
          "showarrow": false,
          "text": "steak_prices",
          "x": 0.225,
          "xanchor": "center",
          "xref": "paper",
          "y": 0.375,
          "yanchor": "bottom",
          "yref": "paper"
         }
        ],
        "barmode": "overlay",
        "legend": {
         "bgcolor": "#F5F6F9",
         "font": {
          "color": "#4D5663"
         }
        },
        "paper_bgcolor": "#F5F6F9",
        "plot_bgcolor": "#F5F6F9",
        "showlegend": false,
        "template": {
         "data": {
          "bar": [
           {
            "error_x": {
             "color": "#2a3f5f"
            },
            "error_y": {
             "color": "#2a3f5f"
            },
            "marker": {
             "line": {
              "color": "#E5ECF6",
              "width": 0.5
             },
             "pattern": {
              "fillmode": "overlay",
              "size": 10,
              "solidity": 0.2
             }
            },
            "type": "bar"
           }
          ],
          "barpolar": [
           {
            "marker": {
             "line": {
              "color": "#E5ECF6",
              "width": 0.5
             },
             "pattern": {
              "fillmode": "overlay",
              "size": 10,
              "solidity": 0.2
             }
            },
            "type": "barpolar"
           }
          ],
          "carpet": [
           {
            "aaxis": {
             "endlinecolor": "#2a3f5f",
             "gridcolor": "white",
             "linecolor": "white",
             "minorgridcolor": "white",
             "startlinecolor": "#2a3f5f"
            },
            "baxis": {
             "endlinecolor": "#2a3f5f",
             "gridcolor": "white",
             "linecolor": "white",
             "minorgridcolor": "white",
             "startlinecolor": "#2a3f5f"
            },
            "type": "carpet"
           }
          ],
          "choropleth": [
           {
            "colorbar": {
             "outlinewidth": 0,
             "ticks": ""
            },
            "type": "choropleth"
           }
          ],
          "contour": [
           {
            "colorbar": {
             "outlinewidth": 0,
             "ticks": ""
            },
            "colorscale": [
             [
              0,
              "#0d0887"
             ],
             [
              0.1111111111111111,
              "#46039f"
             ],
             [
              0.2222222222222222,
              "#7201a8"
             ],
             [
              0.3333333333333333,
              "#9c179e"
             ],
             [
              0.4444444444444444,
              "#bd3786"
             ],
             [
              0.5555555555555556,
              "#d8576b"
             ],
             [
              0.6666666666666666,
              "#ed7953"
             ],
             [
              0.7777777777777778,
              "#fb9f3a"
             ],
             [
              0.8888888888888888,
              "#fdca26"
             ],
             [
              1,
              "#f0f921"
             ]
            ],
            "type": "contour"
           }
          ],
          "contourcarpet": [
           {
            "colorbar": {
             "outlinewidth": 0,
             "ticks": ""
            },
            "type": "contourcarpet"
           }
          ],
          "heatmap": [
           {
            "colorbar": {
             "outlinewidth": 0,
             "ticks": ""
            },
            "colorscale": [
             [
              0,
              "#0d0887"
             ],
             [
              0.1111111111111111,
              "#46039f"
             ],
             [
              0.2222222222222222,
              "#7201a8"
             ],
             [
              0.3333333333333333,
              "#9c179e"
             ],
             [
              0.4444444444444444,
              "#bd3786"
             ],
             [
              0.5555555555555556,
              "#d8576b"
             ],
             [
              0.6666666666666666,
              "#ed7953"
             ],
             [
              0.7777777777777778,
              "#fb9f3a"
             ],
             [
              0.8888888888888888,
              "#fdca26"
             ],
             [
              1,
              "#f0f921"
             ]
            ],
            "type": "heatmap"
           }
          ],
          "heatmapgl": [
           {
            "colorbar": {
             "outlinewidth": 0,
             "ticks": ""
            },
            "colorscale": [
             [
              0,
              "#0d0887"
             ],
             [
              0.1111111111111111,
              "#46039f"
             ],
             [
              0.2222222222222222,
              "#7201a8"
             ],
             [
              0.3333333333333333,
              "#9c179e"
             ],
             [
              0.4444444444444444,
              "#bd3786"
             ],
             [
              0.5555555555555556,
              "#d8576b"
             ],
             [
              0.6666666666666666,
              "#ed7953"
             ],
             [
              0.7777777777777778,
              "#fb9f3a"
             ],
             [
              0.8888888888888888,
              "#fdca26"
             ],
             [
              1,
              "#f0f921"
             ]
            ],
            "type": "heatmapgl"
           }
          ],
          "histogram": [
           {
            "marker": {
             "pattern": {
              "fillmode": "overlay",
              "size": 10,
              "solidity": 0.2
             }
            },
            "type": "histogram"
           }
          ],
          "histogram2d": [
           {
            "colorbar": {
             "outlinewidth": 0,
             "ticks": ""
            },
            "colorscale": [
             [
              0,
              "#0d0887"
             ],
             [
              0.1111111111111111,
              "#46039f"
             ],
             [
              0.2222222222222222,
              "#7201a8"
             ],
             [
              0.3333333333333333,
              "#9c179e"
             ],
             [
              0.4444444444444444,
              "#bd3786"
             ],
             [
              0.5555555555555556,
              "#d8576b"
             ],
             [
              0.6666666666666666,
              "#ed7953"
             ],
             [
              0.7777777777777778,
              "#fb9f3a"
             ],
             [
              0.8888888888888888,
              "#fdca26"
             ],
             [
              1,
              "#f0f921"
             ]
            ],
            "type": "histogram2d"
           }
          ],
          "histogram2dcontour": [
           {
            "colorbar": {
             "outlinewidth": 0,
             "ticks": ""
            },
            "colorscale": [
             [
              0,
              "#0d0887"
             ],
             [
              0.1111111111111111,
              "#46039f"
             ],
             [
              0.2222222222222222,
              "#7201a8"
             ],
             [
              0.3333333333333333,
              "#9c179e"
             ],
             [
              0.4444444444444444,
              "#bd3786"
             ],
             [
              0.5555555555555556,
              "#d8576b"
             ],
             [
              0.6666666666666666,
              "#ed7953"
             ],
             [
              0.7777777777777778,
              "#fb9f3a"
             ],
             [
              0.8888888888888888,
              "#fdca26"
             ],
             [
              1,
              "#f0f921"
             ]
            ],
            "type": "histogram2dcontour"
           }
          ],
          "mesh3d": [
           {
            "colorbar": {
             "outlinewidth": 0,
             "ticks": ""
            },
            "type": "mesh3d"
           }
          ],
          "parcoords": [
           {
            "line": {
             "colorbar": {
              "outlinewidth": 0,
              "ticks": ""
             }
            },
            "type": "parcoords"
           }
          ],
          "pie": [
           {
            "automargin": true,
            "type": "pie"
           }
          ],
          "scatter": [
           {
            "marker": {
             "colorbar": {
              "outlinewidth": 0,
              "ticks": ""
             }
            },
            "type": "scatter"
           }
          ],
          "scatter3d": [
           {
            "line": {
             "colorbar": {
              "outlinewidth": 0,
              "ticks": ""
             }
            },
            "marker": {
             "colorbar": {
              "outlinewidth": 0,
              "ticks": ""
             }
            },
            "type": "scatter3d"
           }
          ],
          "scattercarpet": [
           {
            "marker": {
             "colorbar": {
              "outlinewidth": 0,
              "ticks": ""
             }
            },
            "type": "scattercarpet"
           }
          ],
          "scattergeo": [
           {
            "marker": {
             "colorbar": {
              "outlinewidth": 0,
              "ticks": ""
             }
            },
            "type": "scattergeo"
           }
          ],
          "scattergl": [
           {
            "marker": {
             "colorbar": {
              "outlinewidth": 0,
              "ticks": ""
             }
            },
            "type": "scattergl"
           }
          ],
          "scattermapbox": [
           {
            "marker": {
             "colorbar": {
              "outlinewidth": 0,
              "ticks": ""
             }
            },
            "type": "scattermapbox"
           }
          ],
          "scatterpolar": [
           {
            "marker": {
             "colorbar": {
              "outlinewidth": 0,
              "ticks": ""
             }
            },
            "type": "scatterpolar"
           }
          ],
          "scatterpolargl": [
           {
            "marker": {
             "colorbar": {
              "outlinewidth": 0,
              "ticks": ""
             }
            },
            "type": "scatterpolargl"
           }
          ],
          "scatterternary": [
           {
            "marker": {
             "colorbar": {
              "outlinewidth": 0,
              "ticks": ""
             }
            },
            "type": "scatterternary"
           }
          ],
          "surface": [
           {
            "colorbar": {
             "outlinewidth": 0,
             "ticks": ""
            },
            "colorscale": [
             [
              0,
              "#0d0887"
             ],
             [
              0.1111111111111111,
              "#46039f"
             ],
             [
              0.2222222222222222,
              "#7201a8"
             ],
             [
              0.3333333333333333,
              "#9c179e"
             ],
             [
              0.4444444444444444,
              "#bd3786"
             ],
             [
              0.5555555555555556,
              "#d8576b"
             ],
             [
              0.6666666666666666,
              "#ed7953"
             ],
             [
              0.7777777777777778,
              "#fb9f3a"
             ],
             [
              0.8888888888888888,
              "#fdca26"
             ],
             [
              1,
              "#f0f921"
             ]
            ],
            "type": "surface"
           }
          ],
          "table": [
           {
            "cells": {
             "fill": {
              "color": "#EBF0F8"
             },
             "line": {
              "color": "white"
             }
            },
            "header": {
             "fill": {
              "color": "#C8D4E3"
             },
             "line": {
              "color": "white"
             }
            },
            "type": "table"
           }
          ]
         },
         "layout": {
          "annotationdefaults": {
           "arrowcolor": "#2a3f5f",
           "arrowhead": 0,
           "arrowwidth": 1
          },
          "autotypenumbers": "strict",
          "coloraxis": {
           "colorbar": {
            "outlinewidth": 0,
            "ticks": ""
           }
          },
          "colorscale": {
           "diverging": [
            [
             0,
             "#8e0152"
            ],
            [
             0.1,
             "#c51b7d"
            ],
            [
             0.2,
             "#de77ae"
            ],
            [
             0.3,
             "#f1b6da"
            ],
            [
             0.4,
             "#fde0ef"
            ],
            [
             0.5,
             "#f7f7f7"
            ],
            [
             0.6,
             "#e6f5d0"
            ],
            [
             0.7,
             "#b8e186"
            ],
            [
             0.8,
             "#7fbc41"
            ],
            [
             0.9,
             "#4d9221"
            ],
            [
             1,
             "#276419"
            ]
           ],
           "sequential": [
            [
             0,
             "#0d0887"
            ],
            [
             0.1111111111111111,
             "#46039f"
            ],
            [
             0.2222222222222222,
             "#7201a8"
            ],
            [
             0.3333333333333333,
             "#9c179e"
            ],
            [
             0.4444444444444444,
             "#bd3786"
            ],
            [
             0.5555555555555556,
             "#d8576b"
            ],
            [
             0.6666666666666666,
             "#ed7953"
            ],
            [
             0.7777777777777778,
             "#fb9f3a"
            ],
            [
             0.8888888888888888,
             "#fdca26"
            ],
            [
             1,
             "#f0f921"
            ]
           ],
           "sequentialminus": [
            [
             0,
             "#0d0887"
            ],
            [
             0.1111111111111111,
             "#46039f"
            ],
            [
             0.2222222222222222,
             "#7201a8"
            ],
            [
             0.3333333333333333,
             "#9c179e"
            ],
            [
             0.4444444444444444,
             "#bd3786"
            ],
            [
             0.5555555555555556,
             "#d8576b"
            ],
            [
             0.6666666666666666,
             "#ed7953"
            ],
            [
             0.7777777777777778,
             "#fb9f3a"
            ],
            [
             0.8888888888888888,
             "#fdca26"
            ],
            [
             1,
             "#f0f921"
            ]
           ]
          },
          "colorway": [
           "#636efa",
           "#EF553B",
           "#00cc96",
           "#ab63fa",
           "#FFA15A",
           "#19d3f3",
           "#FF6692",
           "#B6E880",
           "#FF97FF",
           "#FECB52"
          ],
          "font": {
           "color": "#2a3f5f"
          },
          "geo": {
           "bgcolor": "white",
           "lakecolor": "white",
           "landcolor": "#E5ECF6",
           "showlakes": true,
           "showland": true,
           "subunitcolor": "white"
          },
          "hoverlabel": {
           "align": "left"
          },
          "hovermode": "closest",
          "mapbox": {
           "style": "light"
          },
          "paper_bgcolor": "white",
          "plot_bgcolor": "#E5ECF6",
          "polar": {
           "angularaxis": {
            "gridcolor": "white",
            "linecolor": "white",
            "ticks": ""
           },
           "bgcolor": "#E5ECF6",
           "radialaxis": {
            "gridcolor": "white",
            "linecolor": "white",
            "ticks": ""
           }
          },
          "scene": {
           "xaxis": {
            "backgroundcolor": "#E5ECF6",
            "gridcolor": "white",
            "gridwidth": 2,
            "linecolor": "white",
            "showbackground": true,
            "ticks": "",
            "zerolinecolor": "white"
           },
           "yaxis": {
            "backgroundcolor": "#E5ECF6",
            "gridcolor": "white",
            "gridwidth": 2,
            "linecolor": "white",
            "showbackground": true,
            "ticks": "",
            "zerolinecolor": "white"
           },
           "zaxis": {
            "backgroundcolor": "#E5ECF6",
            "gridcolor": "white",
            "gridwidth": 2,
            "linecolor": "white",
            "showbackground": true,
            "ticks": "",
            "zerolinecolor": "white"
           }
          },
          "shapedefaults": {
           "line": {
            "color": "#2a3f5f"
           }
          },
          "ternary": {
           "aaxis": {
            "gridcolor": "white",
            "linecolor": "white",
            "ticks": ""
           },
           "baxis": {
            "gridcolor": "white",
            "linecolor": "white",
            "ticks": ""
           },
           "bgcolor": "#E5ECF6",
           "caxis": {
            "gridcolor": "white",
            "linecolor": "white",
            "ticks": ""
           }
          },
          "title": {
           "x": 0.05
          },
          "xaxis": {
           "automargin": true,
           "gridcolor": "white",
           "linecolor": "white",
           "ticks": "",
           "title": {
            "standoff": 15
           },
           "zerolinecolor": "white",
           "zerolinewidth": 2
          },
          "yaxis": {
           "automargin": true,
           "gridcolor": "white",
           "linecolor": "white",
           "ticks": "",
           "title": {
            "standoff": 15
           },
           "zerolinecolor": "white",
           "zerolinewidth": 2
          }
         }
        },
        "title": {
         "font": {
          "color": "#4D5663"
         }
        },
        "xaxis": {
         "anchor": "y",
         "domain": [
          0,
          0.45
         ],
         "gridcolor": "#E1E5ED",
         "showgrid": true,
         "tickfont": {
          "color": "#4D5663"
         },
         "title": {
          "font": {
           "color": "#4D5663"
          },
          "text": ""
         },
         "zerolinecolor": "#E1E5ED"
        },
        "xaxis2": {
         "anchor": "y2",
         "domain": [
          0.55,
          1
         ],
         "gridcolor": "#E1E5ED",
         "showgrid": true,
         "tickfont": {
          "color": "#4D5663"
         },
         "title": {
          "font": {
           "color": "#4D5663"
          },
          "text": ""
         },
         "zerolinecolor": "#E1E5ED"
        },
        "xaxis3": {
         "anchor": "y3",
         "domain": [
          0,
          0.45
         ],
         "gridcolor": "#E1E5ED",
         "showgrid": true,
         "tickfont": {
          "color": "#4D5663"
         },
         "title": {
          "font": {
           "color": "#4D5663"
          },
          "text": ""
         },
         "zerolinecolor": "#E1E5ED"
        },
        "yaxis": {
         "anchor": "x",
         "domain": [
          0.625,
          1
         ],
         "gridcolor": "#E1E5ED",
         "showgrid": true,
         "tickfont": {
          "color": "#4D5663"
         },
         "title": {
          "font": {
           "color": "#4D5663"
          },
          "text": ""
         },
         "zerolinecolor": "#E1E5ED"
        },
        "yaxis2": {
         "anchor": "x2",
         "domain": [
          0.625,
          1
         ],
         "gridcolor": "#E1E5ED",
         "showgrid": true,
         "tickfont": {
          "color": "#4D5663"
         },
         "title": {
          "font": {
           "color": "#4D5663"
          },
          "text": ""
         },
         "zerolinecolor": "#E1E5ED"
        },
        "yaxis3": {
         "anchor": "x3",
         "domain": [
          0,
          0.375
         ],
         "gridcolor": "#E1E5ED",
         "showgrid": true,
         "tickfont": {
          "color": "#4D5663"
         },
         "title": {
          "font": {
           "color": "#4D5663"
          },
          "text": ""
         },
         "zerolinecolor": "#E1E5ED"
        }
       }
      },
      "text/html": [
       "<div>                            <div id=\"ff4e8f4f-4f75-4a99-9ddd-e03ea31095c5\" class=\"plotly-graph-div\" style=\"height:525px; width:100%;\"></div>            <script type=\"text/javascript\">                require([\"plotly\"], function(Plotly) {                    window.PLOTLYENV=window.PLOTLYENV || {};\n",
       "                    window.PLOTLYENV.BASE_URL='https://plot.ly';                                    if (document.getElementById(\"ff4e8f4f-4f75-4a99-9ddd-e03ea31095c5\")) {                    Plotly.newPlot(                        \"ff4e8f4f-4f75-4a99-9ddd-e03ea31095c5\",                        [{\"histfunc\":\"count\",\"histnorm\":\"\",\"marker\":{\"color\":\"rgba(255, 153, 51, 1.0)\",\"line\":{\"color\":\"#4D5663\",\"width\":1.3}},\"name\":\"consumer_sentiment\",\"nbinsx\":25,\"opacity\":0.8,\"orientation\":\"v\",\"x\":[0.06867556158600936,0.15291587752525254,0.12396802770815925,0.06125985840180865,0.11207788652125346,0.06190985715404319,-0.016363636363636365,0.06708002645502645,0.14601446474253496,0.07,0.062029211547780835,0.062404652701129375,0.04936027688215781,0.09338401369062713,0.07082859428557005,0.08444187206349725,0.07493738337526289,0.13354175810133398,0.08489772855600232,0.13509496535308385,0.10210802455107237,0.11877919695921159,0.10925167328301524,0.10878552681704892,0.16381671824033944,0.08574202621128701,0.11347056846628205,0.10757434470623027,0.10012710203535616,0.09758853204430938,0.08432963760732515,0.11817367299011934,0.11376862688168603,0.11265644305470465,0.1250877788341328,0.11601156228650127,0.007872852953498106,0.08601579444470077],\"xaxis\":\"x\",\"yaxis\":\"y\",\"type\":\"histogram\"},{\"histfunc\":\"count\",\"histnorm\":\"\",\"marker\":{\"color\":\"rgba(55, 128, 191, 1.0)\",\"line\":{\"color\":\"#4D5663\",\"width\":1.3}},\"name\":\"farmer_sentiment\",\"nbinsx\":25,\"opacity\":0.8,\"orientation\":\"v\",\"x\":[-0.04280552374913299,0.05108871860910859,0.02376201506125748,0.08794992348758879,0.01777861241588241,0.059698927254169615,0.08301393606393609,0.014704627291432843,-0.00312121212121212,-0.01680603655603655,0.050846630690761514,0.04161054994388327,0.0239657580509395,0.1795454545454545,0.05863363363363363,0.08014705882352942,0.08141233766233767,0.10235181924875132,0.1071268452366937,0.10364773462343994,0.09832584250305318,0.1280800761733424,0.0713153457351134,0.14427448170455415,0.08360478379018278,0.058760510714254977,0.11497691689510317,0.044357400855078874,0.04656251370576026,0.08277597452438569,0.09339164023254931,0.09241082624272279,0.08812130037455823,0.12540678248905293,0.08924464871862502,0.0669216519559769,0.1045651164443872,0.07784053910948892],\"xaxis\":\"x2\",\"yaxis\":\"y2\",\"type\":\"histogram\"},{\"histfunc\":\"count\",\"histnorm\":\"\",\"marker\":{\"color\":\"rgba(50, 171, 96, 1.0)\",\"line\":{\"color\":\"#4D5663\",\"width\":1.3}},\"name\":\"steak_prices\",\"nbinsx\":25,\"opacity\":0.8,\"orientation\":\"v\",\"x\":[18.549,19.848,19.008499999999998,18.706,18.5045,19.65,19.1305,18.5435,17.7785,17.5765,18.194499999999998,17.5545,18.0625,17.5275,17.2815,18.3975,17.6435,17.1985,17.4525,17.401,17.4525,17.430500000000002,17.3715,17.0585,16.750999999999998,17.253,17.2585,16.8795,16.9695,16.987000000000002,17.041,17.198999999999998,17.192999999999998,16.810000000000002,17.308999999999997,17.3475,17.362,17.871000000000002],\"xaxis\":\"x3\",\"yaxis\":\"y3\",\"type\":\"histogram\"}],                        {\"annotations\":[{\"font\":{\"size\":16},\"showarrow\":false,\"text\":\"consumer_sentiment\",\"x\":0.225,\"xanchor\":\"center\",\"xref\":\"paper\",\"y\":1.0,\"yanchor\":\"bottom\",\"yref\":\"paper\"},{\"font\":{\"size\":16},\"showarrow\":false,\"text\":\"farmer_sentiment\",\"x\":0.775,\"xanchor\":\"center\",\"xref\":\"paper\",\"y\":1.0,\"yanchor\":\"bottom\",\"yref\":\"paper\"},{\"font\":{\"size\":16},\"showarrow\":false,\"text\":\"steak_prices\",\"x\":0.225,\"xanchor\":\"center\",\"xref\":\"paper\",\"y\":0.375,\"yanchor\":\"bottom\",\"yref\":\"paper\"}],\"barmode\":\"overlay\",\"legend\":{\"bgcolor\":\"#F5F6F9\",\"font\":{\"color\":\"#4D5663\"}},\"paper_bgcolor\":\"#F5F6F9\",\"plot_bgcolor\":\"#F5F6F9\",\"showlegend\":false,\"template\":{\"data\":{\"barpolar\":[{\"marker\":{\"line\":{\"color\":\"#E5ECF6\",\"width\":0.5},\"pattern\":{\"fillmode\":\"overlay\",\"size\":10,\"solidity\":0.2}},\"type\":\"barpolar\"}],\"bar\":[{\"error_x\":{\"color\":\"#2a3f5f\"},\"error_y\":{\"color\":\"#2a3f5f\"},\"marker\":{\"line\":{\"color\":\"#E5ECF6\",\"width\":0.5},\"pattern\":{\"fillmode\":\"overlay\",\"size\":10,\"solidity\":0.2}},\"type\":\"bar\"}],\"carpet\":[{\"aaxis\":{\"endlinecolor\":\"#2a3f5f\",\"gridcolor\":\"white\",\"linecolor\":\"white\",\"minorgridcolor\":\"white\",\"startlinecolor\":\"#2a3f5f\"},\"baxis\":{\"endlinecolor\":\"#2a3f5f\",\"gridcolor\":\"white\",\"linecolor\":\"white\",\"minorgridcolor\":\"white\",\"startlinecolor\":\"#2a3f5f\"},\"type\":\"carpet\"}],\"choropleth\":[{\"colorbar\":{\"outlinewidth\":0,\"ticks\":\"\"},\"type\":\"choropleth\"}],\"contourcarpet\":[{\"colorbar\":{\"outlinewidth\":0,\"ticks\":\"\"},\"type\":\"contourcarpet\"}],\"contour\":[{\"colorbar\":{\"outlinewidth\":0,\"ticks\":\"\"},\"colorscale\":[[0.0,\"#0d0887\"],[0.1111111111111111,\"#46039f\"],[0.2222222222222222,\"#7201a8\"],[0.3333333333333333,\"#9c179e\"],[0.4444444444444444,\"#bd3786\"],[0.5555555555555556,\"#d8576b\"],[0.6666666666666666,\"#ed7953\"],[0.7777777777777778,\"#fb9f3a\"],[0.8888888888888888,\"#fdca26\"],[1.0,\"#f0f921\"]],\"type\":\"contour\"}],\"heatmapgl\":[{\"colorbar\":{\"outlinewidth\":0,\"ticks\":\"\"},\"colorscale\":[[0.0,\"#0d0887\"],[0.1111111111111111,\"#46039f\"],[0.2222222222222222,\"#7201a8\"],[0.3333333333333333,\"#9c179e\"],[0.4444444444444444,\"#bd3786\"],[0.5555555555555556,\"#d8576b\"],[0.6666666666666666,\"#ed7953\"],[0.7777777777777778,\"#fb9f3a\"],[0.8888888888888888,\"#fdca26\"],[1.0,\"#f0f921\"]],\"type\":\"heatmapgl\"}],\"heatmap\":[{\"colorbar\":{\"outlinewidth\":0,\"ticks\":\"\"},\"colorscale\":[[0.0,\"#0d0887\"],[0.1111111111111111,\"#46039f\"],[0.2222222222222222,\"#7201a8\"],[0.3333333333333333,\"#9c179e\"],[0.4444444444444444,\"#bd3786\"],[0.5555555555555556,\"#d8576b\"],[0.6666666666666666,\"#ed7953\"],[0.7777777777777778,\"#fb9f3a\"],[0.8888888888888888,\"#fdca26\"],[1.0,\"#f0f921\"]],\"type\":\"heatmap\"}],\"histogram2dcontour\":[{\"colorbar\":{\"outlinewidth\":0,\"ticks\":\"\"},\"colorscale\":[[0.0,\"#0d0887\"],[0.1111111111111111,\"#46039f\"],[0.2222222222222222,\"#7201a8\"],[0.3333333333333333,\"#9c179e\"],[0.4444444444444444,\"#bd3786\"],[0.5555555555555556,\"#d8576b\"],[0.6666666666666666,\"#ed7953\"],[0.7777777777777778,\"#fb9f3a\"],[0.8888888888888888,\"#fdca26\"],[1.0,\"#f0f921\"]],\"type\":\"histogram2dcontour\"}],\"histogram2d\":[{\"colorbar\":{\"outlinewidth\":0,\"ticks\":\"\"},\"colorscale\":[[0.0,\"#0d0887\"],[0.1111111111111111,\"#46039f\"],[0.2222222222222222,\"#7201a8\"],[0.3333333333333333,\"#9c179e\"],[0.4444444444444444,\"#bd3786\"],[0.5555555555555556,\"#d8576b\"],[0.6666666666666666,\"#ed7953\"],[0.7777777777777778,\"#fb9f3a\"],[0.8888888888888888,\"#fdca26\"],[1.0,\"#f0f921\"]],\"type\":\"histogram2d\"}],\"histogram\":[{\"marker\":{\"pattern\":{\"fillmode\":\"overlay\",\"size\":10,\"solidity\":0.2}},\"type\":\"histogram\"}],\"mesh3d\":[{\"colorbar\":{\"outlinewidth\":0,\"ticks\":\"\"},\"type\":\"mesh3d\"}],\"parcoords\":[{\"line\":{\"colorbar\":{\"outlinewidth\":0,\"ticks\":\"\"}},\"type\":\"parcoords\"}],\"pie\":[{\"automargin\":true,\"type\":\"pie\"}],\"scatter3d\":[{\"line\":{\"colorbar\":{\"outlinewidth\":0,\"ticks\":\"\"}},\"marker\":{\"colorbar\":{\"outlinewidth\":0,\"ticks\":\"\"}},\"type\":\"scatter3d\"}],\"scattercarpet\":[{\"marker\":{\"colorbar\":{\"outlinewidth\":0,\"ticks\":\"\"}},\"type\":\"scattercarpet\"}],\"scattergeo\":[{\"marker\":{\"colorbar\":{\"outlinewidth\":0,\"ticks\":\"\"}},\"type\":\"scattergeo\"}],\"scattergl\":[{\"marker\":{\"colorbar\":{\"outlinewidth\":0,\"ticks\":\"\"}},\"type\":\"scattergl\"}],\"scattermapbox\":[{\"marker\":{\"colorbar\":{\"outlinewidth\":0,\"ticks\":\"\"}},\"type\":\"scattermapbox\"}],\"scatterpolargl\":[{\"marker\":{\"colorbar\":{\"outlinewidth\":0,\"ticks\":\"\"}},\"type\":\"scatterpolargl\"}],\"scatterpolar\":[{\"marker\":{\"colorbar\":{\"outlinewidth\":0,\"ticks\":\"\"}},\"type\":\"scatterpolar\"}],\"scatter\":[{\"marker\":{\"colorbar\":{\"outlinewidth\":0,\"ticks\":\"\"}},\"type\":\"scatter\"}],\"scatterternary\":[{\"marker\":{\"colorbar\":{\"outlinewidth\":0,\"ticks\":\"\"}},\"type\":\"scatterternary\"}],\"surface\":[{\"colorbar\":{\"outlinewidth\":0,\"ticks\":\"\"},\"colorscale\":[[0.0,\"#0d0887\"],[0.1111111111111111,\"#46039f\"],[0.2222222222222222,\"#7201a8\"],[0.3333333333333333,\"#9c179e\"],[0.4444444444444444,\"#bd3786\"],[0.5555555555555556,\"#d8576b\"],[0.6666666666666666,\"#ed7953\"],[0.7777777777777778,\"#fb9f3a\"],[0.8888888888888888,\"#fdca26\"],[1.0,\"#f0f921\"]],\"type\":\"surface\"}],\"table\":[{\"cells\":{\"fill\":{\"color\":\"#EBF0F8\"},\"line\":{\"color\":\"white\"}},\"header\":{\"fill\":{\"color\":\"#C8D4E3\"},\"line\":{\"color\":\"white\"}},\"type\":\"table\"}]},\"layout\":{\"annotationdefaults\":{\"arrowcolor\":\"#2a3f5f\",\"arrowhead\":0,\"arrowwidth\":1},\"autotypenumbers\":\"strict\",\"coloraxis\":{\"colorbar\":{\"outlinewidth\":0,\"ticks\":\"\"}},\"colorscale\":{\"diverging\":[[0,\"#8e0152\"],[0.1,\"#c51b7d\"],[0.2,\"#de77ae\"],[0.3,\"#f1b6da\"],[0.4,\"#fde0ef\"],[0.5,\"#f7f7f7\"],[0.6,\"#e6f5d0\"],[0.7,\"#b8e186\"],[0.8,\"#7fbc41\"],[0.9,\"#4d9221\"],[1,\"#276419\"]],\"sequential\":[[0.0,\"#0d0887\"],[0.1111111111111111,\"#46039f\"],[0.2222222222222222,\"#7201a8\"],[0.3333333333333333,\"#9c179e\"],[0.4444444444444444,\"#bd3786\"],[0.5555555555555556,\"#d8576b\"],[0.6666666666666666,\"#ed7953\"],[0.7777777777777778,\"#fb9f3a\"],[0.8888888888888888,\"#fdca26\"],[1.0,\"#f0f921\"]],\"sequentialminus\":[[0.0,\"#0d0887\"],[0.1111111111111111,\"#46039f\"],[0.2222222222222222,\"#7201a8\"],[0.3333333333333333,\"#9c179e\"],[0.4444444444444444,\"#bd3786\"],[0.5555555555555556,\"#d8576b\"],[0.6666666666666666,\"#ed7953\"],[0.7777777777777778,\"#fb9f3a\"],[0.8888888888888888,\"#fdca26\"],[1.0,\"#f0f921\"]]},\"colorway\":[\"#636efa\",\"#EF553B\",\"#00cc96\",\"#ab63fa\",\"#FFA15A\",\"#19d3f3\",\"#FF6692\",\"#B6E880\",\"#FF97FF\",\"#FECB52\"],\"font\":{\"color\":\"#2a3f5f\"},\"geo\":{\"bgcolor\":\"white\",\"lakecolor\":\"white\",\"landcolor\":\"#E5ECF6\",\"showlakes\":true,\"showland\":true,\"subunitcolor\":\"white\"},\"hoverlabel\":{\"align\":\"left\"},\"hovermode\":\"closest\",\"mapbox\":{\"style\":\"light\"},\"paper_bgcolor\":\"white\",\"plot_bgcolor\":\"#E5ECF6\",\"polar\":{\"angularaxis\":{\"gridcolor\":\"white\",\"linecolor\":\"white\",\"ticks\":\"\"},\"bgcolor\":\"#E5ECF6\",\"radialaxis\":{\"gridcolor\":\"white\",\"linecolor\":\"white\",\"ticks\":\"\"}},\"scene\":{\"xaxis\":{\"backgroundcolor\":\"#E5ECF6\",\"gridcolor\":\"white\",\"gridwidth\":2,\"linecolor\":\"white\",\"showbackground\":true,\"ticks\":\"\",\"zerolinecolor\":\"white\"},\"yaxis\":{\"backgroundcolor\":\"#E5ECF6\",\"gridcolor\":\"white\",\"gridwidth\":2,\"linecolor\":\"white\",\"showbackground\":true,\"ticks\":\"\",\"zerolinecolor\":\"white\"},\"zaxis\":{\"backgroundcolor\":\"#E5ECF6\",\"gridcolor\":\"white\",\"gridwidth\":2,\"linecolor\":\"white\",\"showbackground\":true,\"ticks\":\"\",\"zerolinecolor\":\"white\"}},\"shapedefaults\":{\"line\":{\"color\":\"#2a3f5f\"}},\"ternary\":{\"aaxis\":{\"gridcolor\":\"white\",\"linecolor\":\"white\",\"ticks\":\"\"},\"baxis\":{\"gridcolor\":\"white\",\"linecolor\":\"white\",\"ticks\":\"\"},\"bgcolor\":\"#E5ECF6\",\"caxis\":{\"gridcolor\":\"white\",\"linecolor\":\"white\",\"ticks\":\"\"}},\"title\":{\"x\":0.05},\"xaxis\":{\"automargin\":true,\"gridcolor\":\"white\",\"linecolor\":\"white\",\"ticks\":\"\",\"title\":{\"standoff\":15},\"zerolinecolor\":\"white\",\"zerolinewidth\":2},\"yaxis\":{\"automargin\":true,\"gridcolor\":\"white\",\"linecolor\":\"white\",\"ticks\":\"\",\"title\":{\"standoff\":15},\"zerolinecolor\":\"white\",\"zerolinewidth\":2}}},\"title\":{\"font\":{\"color\":\"#4D5663\"}},\"xaxis\":{\"anchor\":\"y\",\"domain\":[0.0,0.45],\"gridcolor\":\"#E1E5ED\",\"showgrid\":true,\"tickfont\":{\"color\":\"#4D5663\"},\"title\":{\"font\":{\"color\":\"#4D5663\"},\"text\":\"\"},\"zerolinecolor\":\"#E1E5ED\"},\"yaxis\":{\"anchor\":\"x\",\"domain\":[0.625,1.0],\"gridcolor\":\"#E1E5ED\",\"showgrid\":true,\"tickfont\":{\"color\":\"#4D5663\"},\"title\":{\"font\":{\"color\":\"#4D5663\"},\"text\":\"\"},\"zerolinecolor\":\"#E1E5ED\"},\"xaxis2\":{\"anchor\":\"y2\",\"domain\":[0.55,1.0],\"gridcolor\":\"#E1E5ED\",\"showgrid\":true,\"tickfont\":{\"color\":\"#4D5663\"},\"title\":{\"font\":{\"color\":\"#4D5663\"},\"text\":\"\"},\"zerolinecolor\":\"#E1E5ED\"},\"yaxis2\":{\"anchor\":\"x2\",\"domain\":[0.625,1.0],\"gridcolor\":\"#E1E5ED\",\"showgrid\":true,\"tickfont\":{\"color\":\"#4D5663\"},\"title\":{\"font\":{\"color\":\"#4D5663\"},\"text\":\"\"},\"zerolinecolor\":\"#E1E5ED\"},\"xaxis3\":{\"anchor\":\"y3\",\"domain\":[0.0,0.45],\"gridcolor\":\"#E1E5ED\",\"showgrid\":true,\"tickfont\":{\"color\":\"#4D5663\"},\"title\":{\"font\":{\"color\":\"#4D5663\"},\"text\":\"\"},\"zerolinecolor\":\"#E1E5ED\"},\"yaxis3\":{\"anchor\":\"x3\",\"domain\":[0.0,0.375],\"gridcolor\":\"#E1E5ED\",\"showgrid\":true,\"tickfont\":{\"color\":\"#4D5663\"},\"title\":{\"font\":{\"color\":\"#4D5663\"},\"text\":\"\"},\"zerolinecolor\":\"#E1E5ED\"}},                        {\"showLink\": true, \"linkText\": \"Export to plot.ly\", \"plotlyServerURL\": \"https://plot.ly\", \"responsive\": true}                    ).then(function(){\n",
       "                            \n",
       "var gd = document.getElementById('ff4e8f4f-4f75-4a99-9ddd-e03ea31095c5');\n",
       "var x = new MutationObserver(function (mutations, observer) {{\n",
       "        var display = window.getComputedStyle(gd).display;\n",
       "        if (!display || display === 'none') {{\n",
       "            console.log([gd, 'removed!']);\n",
       "            Plotly.purge(gd);\n",
       "            observer.disconnect();\n",
       "        }}\n",
       "}});\n",
       "\n",
       "// Listen for the removal of the full notebook cells\n",
       "var notebookContainer = gd.closest('#notebook-container');\n",
       "if (notebookContainer) {{\n",
       "    x.observe(notebookContainer, {childList: true});\n",
       "}}\n",
       "\n",
       "// Listen for the clearing of the current output cell\n",
       "var outputEl = gd.closest('.output');\n",
       "if (outputEl) {{\n",
       "    x.observe(outputEl, {childList: true});\n",
       "}}\n",
       "\n",
       "                        })                };                });            </script>        </div>"
      ]
     },
     "metadata": {},
     "output_type": "display_data"
    }
   ],
   "source": [
    "allSentiment.iplot(kind='hist',\n",
    "             subplots=True, subplot_titles=True, legend=False,\n",
    "             bins=25,);"
   ]
  },
  {
   "cell_type": "code",
   "execution_count": 13,
   "id": "1966a84b",
   "metadata": {
    "ExecuteTime": {
     "end_time": "2022-05-22T20:19:11.395536Z",
     "start_time": "2022-05-22T20:19:11.241217Z"
    }
   },
   "outputs": [
    {
     "data": {
      "application/vnd.plotly.v1+json": {
       "config": {
        "linkText": "Export to plot.ly",
        "plotlyServerURL": "https://plot.ly",
        "showLink": true
       },
       "data": [
        {
         "histfunc": "count",
         "histnorm": "",
         "marker": {
          "color": "rgba(255, 153, 51, 1.0)",
          "line": {
           "color": "#4D5663",
           "width": 1.3
          }
         },
         "name": "consumer_sentiment",
         "nbinsx": 25,
         "opacity": 0.8,
         "orientation": "v",
         "type": "histogram",
         "x": [
          null,
          1.2266418212502055,
          -0.1893057168789607,
          -0.5058414694954715,
          0.829548573000692,
          -0.4476175535099589,
          -1.2643139092199909,
          -5.099334950029394,
          1.1767204406281775,
          -0.520595441530879,
          -0.11386840646027385,
          0.006052650742776944,
          -0.20902889855735862,
          0.8918859372197427,
          -0.2415340539953783,
          0.19220030999119575,
          -0.11255658426292736,
          0.782044582909958,
          -0.36426081427218937,
          0.591267135774654,
          -0.24417594479407057,
          0.16326995337962513,
          -0.08021205665726183,
          -0.004266721524335604,
          0.5058686852327308,
          -0.4765978275459478,
          0.3233949963657947,
          -0.05196258236605067,
          -0.06922879884801003,
          -0.025353475127547154,
          -0.13586529235795997,
          0.40133025995423455,
          -0.03727603616756181,
          -0.009775839416063192,
          0.1103473129663044,
          -0.07255877938057131,
          -0.9321373421896055,
          9.925619334282343
         ],
         "xaxis": "x",
         "yaxis": "y"
        },
        {
         "histfunc": "count",
         "histnorm": "",
         "marker": {
          "color": "rgba(55, 128, 191, 1.0)",
          "line": {
           "color": "#4D5663",
           "width": 1.3
          }
         },
         "name": "farmer_sentiment",
         "nbinsx": 25,
         "opacity": 0.8,
         "orientation": "v",
         "type": "histogram",
         "x": [
          null,
          -2.193507616178703,
          -0.534887237179189,
          2.701282204428268,
          -0.7978552827463088,
          2.3579070097077968,
          0.39054317861529175,
          -0.8228655574154735,
          -1.2122605394446542,
          4.384458314069964,
          -4.025498041803196,
          -0.18164587547698374,
          -0.42404611130446124,
          6.491749443678291,
          -0.6734329265974834,
          0.36691270618362615,
          0.015786965328249858,
          0.2572028047304249,
          0.04665306413691939,
          -0.032476552497805455,
          -0.05134595695430877,
          0.302608479244562,
          -0.44319719455353956,
          1.023049600578715,
          -0.42051579182665866,
          -0.29716329556305987,
          0.9567038389816174,
          -0.614206033237546,
          0.04971239991914245,
          0.777738526907439,
          0.1282457351805173,
          -0.010502160443742636,
          -0.0464180014676836,
          0.4231154324324917,
          -0.28835867608344545,
          -0.2501326083206309,
          0.5625005269322001,
          -0.25557832519711965
         ],
         "xaxis": "x2",
         "yaxis": "y2"
        },
        {
         "histfunc": "count",
         "histnorm": "",
         "marker": {
          "color": "rgba(50, 171, 96, 1.0)",
          "line": {
           "color": "#4D5663",
           "width": 1.3
          }
         },
         "name": "steak_prices",
         "nbinsx": 25,
         "opacity": 0.8,
         "orientation": "v",
         "type": "histogram",
         "x": [
          null,
          0.0700307294193756,
          -0.04229645304312779,
          -0.015913933240392364,
          -0.010771944830535674,
          0.061903861222945666,
          -0.02643765903307871,
          -0.030683986304592126,
          -0.04125434788470361,
          -0.011362038417189413,
          0.0351605837339628,
          -0.03517546511308345,
          0.028938448830784003,
          -0.029619377162629745,
          -0.014035087719298178,
          0.06457772762781011,
          -0.04098382932463662,
          -0.02522175305353247,
          0.0147687298310899,
          -0.0029508666380174686,
          0.00295960002298723,
          -0.0012605643890559737,
          -0.0033848713462035773,
          -0.018018018018018167,
          -0.018026203945247343,
          0.029968360097904823,
          0.00031878513881644643,
          -0.021960193527826966,
          0.005331911490269237,
          0.0010312619700050263,
          0.0031789015129215503,
          0.009271756352326577,
          -0.0003488574917146492,
          -0.022276507881114127,
          0.02968471148126084,
          0.0022242763880064853,
          0.0008358553105634048,
          0.029316898974772743
         ],
         "xaxis": "x3",
         "yaxis": "y3"
        }
       ],
       "layout": {
        "annotations": [
         {
          "font": {
           "size": 16
          },
          "showarrow": false,
          "text": "consumer_sentiment",
          "x": 0.225,
          "xanchor": "center",
          "xref": "paper",
          "y": 1,
          "yanchor": "bottom",
          "yref": "paper"
         },
         {
          "font": {
           "size": 16
          },
          "showarrow": false,
          "text": "farmer_sentiment",
          "x": 0.775,
          "xanchor": "center",
          "xref": "paper",
          "y": 1,
          "yanchor": "bottom",
          "yref": "paper"
         },
         {
          "font": {
           "size": 16
          },
          "showarrow": false,
          "text": "steak_prices",
          "x": 0.225,
          "xanchor": "center",
          "xref": "paper",
          "y": 0.375,
          "yanchor": "bottom",
          "yref": "paper"
         }
        ],
        "barmode": "overlay",
        "legend": {
         "bgcolor": "#F5F6F9",
         "font": {
          "color": "#4D5663"
         }
        },
        "paper_bgcolor": "#F5F6F9",
        "plot_bgcolor": "#F5F6F9",
        "showlegend": false,
        "template": {
         "data": {
          "bar": [
           {
            "error_x": {
             "color": "#2a3f5f"
            },
            "error_y": {
             "color": "#2a3f5f"
            },
            "marker": {
             "line": {
              "color": "#E5ECF6",
              "width": 0.5
             },
             "pattern": {
              "fillmode": "overlay",
              "size": 10,
              "solidity": 0.2
             }
            },
            "type": "bar"
           }
          ],
          "barpolar": [
           {
            "marker": {
             "line": {
              "color": "#E5ECF6",
              "width": 0.5
             },
             "pattern": {
              "fillmode": "overlay",
              "size": 10,
              "solidity": 0.2
             }
            },
            "type": "barpolar"
           }
          ],
          "carpet": [
           {
            "aaxis": {
             "endlinecolor": "#2a3f5f",
             "gridcolor": "white",
             "linecolor": "white",
             "minorgridcolor": "white",
             "startlinecolor": "#2a3f5f"
            },
            "baxis": {
             "endlinecolor": "#2a3f5f",
             "gridcolor": "white",
             "linecolor": "white",
             "minorgridcolor": "white",
             "startlinecolor": "#2a3f5f"
            },
            "type": "carpet"
           }
          ],
          "choropleth": [
           {
            "colorbar": {
             "outlinewidth": 0,
             "ticks": ""
            },
            "type": "choropleth"
           }
          ],
          "contour": [
           {
            "colorbar": {
             "outlinewidth": 0,
             "ticks": ""
            },
            "colorscale": [
             [
              0,
              "#0d0887"
             ],
             [
              0.1111111111111111,
              "#46039f"
             ],
             [
              0.2222222222222222,
              "#7201a8"
             ],
             [
              0.3333333333333333,
              "#9c179e"
             ],
             [
              0.4444444444444444,
              "#bd3786"
             ],
             [
              0.5555555555555556,
              "#d8576b"
             ],
             [
              0.6666666666666666,
              "#ed7953"
             ],
             [
              0.7777777777777778,
              "#fb9f3a"
             ],
             [
              0.8888888888888888,
              "#fdca26"
             ],
             [
              1,
              "#f0f921"
             ]
            ],
            "type": "contour"
           }
          ],
          "contourcarpet": [
           {
            "colorbar": {
             "outlinewidth": 0,
             "ticks": ""
            },
            "type": "contourcarpet"
           }
          ],
          "heatmap": [
           {
            "colorbar": {
             "outlinewidth": 0,
             "ticks": ""
            },
            "colorscale": [
             [
              0,
              "#0d0887"
             ],
             [
              0.1111111111111111,
              "#46039f"
             ],
             [
              0.2222222222222222,
              "#7201a8"
             ],
             [
              0.3333333333333333,
              "#9c179e"
             ],
             [
              0.4444444444444444,
              "#bd3786"
             ],
             [
              0.5555555555555556,
              "#d8576b"
             ],
             [
              0.6666666666666666,
              "#ed7953"
             ],
             [
              0.7777777777777778,
              "#fb9f3a"
             ],
             [
              0.8888888888888888,
              "#fdca26"
             ],
             [
              1,
              "#f0f921"
             ]
            ],
            "type": "heatmap"
           }
          ],
          "heatmapgl": [
           {
            "colorbar": {
             "outlinewidth": 0,
             "ticks": ""
            },
            "colorscale": [
             [
              0,
              "#0d0887"
             ],
             [
              0.1111111111111111,
              "#46039f"
             ],
             [
              0.2222222222222222,
              "#7201a8"
             ],
             [
              0.3333333333333333,
              "#9c179e"
             ],
             [
              0.4444444444444444,
              "#bd3786"
             ],
             [
              0.5555555555555556,
              "#d8576b"
             ],
             [
              0.6666666666666666,
              "#ed7953"
             ],
             [
              0.7777777777777778,
              "#fb9f3a"
             ],
             [
              0.8888888888888888,
              "#fdca26"
             ],
             [
              1,
              "#f0f921"
             ]
            ],
            "type": "heatmapgl"
           }
          ],
          "histogram": [
           {
            "marker": {
             "pattern": {
              "fillmode": "overlay",
              "size": 10,
              "solidity": 0.2
             }
            },
            "type": "histogram"
           }
          ],
          "histogram2d": [
           {
            "colorbar": {
             "outlinewidth": 0,
             "ticks": ""
            },
            "colorscale": [
             [
              0,
              "#0d0887"
             ],
             [
              0.1111111111111111,
              "#46039f"
             ],
             [
              0.2222222222222222,
              "#7201a8"
             ],
             [
              0.3333333333333333,
              "#9c179e"
             ],
             [
              0.4444444444444444,
              "#bd3786"
             ],
             [
              0.5555555555555556,
              "#d8576b"
             ],
             [
              0.6666666666666666,
              "#ed7953"
             ],
             [
              0.7777777777777778,
              "#fb9f3a"
             ],
             [
              0.8888888888888888,
              "#fdca26"
             ],
             [
              1,
              "#f0f921"
             ]
            ],
            "type": "histogram2d"
           }
          ],
          "histogram2dcontour": [
           {
            "colorbar": {
             "outlinewidth": 0,
             "ticks": ""
            },
            "colorscale": [
             [
              0,
              "#0d0887"
             ],
             [
              0.1111111111111111,
              "#46039f"
             ],
             [
              0.2222222222222222,
              "#7201a8"
             ],
             [
              0.3333333333333333,
              "#9c179e"
             ],
             [
              0.4444444444444444,
              "#bd3786"
             ],
             [
              0.5555555555555556,
              "#d8576b"
             ],
             [
              0.6666666666666666,
              "#ed7953"
             ],
             [
              0.7777777777777778,
              "#fb9f3a"
             ],
             [
              0.8888888888888888,
              "#fdca26"
             ],
             [
              1,
              "#f0f921"
             ]
            ],
            "type": "histogram2dcontour"
           }
          ],
          "mesh3d": [
           {
            "colorbar": {
             "outlinewidth": 0,
             "ticks": ""
            },
            "type": "mesh3d"
           }
          ],
          "parcoords": [
           {
            "line": {
             "colorbar": {
              "outlinewidth": 0,
              "ticks": ""
             }
            },
            "type": "parcoords"
           }
          ],
          "pie": [
           {
            "automargin": true,
            "type": "pie"
           }
          ],
          "scatter": [
           {
            "marker": {
             "colorbar": {
              "outlinewidth": 0,
              "ticks": ""
             }
            },
            "type": "scatter"
           }
          ],
          "scatter3d": [
           {
            "line": {
             "colorbar": {
              "outlinewidth": 0,
              "ticks": ""
             }
            },
            "marker": {
             "colorbar": {
              "outlinewidth": 0,
              "ticks": ""
             }
            },
            "type": "scatter3d"
           }
          ],
          "scattercarpet": [
           {
            "marker": {
             "colorbar": {
              "outlinewidth": 0,
              "ticks": ""
             }
            },
            "type": "scattercarpet"
           }
          ],
          "scattergeo": [
           {
            "marker": {
             "colorbar": {
              "outlinewidth": 0,
              "ticks": ""
             }
            },
            "type": "scattergeo"
           }
          ],
          "scattergl": [
           {
            "marker": {
             "colorbar": {
              "outlinewidth": 0,
              "ticks": ""
             }
            },
            "type": "scattergl"
           }
          ],
          "scattermapbox": [
           {
            "marker": {
             "colorbar": {
              "outlinewidth": 0,
              "ticks": ""
             }
            },
            "type": "scattermapbox"
           }
          ],
          "scatterpolar": [
           {
            "marker": {
             "colorbar": {
              "outlinewidth": 0,
              "ticks": ""
             }
            },
            "type": "scatterpolar"
           }
          ],
          "scatterpolargl": [
           {
            "marker": {
             "colorbar": {
              "outlinewidth": 0,
              "ticks": ""
             }
            },
            "type": "scatterpolargl"
           }
          ],
          "scatterternary": [
           {
            "marker": {
             "colorbar": {
              "outlinewidth": 0,
              "ticks": ""
             }
            },
            "type": "scatterternary"
           }
          ],
          "surface": [
           {
            "colorbar": {
             "outlinewidth": 0,
             "ticks": ""
            },
            "colorscale": [
             [
              0,
              "#0d0887"
             ],
             [
              0.1111111111111111,
              "#46039f"
             ],
             [
              0.2222222222222222,
              "#7201a8"
             ],
             [
              0.3333333333333333,
              "#9c179e"
             ],
             [
              0.4444444444444444,
              "#bd3786"
             ],
             [
              0.5555555555555556,
              "#d8576b"
             ],
             [
              0.6666666666666666,
              "#ed7953"
             ],
             [
              0.7777777777777778,
              "#fb9f3a"
             ],
             [
              0.8888888888888888,
              "#fdca26"
             ],
             [
              1,
              "#f0f921"
             ]
            ],
            "type": "surface"
           }
          ],
          "table": [
           {
            "cells": {
             "fill": {
              "color": "#EBF0F8"
             },
             "line": {
              "color": "white"
             }
            },
            "header": {
             "fill": {
              "color": "#C8D4E3"
             },
             "line": {
              "color": "white"
             }
            },
            "type": "table"
           }
          ]
         },
         "layout": {
          "annotationdefaults": {
           "arrowcolor": "#2a3f5f",
           "arrowhead": 0,
           "arrowwidth": 1
          },
          "autotypenumbers": "strict",
          "coloraxis": {
           "colorbar": {
            "outlinewidth": 0,
            "ticks": ""
           }
          },
          "colorscale": {
           "diverging": [
            [
             0,
             "#8e0152"
            ],
            [
             0.1,
             "#c51b7d"
            ],
            [
             0.2,
             "#de77ae"
            ],
            [
             0.3,
             "#f1b6da"
            ],
            [
             0.4,
             "#fde0ef"
            ],
            [
             0.5,
             "#f7f7f7"
            ],
            [
             0.6,
             "#e6f5d0"
            ],
            [
             0.7,
             "#b8e186"
            ],
            [
             0.8,
             "#7fbc41"
            ],
            [
             0.9,
             "#4d9221"
            ],
            [
             1,
             "#276419"
            ]
           ],
           "sequential": [
            [
             0,
             "#0d0887"
            ],
            [
             0.1111111111111111,
             "#46039f"
            ],
            [
             0.2222222222222222,
             "#7201a8"
            ],
            [
             0.3333333333333333,
             "#9c179e"
            ],
            [
             0.4444444444444444,
             "#bd3786"
            ],
            [
             0.5555555555555556,
             "#d8576b"
            ],
            [
             0.6666666666666666,
             "#ed7953"
            ],
            [
             0.7777777777777778,
             "#fb9f3a"
            ],
            [
             0.8888888888888888,
             "#fdca26"
            ],
            [
             1,
             "#f0f921"
            ]
           ],
           "sequentialminus": [
            [
             0,
             "#0d0887"
            ],
            [
             0.1111111111111111,
             "#46039f"
            ],
            [
             0.2222222222222222,
             "#7201a8"
            ],
            [
             0.3333333333333333,
             "#9c179e"
            ],
            [
             0.4444444444444444,
             "#bd3786"
            ],
            [
             0.5555555555555556,
             "#d8576b"
            ],
            [
             0.6666666666666666,
             "#ed7953"
            ],
            [
             0.7777777777777778,
             "#fb9f3a"
            ],
            [
             0.8888888888888888,
             "#fdca26"
            ],
            [
             1,
             "#f0f921"
            ]
           ]
          },
          "colorway": [
           "#636efa",
           "#EF553B",
           "#00cc96",
           "#ab63fa",
           "#FFA15A",
           "#19d3f3",
           "#FF6692",
           "#B6E880",
           "#FF97FF",
           "#FECB52"
          ],
          "font": {
           "color": "#2a3f5f"
          },
          "geo": {
           "bgcolor": "white",
           "lakecolor": "white",
           "landcolor": "#E5ECF6",
           "showlakes": true,
           "showland": true,
           "subunitcolor": "white"
          },
          "hoverlabel": {
           "align": "left"
          },
          "hovermode": "closest",
          "mapbox": {
           "style": "light"
          },
          "paper_bgcolor": "white",
          "plot_bgcolor": "#E5ECF6",
          "polar": {
           "angularaxis": {
            "gridcolor": "white",
            "linecolor": "white",
            "ticks": ""
           },
           "bgcolor": "#E5ECF6",
           "radialaxis": {
            "gridcolor": "white",
            "linecolor": "white",
            "ticks": ""
           }
          },
          "scene": {
           "xaxis": {
            "backgroundcolor": "#E5ECF6",
            "gridcolor": "white",
            "gridwidth": 2,
            "linecolor": "white",
            "showbackground": true,
            "ticks": "",
            "zerolinecolor": "white"
           },
           "yaxis": {
            "backgroundcolor": "#E5ECF6",
            "gridcolor": "white",
            "gridwidth": 2,
            "linecolor": "white",
            "showbackground": true,
            "ticks": "",
            "zerolinecolor": "white"
           },
           "zaxis": {
            "backgroundcolor": "#E5ECF6",
            "gridcolor": "white",
            "gridwidth": 2,
            "linecolor": "white",
            "showbackground": true,
            "ticks": "",
            "zerolinecolor": "white"
           }
          },
          "shapedefaults": {
           "line": {
            "color": "#2a3f5f"
           }
          },
          "ternary": {
           "aaxis": {
            "gridcolor": "white",
            "linecolor": "white",
            "ticks": ""
           },
           "baxis": {
            "gridcolor": "white",
            "linecolor": "white",
            "ticks": ""
           },
           "bgcolor": "#E5ECF6",
           "caxis": {
            "gridcolor": "white",
            "linecolor": "white",
            "ticks": ""
           }
          },
          "title": {
           "x": 0.05
          },
          "xaxis": {
           "automargin": true,
           "gridcolor": "white",
           "linecolor": "white",
           "ticks": "",
           "title": {
            "standoff": 15
           },
           "zerolinecolor": "white",
           "zerolinewidth": 2
          },
          "yaxis": {
           "automargin": true,
           "gridcolor": "white",
           "linecolor": "white",
           "ticks": "",
           "title": {
            "standoff": 15
           },
           "zerolinecolor": "white",
           "zerolinewidth": 2
          }
         }
        },
        "title": {
         "font": {
          "color": "#4D5663"
         }
        },
        "xaxis": {
         "anchor": "y",
         "domain": [
          0,
          0.45
         ],
         "gridcolor": "#E1E5ED",
         "showgrid": true,
         "tickfont": {
          "color": "#4D5663"
         },
         "title": {
          "font": {
           "color": "#4D5663"
          },
          "text": ""
         },
         "zerolinecolor": "#E1E5ED"
        },
        "xaxis2": {
         "anchor": "y2",
         "domain": [
          0.55,
          1
         ],
         "gridcolor": "#E1E5ED",
         "showgrid": true,
         "tickfont": {
          "color": "#4D5663"
         },
         "title": {
          "font": {
           "color": "#4D5663"
          },
          "text": ""
         },
         "zerolinecolor": "#E1E5ED"
        },
        "xaxis3": {
         "anchor": "y3",
         "domain": [
          0,
          0.45
         ],
         "gridcolor": "#E1E5ED",
         "showgrid": true,
         "tickfont": {
          "color": "#4D5663"
         },
         "title": {
          "font": {
           "color": "#4D5663"
          },
          "text": ""
         },
         "zerolinecolor": "#E1E5ED"
        },
        "yaxis": {
         "anchor": "x",
         "domain": [
          0.625,
          1
         ],
         "gridcolor": "#E1E5ED",
         "showgrid": true,
         "tickfont": {
          "color": "#4D5663"
         },
         "title": {
          "font": {
           "color": "#4D5663"
          },
          "text": ""
         },
         "zerolinecolor": "#E1E5ED"
        },
        "yaxis2": {
         "anchor": "x2",
         "domain": [
          0.625,
          1
         ],
         "gridcolor": "#E1E5ED",
         "showgrid": true,
         "tickfont": {
          "color": "#4D5663"
         },
         "title": {
          "font": {
           "color": "#4D5663"
          },
          "text": ""
         },
         "zerolinecolor": "#E1E5ED"
        },
        "yaxis3": {
         "anchor": "x3",
         "domain": [
          0,
          0.375
         ],
         "gridcolor": "#E1E5ED",
         "showgrid": true,
         "tickfont": {
          "color": "#4D5663"
         },
         "title": {
          "font": {
           "color": "#4D5663"
          },
          "text": ""
         },
         "zerolinecolor": "#E1E5ED"
        }
       }
      },
      "text/html": [
       "<div>                            <div id=\"03298052-8ad1-4751-9e75-a50a2e275334\" class=\"plotly-graph-div\" style=\"height:525px; width:100%;\"></div>            <script type=\"text/javascript\">                require([\"plotly\"], function(Plotly) {                    window.PLOTLYENV=window.PLOTLYENV || {};\n",
       "                    window.PLOTLYENV.BASE_URL='https://plot.ly';                                    if (document.getElementById(\"03298052-8ad1-4751-9e75-a50a2e275334\")) {                    Plotly.newPlot(                        \"03298052-8ad1-4751-9e75-a50a2e275334\",                        [{\"histfunc\":\"count\",\"histnorm\":\"\",\"marker\":{\"color\":\"rgba(255, 153, 51, 1.0)\",\"line\":{\"color\":\"#4D5663\",\"width\":1.3}},\"name\":\"consumer_sentiment\",\"nbinsx\":25,\"opacity\":0.8,\"orientation\":\"v\",\"x\":[null,1.2266418212502055,-0.1893057168789607,-0.5058414694954715,0.829548573000692,-0.4476175535099589,-1.2643139092199909,-5.099334950029394,1.1767204406281775,-0.520595441530879,-0.11386840646027385,0.006052650742776944,-0.20902889855735862,0.8918859372197427,-0.2415340539953783,0.19220030999119575,-0.11255658426292736,0.782044582909958,-0.36426081427218937,0.591267135774654,-0.24417594479407057,0.16326995337962513,-0.08021205665726183,-0.004266721524335604,0.5058686852327308,-0.4765978275459478,0.3233949963657947,-0.05196258236605067,-0.06922879884801003,-0.025353475127547154,-0.13586529235795997,0.40133025995423455,-0.03727603616756181,-0.009775839416063192,0.1103473129663044,-0.07255877938057131,-0.9321373421896055,9.925619334282343],\"xaxis\":\"x\",\"yaxis\":\"y\",\"type\":\"histogram\"},{\"histfunc\":\"count\",\"histnorm\":\"\",\"marker\":{\"color\":\"rgba(55, 128, 191, 1.0)\",\"line\":{\"color\":\"#4D5663\",\"width\":1.3}},\"name\":\"farmer_sentiment\",\"nbinsx\":25,\"opacity\":0.8,\"orientation\":\"v\",\"x\":[null,-2.193507616178703,-0.534887237179189,2.701282204428268,-0.7978552827463088,2.3579070097077968,0.39054317861529175,-0.8228655574154735,-1.2122605394446542,4.384458314069964,-4.025498041803196,-0.18164587547698374,-0.42404611130446124,6.491749443678291,-0.6734329265974834,0.36691270618362615,0.015786965328249858,0.2572028047304249,0.04665306413691939,-0.032476552497805455,-0.05134595695430877,0.302608479244562,-0.44319719455353956,1.023049600578715,-0.42051579182665866,-0.29716329556305987,0.9567038389816174,-0.614206033237546,0.04971239991914245,0.777738526907439,0.1282457351805173,-0.010502160443742636,-0.0464180014676836,0.4231154324324917,-0.28835867608344545,-0.2501326083206309,0.5625005269322001,-0.25557832519711965],\"xaxis\":\"x2\",\"yaxis\":\"y2\",\"type\":\"histogram\"},{\"histfunc\":\"count\",\"histnorm\":\"\",\"marker\":{\"color\":\"rgba(50, 171, 96, 1.0)\",\"line\":{\"color\":\"#4D5663\",\"width\":1.3}},\"name\":\"steak_prices\",\"nbinsx\":25,\"opacity\":0.8,\"orientation\":\"v\",\"x\":[null,0.0700307294193756,-0.04229645304312779,-0.015913933240392364,-0.010771944830535674,0.061903861222945666,-0.02643765903307871,-0.030683986304592126,-0.04125434788470361,-0.011362038417189413,0.0351605837339628,-0.03517546511308345,0.028938448830784003,-0.029619377162629745,-0.014035087719298178,0.06457772762781011,-0.04098382932463662,-0.02522175305353247,0.0147687298310899,-0.0029508666380174686,0.00295960002298723,-0.0012605643890559737,-0.0033848713462035773,-0.018018018018018167,-0.018026203945247343,0.029968360097904823,0.00031878513881644643,-0.021960193527826966,0.005331911490269237,0.0010312619700050263,0.0031789015129215503,0.009271756352326577,-0.0003488574917146492,-0.022276507881114127,0.02968471148126084,0.0022242763880064853,0.0008358553105634048,0.029316898974772743],\"xaxis\":\"x3\",\"yaxis\":\"y3\",\"type\":\"histogram\"}],                        {\"annotations\":[{\"font\":{\"size\":16},\"showarrow\":false,\"text\":\"consumer_sentiment\",\"x\":0.225,\"xanchor\":\"center\",\"xref\":\"paper\",\"y\":1.0,\"yanchor\":\"bottom\",\"yref\":\"paper\"},{\"font\":{\"size\":16},\"showarrow\":false,\"text\":\"farmer_sentiment\",\"x\":0.775,\"xanchor\":\"center\",\"xref\":\"paper\",\"y\":1.0,\"yanchor\":\"bottom\",\"yref\":\"paper\"},{\"font\":{\"size\":16},\"showarrow\":false,\"text\":\"steak_prices\",\"x\":0.225,\"xanchor\":\"center\",\"xref\":\"paper\",\"y\":0.375,\"yanchor\":\"bottom\",\"yref\":\"paper\"}],\"barmode\":\"overlay\",\"legend\":{\"bgcolor\":\"#F5F6F9\",\"font\":{\"color\":\"#4D5663\"}},\"paper_bgcolor\":\"#F5F6F9\",\"plot_bgcolor\":\"#F5F6F9\",\"showlegend\":false,\"template\":{\"data\":{\"barpolar\":[{\"marker\":{\"line\":{\"color\":\"#E5ECF6\",\"width\":0.5},\"pattern\":{\"fillmode\":\"overlay\",\"size\":10,\"solidity\":0.2}},\"type\":\"barpolar\"}],\"bar\":[{\"error_x\":{\"color\":\"#2a3f5f\"},\"error_y\":{\"color\":\"#2a3f5f\"},\"marker\":{\"line\":{\"color\":\"#E5ECF6\",\"width\":0.5},\"pattern\":{\"fillmode\":\"overlay\",\"size\":10,\"solidity\":0.2}},\"type\":\"bar\"}],\"carpet\":[{\"aaxis\":{\"endlinecolor\":\"#2a3f5f\",\"gridcolor\":\"white\",\"linecolor\":\"white\",\"minorgridcolor\":\"white\",\"startlinecolor\":\"#2a3f5f\"},\"baxis\":{\"endlinecolor\":\"#2a3f5f\",\"gridcolor\":\"white\",\"linecolor\":\"white\",\"minorgridcolor\":\"white\",\"startlinecolor\":\"#2a3f5f\"},\"type\":\"carpet\"}],\"choropleth\":[{\"colorbar\":{\"outlinewidth\":0,\"ticks\":\"\"},\"type\":\"choropleth\"}],\"contourcarpet\":[{\"colorbar\":{\"outlinewidth\":0,\"ticks\":\"\"},\"type\":\"contourcarpet\"}],\"contour\":[{\"colorbar\":{\"outlinewidth\":0,\"ticks\":\"\"},\"colorscale\":[[0.0,\"#0d0887\"],[0.1111111111111111,\"#46039f\"],[0.2222222222222222,\"#7201a8\"],[0.3333333333333333,\"#9c179e\"],[0.4444444444444444,\"#bd3786\"],[0.5555555555555556,\"#d8576b\"],[0.6666666666666666,\"#ed7953\"],[0.7777777777777778,\"#fb9f3a\"],[0.8888888888888888,\"#fdca26\"],[1.0,\"#f0f921\"]],\"type\":\"contour\"}],\"heatmapgl\":[{\"colorbar\":{\"outlinewidth\":0,\"ticks\":\"\"},\"colorscale\":[[0.0,\"#0d0887\"],[0.1111111111111111,\"#46039f\"],[0.2222222222222222,\"#7201a8\"],[0.3333333333333333,\"#9c179e\"],[0.4444444444444444,\"#bd3786\"],[0.5555555555555556,\"#d8576b\"],[0.6666666666666666,\"#ed7953\"],[0.7777777777777778,\"#fb9f3a\"],[0.8888888888888888,\"#fdca26\"],[1.0,\"#f0f921\"]],\"type\":\"heatmapgl\"}],\"heatmap\":[{\"colorbar\":{\"outlinewidth\":0,\"ticks\":\"\"},\"colorscale\":[[0.0,\"#0d0887\"],[0.1111111111111111,\"#46039f\"],[0.2222222222222222,\"#7201a8\"],[0.3333333333333333,\"#9c179e\"],[0.4444444444444444,\"#bd3786\"],[0.5555555555555556,\"#d8576b\"],[0.6666666666666666,\"#ed7953\"],[0.7777777777777778,\"#fb9f3a\"],[0.8888888888888888,\"#fdca26\"],[1.0,\"#f0f921\"]],\"type\":\"heatmap\"}],\"histogram2dcontour\":[{\"colorbar\":{\"outlinewidth\":0,\"ticks\":\"\"},\"colorscale\":[[0.0,\"#0d0887\"],[0.1111111111111111,\"#46039f\"],[0.2222222222222222,\"#7201a8\"],[0.3333333333333333,\"#9c179e\"],[0.4444444444444444,\"#bd3786\"],[0.5555555555555556,\"#d8576b\"],[0.6666666666666666,\"#ed7953\"],[0.7777777777777778,\"#fb9f3a\"],[0.8888888888888888,\"#fdca26\"],[1.0,\"#f0f921\"]],\"type\":\"histogram2dcontour\"}],\"histogram2d\":[{\"colorbar\":{\"outlinewidth\":0,\"ticks\":\"\"},\"colorscale\":[[0.0,\"#0d0887\"],[0.1111111111111111,\"#46039f\"],[0.2222222222222222,\"#7201a8\"],[0.3333333333333333,\"#9c179e\"],[0.4444444444444444,\"#bd3786\"],[0.5555555555555556,\"#d8576b\"],[0.6666666666666666,\"#ed7953\"],[0.7777777777777778,\"#fb9f3a\"],[0.8888888888888888,\"#fdca26\"],[1.0,\"#f0f921\"]],\"type\":\"histogram2d\"}],\"histogram\":[{\"marker\":{\"pattern\":{\"fillmode\":\"overlay\",\"size\":10,\"solidity\":0.2}},\"type\":\"histogram\"}],\"mesh3d\":[{\"colorbar\":{\"outlinewidth\":0,\"ticks\":\"\"},\"type\":\"mesh3d\"}],\"parcoords\":[{\"line\":{\"colorbar\":{\"outlinewidth\":0,\"ticks\":\"\"}},\"type\":\"parcoords\"}],\"pie\":[{\"automargin\":true,\"type\":\"pie\"}],\"scatter3d\":[{\"line\":{\"colorbar\":{\"outlinewidth\":0,\"ticks\":\"\"}},\"marker\":{\"colorbar\":{\"outlinewidth\":0,\"ticks\":\"\"}},\"type\":\"scatter3d\"}],\"scattercarpet\":[{\"marker\":{\"colorbar\":{\"outlinewidth\":0,\"ticks\":\"\"}},\"type\":\"scattercarpet\"}],\"scattergeo\":[{\"marker\":{\"colorbar\":{\"outlinewidth\":0,\"ticks\":\"\"}},\"type\":\"scattergeo\"}],\"scattergl\":[{\"marker\":{\"colorbar\":{\"outlinewidth\":0,\"ticks\":\"\"}},\"type\":\"scattergl\"}],\"scattermapbox\":[{\"marker\":{\"colorbar\":{\"outlinewidth\":0,\"ticks\":\"\"}},\"type\":\"scattermapbox\"}],\"scatterpolargl\":[{\"marker\":{\"colorbar\":{\"outlinewidth\":0,\"ticks\":\"\"}},\"type\":\"scatterpolargl\"}],\"scatterpolar\":[{\"marker\":{\"colorbar\":{\"outlinewidth\":0,\"ticks\":\"\"}},\"type\":\"scatterpolar\"}],\"scatter\":[{\"marker\":{\"colorbar\":{\"outlinewidth\":0,\"ticks\":\"\"}},\"type\":\"scatter\"}],\"scatterternary\":[{\"marker\":{\"colorbar\":{\"outlinewidth\":0,\"ticks\":\"\"}},\"type\":\"scatterternary\"}],\"surface\":[{\"colorbar\":{\"outlinewidth\":0,\"ticks\":\"\"},\"colorscale\":[[0.0,\"#0d0887\"],[0.1111111111111111,\"#46039f\"],[0.2222222222222222,\"#7201a8\"],[0.3333333333333333,\"#9c179e\"],[0.4444444444444444,\"#bd3786\"],[0.5555555555555556,\"#d8576b\"],[0.6666666666666666,\"#ed7953\"],[0.7777777777777778,\"#fb9f3a\"],[0.8888888888888888,\"#fdca26\"],[1.0,\"#f0f921\"]],\"type\":\"surface\"}],\"table\":[{\"cells\":{\"fill\":{\"color\":\"#EBF0F8\"},\"line\":{\"color\":\"white\"}},\"header\":{\"fill\":{\"color\":\"#C8D4E3\"},\"line\":{\"color\":\"white\"}},\"type\":\"table\"}]},\"layout\":{\"annotationdefaults\":{\"arrowcolor\":\"#2a3f5f\",\"arrowhead\":0,\"arrowwidth\":1},\"autotypenumbers\":\"strict\",\"coloraxis\":{\"colorbar\":{\"outlinewidth\":0,\"ticks\":\"\"}},\"colorscale\":{\"diverging\":[[0,\"#8e0152\"],[0.1,\"#c51b7d\"],[0.2,\"#de77ae\"],[0.3,\"#f1b6da\"],[0.4,\"#fde0ef\"],[0.5,\"#f7f7f7\"],[0.6,\"#e6f5d0\"],[0.7,\"#b8e186\"],[0.8,\"#7fbc41\"],[0.9,\"#4d9221\"],[1,\"#276419\"]],\"sequential\":[[0.0,\"#0d0887\"],[0.1111111111111111,\"#46039f\"],[0.2222222222222222,\"#7201a8\"],[0.3333333333333333,\"#9c179e\"],[0.4444444444444444,\"#bd3786\"],[0.5555555555555556,\"#d8576b\"],[0.6666666666666666,\"#ed7953\"],[0.7777777777777778,\"#fb9f3a\"],[0.8888888888888888,\"#fdca26\"],[1.0,\"#f0f921\"]],\"sequentialminus\":[[0.0,\"#0d0887\"],[0.1111111111111111,\"#46039f\"],[0.2222222222222222,\"#7201a8\"],[0.3333333333333333,\"#9c179e\"],[0.4444444444444444,\"#bd3786\"],[0.5555555555555556,\"#d8576b\"],[0.6666666666666666,\"#ed7953\"],[0.7777777777777778,\"#fb9f3a\"],[0.8888888888888888,\"#fdca26\"],[1.0,\"#f0f921\"]]},\"colorway\":[\"#636efa\",\"#EF553B\",\"#00cc96\",\"#ab63fa\",\"#FFA15A\",\"#19d3f3\",\"#FF6692\",\"#B6E880\",\"#FF97FF\",\"#FECB52\"],\"font\":{\"color\":\"#2a3f5f\"},\"geo\":{\"bgcolor\":\"white\",\"lakecolor\":\"white\",\"landcolor\":\"#E5ECF6\",\"showlakes\":true,\"showland\":true,\"subunitcolor\":\"white\"},\"hoverlabel\":{\"align\":\"left\"},\"hovermode\":\"closest\",\"mapbox\":{\"style\":\"light\"},\"paper_bgcolor\":\"white\",\"plot_bgcolor\":\"#E5ECF6\",\"polar\":{\"angularaxis\":{\"gridcolor\":\"white\",\"linecolor\":\"white\",\"ticks\":\"\"},\"bgcolor\":\"#E5ECF6\",\"radialaxis\":{\"gridcolor\":\"white\",\"linecolor\":\"white\",\"ticks\":\"\"}},\"scene\":{\"xaxis\":{\"backgroundcolor\":\"#E5ECF6\",\"gridcolor\":\"white\",\"gridwidth\":2,\"linecolor\":\"white\",\"showbackground\":true,\"ticks\":\"\",\"zerolinecolor\":\"white\"},\"yaxis\":{\"backgroundcolor\":\"#E5ECF6\",\"gridcolor\":\"white\",\"gridwidth\":2,\"linecolor\":\"white\",\"showbackground\":true,\"ticks\":\"\",\"zerolinecolor\":\"white\"},\"zaxis\":{\"backgroundcolor\":\"#E5ECF6\",\"gridcolor\":\"white\",\"gridwidth\":2,\"linecolor\":\"white\",\"showbackground\":true,\"ticks\":\"\",\"zerolinecolor\":\"white\"}},\"shapedefaults\":{\"line\":{\"color\":\"#2a3f5f\"}},\"ternary\":{\"aaxis\":{\"gridcolor\":\"white\",\"linecolor\":\"white\",\"ticks\":\"\"},\"baxis\":{\"gridcolor\":\"white\",\"linecolor\":\"white\",\"ticks\":\"\"},\"bgcolor\":\"#E5ECF6\",\"caxis\":{\"gridcolor\":\"white\",\"linecolor\":\"white\",\"ticks\":\"\"}},\"title\":{\"x\":0.05},\"xaxis\":{\"automargin\":true,\"gridcolor\":\"white\",\"linecolor\":\"white\",\"ticks\":\"\",\"title\":{\"standoff\":15},\"zerolinecolor\":\"white\",\"zerolinewidth\":2},\"yaxis\":{\"automargin\":true,\"gridcolor\":\"white\",\"linecolor\":\"white\",\"ticks\":\"\",\"title\":{\"standoff\":15},\"zerolinecolor\":\"white\",\"zerolinewidth\":2}}},\"title\":{\"font\":{\"color\":\"#4D5663\"}},\"xaxis\":{\"anchor\":\"y\",\"domain\":[0.0,0.45],\"gridcolor\":\"#E1E5ED\",\"showgrid\":true,\"tickfont\":{\"color\":\"#4D5663\"},\"title\":{\"font\":{\"color\":\"#4D5663\"},\"text\":\"\"},\"zerolinecolor\":\"#E1E5ED\"},\"yaxis\":{\"anchor\":\"x\",\"domain\":[0.625,1.0],\"gridcolor\":\"#E1E5ED\",\"showgrid\":true,\"tickfont\":{\"color\":\"#4D5663\"},\"title\":{\"font\":{\"color\":\"#4D5663\"},\"text\":\"\"},\"zerolinecolor\":\"#E1E5ED\"},\"xaxis2\":{\"anchor\":\"y2\",\"domain\":[0.55,1.0],\"gridcolor\":\"#E1E5ED\",\"showgrid\":true,\"tickfont\":{\"color\":\"#4D5663\"},\"title\":{\"font\":{\"color\":\"#4D5663\"},\"text\":\"\"},\"zerolinecolor\":\"#E1E5ED\"},\"yaxis2\":{\"anchor\":\"x2\",\"domain\":[0.625,1.0],\"gridcolor\":\"#E1E5ED\",\"showgrid\":true,\"tickfont\":{\"color\":\"#4D5663\"},\"title\":{\"font\":{\"color\":\"#4D5663\"},\"text\":\"\"},\"zerolinecolor\":\"#E1E5ED\"},\"xaxis3\":{\"anchor\":\"y3\",\"domain\":[0.0,0.45],\"gridcolor\":\"#E1E5ED\",\"showgrid\":true,\"tickfont\":{\"color\":\"#4D5663\"},\"title\":{\"font\":{\"color\":\"#4D5663\"},\"text\":\"\"},\"zerolinecolor\":\"#E1E5ED\"},\"yaxis3\":{\"anchor\":\"x3\",\"domain\":[0.0,0.375],\"gridcolor\":\"#E1E5ED\",\"showgrid\":true,\"tickfont\":{\"color\":\"#4D5663\"},\"title\":{\"font\":{\"color\":\"#4D5663\"},\"text\":\"\"},\"zerolinecolor\":\"#E1E5ED\"}},                        {\"showLink\": true, \"linkText\": \"Export to plot.ly\", \"plotlyServerURL\": \"https://plot.ly\", \"responsive\": true}                    ).then(function(){\n",
       "                            \n",
       "var gd = document.getElementById('03298052-8ad1-4751-9e75-a50a2e275334');\n",
       "var x = new MutationObserver(function (mutations, observer) {{\n",
       "        var display = window.getComputedStyle(gd).display;\n",
       "        if (!display || display === 'none') {{\n",
       "            console.log([gd, 'removed!']);\n",
       "            Plotly.purge(gd);\n",
       "            observer.disconnect();\n",
       "        }}\n",
       "}});\n",
       "\n",
       "// Listen for the removal of the full notebook cells\n",
       "var notebookContainer = gd.closest('#notebook-container');\n",
       "if (notebookContainer) {{\n",
       "    x.observe(notebookContainer, {childList: true});\n",
       "}}\n",
       "\n",
       "// Listen for the clearing of the current output cell\n",
       "var outputEl = gd.closest('.output');\n",
       "if (outputEl) {{\n",
       "    x.observe(outputEl, {childList: true});\n",
       "}}\n",
       "\n",
       "                        })                };                });            </script>        </div>"
      ]
     },
     "metadata": {},
     "output_type": "display_data"
    }
   ],
   "source": [
    "allSentiment.pct_change().iplot(kind='hist',\n",
    "             subplots=True, subplot_titles=True, legend=False,\n",
    "             bins=25,);"
   ]
  },
  {
   "cell_type": "markdown",
   "id": "97208aba",
   "metadata": {},
   "source": [
    "# Statistics on Sentiment\n",
    "\n",
    "Below you can see that the P-Value is less that alpha there the null hypothesis is rejected as there is statistical significance between the datasets."
   ]
  },
  {
   "cell_type": "code",
   "execution_count": 14,
   "id": "5fd6b152",
   "metadata": {
    "ExecuteTime": {
     "end_time": "2022-05-22T20:19:11.410536Z",
     "start_time": "2022-05-22T20:19:11.397538Z"
    }
   },
   "outputs": [
    {
     "name": "stdout",
     "output_type": "stream",
     "text": [
      "consumer_sentiment normal distribution, pvalue = 0.111996\n",
      "\n",
      "farmer_sentiment normal distribution, pvalue = 0.724346\n",
      "\n",
      "Reject Null Hypothesis P-Value 0.0183\n"
     ]
    },
    {
     "data": {
      "text/plain": [
       "Ttest_indResult(statistic=2.41198739455647, pvalue=0.018345568409279388)"
      ]
     },
     "execution_count": 14,
     "metadata": {},
     "output_type": "execute_result"
    }
   ],
   "source": [
    "Stats.distribution(allSentiment[['consumer_sentiment', 'farmer_sentiment']])"
   ]
  },
  {
   "cell_type": "code",
   "execution_count": 15,
   "id": "22622fe6",
   "metadata": {
    "ExecuteTime": {
     "end_time": "2022-05-22T20:19:11.425535Z",
     "start_time": "2022-05-22T20:19:11.411536Z"
    }
   },
   "outputs": [
    {
     "name": "stdout",
     "output_type": "stream",
     "text": [
      "consumer_sentiment normal distribution, pvalue = 0.111996\n",
      "\n",
      "farmer_sentiment normal distribution, pvalue = 0.724346\n",
      "\n",
      "steak_prices not normal distribution, pvalue = 0.000570\n",
      "\n",
      "Accept Null Hypothesis P-Value 0.3679\n"
     ]
    },
    {
     "data": {
      "text/plain": [
       "KruskalResult(statistic=2.0, pvalue=0.36787944117144245)"
      ]
     },
     "execution_count": 15,
     "metadata": {},
     "output_type": "execute_result"
    }
   ],
   "source": [
    "Stats.distribution(allSentiment)"
   ]
  },
  {
   "cell_type": "markdown",
   "id": "9390b6a1",
   "metadata": {},
   "source": [
    "# Correlations of Sentiment and Bovine Meat Prices\n",
    "\n",
    "There is negative correlation between steak prices and sentiment of both farmers and consumers.  Sentiment between farmers and consumers is slightly positive correlation."
   ]
  },
  {
   "cell_type": "code",
   "execution_count": 16,
   "id": "682fbfc3",
   "metadata": {
    "ExecuteTime": {
     "end_time": "2022-05-22T20:19:11.473059Z",
     "start_time": "2022-05-22T20:19:11.427536Z"
    }
   },
   "outputs": [
    {
     "data": {
      "text/html": [
       "<style  type=\"text/css\" >\n",
       "#T_cdf79_row0_col0,#T_cdf79_row1_col1,#T_cdf79_row2_col2{\n",
       "            background-color:  #b40426;\n",
       "            color:  #f1f1f1;\n",
       "        }#T_cdf79_row0_col1{\n",
       "            background-color:  #b3cdfb;\n",
       "            color:  #000000;\n",
       "        }#T_cdf79_row0_col2{\n",
       "            background-color:  #516ddb;\n",
       "            color:  #000000;\n",
       "        }#T_cdf79_row1_col0{\n",
       "            background-color:  #a2c1ff;\n",
       "            color:  #000000;\n",
       "        }#T_cdf79_row1_col2,#T_cdf79_row2_col0,#T_cdf79_row2_col1{\n",
       "            background-color:  #3b4cc0;\n",
       "            color:  #f1f1f1;\n",
       "        }</style><table id=\"T_cdf79_\" ><thead>    <tr>        <th class=\"blank level0\" ></th>        <th class=\"col_heading level0 col0\" >consumer_sentiment</th>        <th class=\"col_heading level0 col1\" >farmer_sentiment</th>        <th class=\"col_heading level0 col2\" >steak_prices</th>    </tr></thead><tbody>\n",
       "                <tr>\n",
       "                        <th id=\"T_cdf79_level0_row0\" class=\"row_heading level0 row0\" >consumer_sentiment</th>\n",
       "                        <td id=\"T_cdf79_row0_col0\" class=\"data row0 col0\" >1.000000</td>\n",
       "                        <td id=\"T_cdf79_row0_col1\" class=\"data row0 col1\" >0.112268</td>\n",
       "                        <td id=\"T_cdf79_row0_col2\" class=\"data row0 col2\" >-0.285481</td>\n",
       "            </tr>\n",
       "            <tr>\n",
       "                        <th id=\"T_cdf79_level0_row1\" class=\"row_heading level0 row1\" >farmer_sentiment</th>\n",
       "                        <td id=\"T_cdf79_row1_col0\" class=\"data row1 col0\" >0.112268</td>\n",
       "                        <td id=\"T_cdf79_row1_col1\" class=\"data row1 col1\" >1.000000</td>\n",
       "                        <td id=\"T_cdf79_row1_col2\" class=\"data row1 col2\" >-0.390723</td>\n",
       "            </tr>\n",
       "            <tr>\n",
       "                        <th id=\"T_cdf79_level0_row2\" class=\"row_heading level0 row2\" >steak_prices</th>\n",
       "                        <td id=\"T_cdf79_row2_col0\" class=\"data row2 col0\" >-0.285481</td>\n",
       "                        <td id=\"T_cdf79_row2_col1\" class=\"data row2 col1\" >-0.390723</td>\n",
       "                        <td id=\"T_cdf79_row2_col2\" class=\"data row2 col2\" >1.000000</td>\n",
       "            </tr>\n",
       "    </tbody></table>"
      ],
      "text/plain": [
       "<pandas.io.formats.style.Styler at 0x204f8e08c70>"
      ]
     },
     "execution_count": 16,
     "metadata": {},
     "output_type": "execute_result"
    }
   ],
   "source": [
    "allSentiment.corr().style.background_gradient(cmap='coolwarm')"
   ]
  },
  {
   "cell_type": "code",
   "execution_count": 17,
   "id": "583d897c",
   "metadata": {
    "ExecuteTime": {
     "end_time": "2022-05-22T20:19:11.689600Z",
     "start_time": "2022-05-22T20:19:11.474059Z"
    }
   },
   "outputs": [
    {
     "data": {
      "text/plain": [
       "<AxesSubplot:xlabel='consumer_sentiment', ylabel='steak_prices'>"
      ]
     },
     "execution_count": 17,
     "metadata": {},
     "output_type": "execute_result"
    },
    {
     "data": {
      "image/png": "[encoded data removed]",
      "text/plain": [
       "<Figure size 432x288 with 1 Axes>"
      ]
     },
     "metadata": {
      "needs_background": "light"
     },
     "output_type": "display_data"
    }
   ],
   "source": [
    "# use the function regplot to make a scatterplot\n",
    "sns.regplot(x=allSentiment[\"consumer_sentiment\"], y=allSentiment[\"steak_prices\"])"
   ]
  },
  {
   "cell_type": "code",
   "execution_count": 18,
   "id": "9ac9018f",
   "metadata": {
    "ExecuteTime": {
     "end_time": "2022-05-22T20:19:11.877932Z",
     "start_time": "2022-05-22T20:19:11.691600Z"
    }
   },
   "outputs": [
    {
     "data": {
      "text/plain": [
       "<AxesSubplot:xlabel='farmer_sentiment', ylabel='steak_prices'>"
      ]
     },
     "execution_count": 18,
     "metadata": {},
     "output_type": "execute_result"
    },
    {
     "data": {
      "image/png": "[encoded data removed]",
      "text/plain": [
       "<Figure size 432x288 with 1 Axes>"
      ]
     },
     "metadata": {
      "needs_background": "light"
     },
     "output_type": "display_data"
    }
   ],
   "source": [
    "# use the function regplot to make a scatterplot\n",
    "sns.regplot(x=allSentiment[\"farmer_sentiment\"], y=allSentiment[\"steak_prices\"])"
   ]
  },
  {
   "cell_type": "code",
   "execution_count": 19,
   "id": "1f5c2321",
   "metadata": {
    "ExecuteTime": {
     "end_time": "2022-05-22T20:19:12.064265Z",
     "start_time": "2022-05-22T20:19:11.878936Z"
    }
   },
   "outputs": [
    {
     "data": {
      "text/plain": [
       "<AxesSubplot:xlabel='farmer_sentiment', ylabel='consumer_sentiment'>"
      ]
     },
     "execution_count": 19,
     "metadata": {},
     "output_type": "execute_result"
    },
    {
     "data": {
      "image/png": "[encoded data removed]",
      "text/plain": [
       "<Figure size 432x288 with 1 Axes>"
      ]
     },
     "metadata": {
      "needs_background": "light"
     },
     "output_type": "display_data"
    }
   ],
   "source": [
    "# use the function regplot to make a scatterplot\n",
    "sns.regplot(x=allSentiment[\"farmer_sentiment\"], y=allSentiment[\"consumer_sentiment\"])"
   ]
  },
  {
   "cell_type": "code",
   "execution_count": 20,
   "id": "2d951f23",
   "metadata": {
    "ExecuteTime": {
     "end_time": "2022-05-22T20:19:12.079190Z",
     "start_time": "2022-05-22T20:19:12.065171Z"
    }
   },
   "outputs": [],
   "source": [
    "# Save sentiment Analysis to spreadsheet\n",
    "allSentiment.to_csv('data/sentimentanalysis.csv')"
   ]
  },
  {
   "cell_type": "code",
   "execution_count": null,
   "id": "ae340711",
   "metadata": {},
   "outputs": [],
   "source": []
  }
 ],
 "metadata": {
  "kernelspec": {
   "display_name": "Python 3 (ipykernel)",
   "language": "python",
   "name": "python3"
  },
  "language_info": {
   "codemirror_mode": {
    "name": "ipython",
    "version": 3
   },
   "file_extension": ".py",
   "mimetype": "text/x-python",
   "name": "python",
   "nbconvert_exporter": "python",
   "pygments_lexer": "ipython3",
   "version": "3.8.12"
  },
  "toc": {
   "base_numbering": 1,
   "nav_menu": {},
   "number_sections": true,
   "sideBar": true,
   "skip_h1_title": false,
   "title_cell": "Table of Contents",
   "title_sidebar": "Contents",
   "toc_cell": false,
   "toc_position": {
    "height": "calc(100% - 180px)",
    "left": "10px",
    "top": "150px",
    "width": "230px"
   },
   "toc_section_display": true,
   "toc_window_display": true
  }
 },
 "nbformat": 4,
 "nbformat_minor": 5
}
