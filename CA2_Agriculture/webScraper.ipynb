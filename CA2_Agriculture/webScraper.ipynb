{
 "cells": [
  {
   "cell_type": "code",
   "execution_count": 1,
   "id": "96b7651f",
   "metadata": {
    "ExecuteTime": {
     "end_time": "2022-05-15T14:04:34.479860Z",
     "start_time": "2022-05-15T14:04:33.878864Z"
    },
    "scrolled": true
   },
   "outputs": [],
   "source": [
    "import warnings\n",
    "warnings.filterwarnings(\"ignore\")\n",
    "\n",
    "from selenium import webdriver\n",
    "from selenium.webdriver.common.by import By\n",
    "import pandas as pd"
   ]
  },
  {
   "cell_type": "code",
   "execution_count": 154,
   "id": "4c4712df",
   "metadata": {
    "ExecuteTime": {
     "end_time": "2022-05-15T15:56:56.695340Z",
     "start_time": "2022-05-15T15:56:51.006716Z"
    }
   },
   "outputs": [],
   "source": [
    "driver = webdriver.Firefox(executable_path= r\"D:\\Downloads\\geckodriver-v0.31.0-win64\\geckodriver.exe\")"
   ]
  },
  {
   "cell_type": "code",
   "execution_count": 26,
   "id": "2038d8e1",
   "metadata": {
    "ExecuteTime": {
     "end_time": "2022-05-15T14:34:54.963831Z",
     "start_time": "2022-05-15T14:30:38.013159Z"
    },
    "scrolled": true
   },
   "outputs": [
    {
     "name": "stdout",
     "output_type": "stream",
     "text": [
      "Could not get data for https://www.ifa.ie/the-eu-beef-crisis-explained/\n",
      "Could not get data for https://www.ifa.ie/beef-talks-agreement/\n",
      "Could not get data for https://www.ifa.ie/beef-finisher-payment-scheme/\n",
      "Could not get data for https://www.ifa.ie/producer-organisations-seminar/\n",
      "Could not get data for https://www.ifa.ie/sectoral-resources/\n",
      "Could not get data for https://www.ifa.ie/ifa-policy-documents/\n",
      "Could not get data for https://www.ifa.ie/member-publications/livestock-council-report-july-2020/\n",
      "Could not get data for https://www.ifa.ie/member-publications/livestock-council-report-may-2020/\n",
      "Could not get data for https://www.ifa.ie/sector-committees/cattle-committee/\n",
      "Could not get data for https://www.ifa.ie/our-history/\n"
     ]
    }
   ],
   "source": [
    "searchUrl = 'https://www.ifa.ie/page/'\n",
    "searchTerms = 'beef+cattle+prices'\n",
    "\n",
    "maxPages = 35\n",
    "allPages = pd.DataFrame(columns=['Link', 'Date', 'Title', 'Text'])\n",
    "\n",
    "for i in range(maxPages):\n",
    "    currentUrl = searchUrl + str(i+1) + '/?s=' + searchTerms\n",
    "    driver.get(currentUrl)\n",
    "    elems = driver.find_elements_by_css_selector(\".col-sm-12 [href]\")\n",
    "    links = [elem.get_attribute('href') for elem in elems]\n",
    "    for link in links:\n",
    "        driver.get(link)\n",
    "        try: \n",
    "            page = driver.find_element_by_xpath(\"/html/body\")\n",
    "            allPages = allPages.append({'Link': link,\n",
    "                                           'Date': page.find_element(By.CLASS_NAME, 'entry-date').text,\n",
    "                                           'Title': page.find_element(By.CLASS_NAME, 'entry-title').text,\n",
    "                                           'Text': page.find_element(By.CLASS_NAME, 'single-content').text},\n",
    "                                          ignore_index=True)\n",
    "        except:\n",
    "            print('Could not get data for {}'.format(link))"
   ]
  },
  {
   "cell_type": "code",
   "execution_count": 31,
   "id": "acdab839",
   "metadata": {
    "ExecuteTime": {
     "end_time": "2022-05-15T14:37:26.907574Z",
     "start_time": "2022-05-15T14:37:26.881576Z"
    }
   },
   "outputs": [
    {
     "data": {
      "text/html": [
       "<div>\n",
       "<style scoped>\n",
       "    .dataframe tbody tr th:only-of-type {\n",
       "        vertical-align: middle;\n",
       "    }\n",
       "\n",
       "    .dataframe tbody tr th {\n",
       "        vertical-align: top;\n",
       "    }\n",
       "\n",
       "    .dataframe thead th {\n",
       "        text-align: right;\n",
       "    }\n",
       "</style>\n",
       "<table border=\"1\" class=\"dataframe\">\n",
       "  <thead>\n",
       "    <tr style=\"text-align: right;\">\n",
       "      <th></th>\n",
       "      <th>Link</th>\n",
       "      <th>Date</th>\n",
       "      <th>Title</th>\n",
       "      <th>Text</th>\n",
       "    </tr>\n",
       "  </thead>\n",
       "  <tbody>\n",
       "    <tr>\n",
       "      <th>0</th>\n",
       "      <td>https://www.ifa.ie/markets-and-prices/news-art...</td>\n",
       "      <td>2010-11-08</td>\n",
       "      <td>IFA Issues Warning to Factories on Cattle Prices</td>\n",
       "      <td>IFA National Livestock Chairman Michael Doran ...</td>\n",
       "    </tr>\n",
       "    <tr>\n",
       "      <th>1</th>\n",
       "      <td>https://www.ifa.ie/markets-and-prices/news-art...</td>\n",
       "      <td>2010-11-10</td>\n",
       "      <td>Growing Anger and Frustration over Cattle Pric...</td>\n",
       "      <td>IFA National Livestock Committee Chairman Mich...</td>\n",
       "    </tr>\n",
       "    <tr>\n",
       "      <th>2</th>\n",
       "      <td>https://www.ifa.ie/markets-and-prices/news-art...</td>\n",
       "      <td>2010-11-18</td>\n",
       "      <td>Doran Accuses Factories of Holding Back on Cat...</td>\n",
       "      <td>IFA National Livestock Committee Chairman Mich...</td>\n",
       "    </tr>\n",
       "    <tr>\n",
       "      <th>3</th>\n",
       "      <td>https://www.ifa.ie/markets-and-prices/news-art...</td>\n",
       "      <td>2010-11-25</td>\n",
       "      <td>Hold Now and Demand a Price Increase for Cattl...</td>\n",
       "      <td>IFA President John Bryan said now is the time ...</td>\n",
       "    </tr>\n",
       "    <tr>\n",
       "      <th>4</th>\n",
       "      <td>https://www.ifa.ie/farm-sectors/news-article-4...</td>\n",
       "      <td>2011-01-07</td>\n",
       "      <td>Opening of Turkish Market Positive Move for Ir...</td>\n",
       "      <td>IFA President John Bryan said the move to open...</td>\n",
       "    </tr>\n",
       "    <tr>\n",
       "      <th>...</th>\n",
       "      <td>...</td>\n",
       "      <td>...</td>\n",
       "      <td>...</td>\n",
       "      <td>...</td>\n",
       "    </tr>\n",
       "    <tr>\n",
       "      <th>440</th>\n",
       "      <td>https://www.ifa.ie/markets-and-prices/beef-she...</td>\n",
       "      <td>2022-04-08</td>\n",
       "      <td>Beef &amp; Sheep Update</td>\n",
       "      <td>Beef Update\\nIFA livestock chairman Brendan Go...</td>\n",
       "    </tr>\n",
       "    <tr>\n",
       "      <th>441</th>\n",
       "      <td>https://www.ifa.ie/farm-sectors/suckler-and-ca...</td>\n",
       "      <td>2022-04-13</td>\n",
       "      <td>Suckler and Cattle Farmers Most Exposed by Inp...</td>\n",
       "      <td>IFA Livestock Chairman Brendan Golden said the...</td>\n",
       "    </tr>\n",
       "    <tr>\n",
       "      <th>442</th>\n",
       "      <td>https://www.ifa.ie/resources/ifa-weekly-update...</td>\n",
       "      <td>2022-04-14</td>\n",
       "      <td>IFA Weekly Update 14th April 2022</td>\n",
       "      <td>Reaction To Government Pig Sector Support Pack...</td>\n",
       "    </tr>\n",
       "    <tr>\n",
       "      <th>443</th>\n",
       "      <td>https://www.ifa.ie/resources/ifa-weekly-news-u...</td>\n",
       "      <td>2022-04-22</td>\n",
       "      <td>IFA Weekly News Update 22nd April 2022</td>\n",
       "      <td>Calves For Ukraine Fundraiser Success\\n\\nActio...</td>\n",
       "    </tr>\n",
       "    <tr>\n",
       "      <th>444</th>\n",
       "      <td>https://www.ifa.ie/markets-and-prices/beef-she...</td>\n",
       "      <td>2022-05-13</td>\n",
       "      <td>Beef &amp; Sheep Update 13th May</td>\n",
       "      <td>Beef Update\\nIFA Livestock Committee chairman ...</td>\n",
       "    </tr>\n",
       "  </tbody>\n",
       "</table>\n",
       "<p>445 rows × 4 columns</p>\n",
       "</div>"
      ],
      "text/plain": [
       "                                                  Link       Date  \\\n",
       "0    https://www.ifa.ie/markets-and-prices/news-art... 2010-11-08   \n",
       "1    https://www.ifa.ie/markets-and-prices/news-art... 2010-11-10   \n",
       "2    https://www.ifa.ie/markets-and-prices/news-art... 2010-11-18   \n",
       "3    https://www.ifa.ie/markets-and-prices/news-art... 2010-11-25   \n",
       "4    https://www.ifa.ie/farm-sectors/news-article-4... 2011-01-07   \n",
       "..                                                 ...        ...   \n",
       "440  https://www.ifa.ie/markets-and-prices/beef-she... 2022-04-08   \n",
       "441  https://www.ifa.ie/farm-sectors/suckler-and-ca... 2022-04-13   \n",
       "442  https://www.ifa.ie/resources/ifa-weekly-update... 2022-04-14   \n",
       "443  https://www.ifa.ie/resources/ifa-weekly-news-u... 2022-04-22   \n",
       "444  https://www.ifa.ie/markets-and-prices/beef-she... 2022-05-13   \n",
       "\n",
       "                                                 Title  \\\n",
       "0     IFA Issues Warning to Factories on Cattle Prices   \n",
       "1    Growing Anger and Frustration over Cattle Pric...   \n",
       "2    Doran Accuses Factories of Holding Back on Cat...   \n",
       "3    Hold Now and Demand a Price Increase for Cattl...   \n",
       "4    Opening of Turkish Market Positive Move for Ir...   \n",
       "..                                                 ...   \n",
       "440                                Beef & Sheep Update   \n",
       "441  Suckler and Cattle Farmers Most Exposed by Inp...   \n",
       "442                  IFA Weekly Update 14th April 2022   \n",
       "443             IFA Weekly News Update 22nd April 2022   \n",
       "444                       Beef & Sheep Update 13th May   \n",
       "\n",
       "                                                  Text  \n",
       "0    IFA National Livestock Chairman Michael Doran ...  \n",
       "1    IFA National Livestock Committee Chairman Mich...  \n",
       "2    IFA National Livestock Committee Chairman Mich...  \n",
       "3    IFA President John Bryan said now is the time ...  \n",
       "4    IFA President John Bryan said the move to open...  \n",
       "..                                                 ...  \n",
       "440  Beef Update\\nIFA livestock chairman Brendan Go...  \n",
       "441  IFA Livestock Chairman Brendan Golden said the...  \n",
       "442  Reaction To Government Pig Sector Support Pack...  \n",
       "443  Calves For Ukraine Fundraiser Success\\n\\nActio...  \n",
       "444  Beef Update\\nIFA Livestock Committee chairman ...  \n",
       "\n",
       "[445 rows x 4 columns]"
      ]
     },
     "execution_count": 31,
     "metadata": {},
     "output_type": "execute_result"
    }
   ],
   "source": [
    "allPages.Date = pd.to_datetime(allPages.Date)\n",
    "allPages.sort_values(by='Date',ascending=True, inplace=True)\n",
    "allPages.reset_index(drop=True, inplace=True)\n",
    "allPages"
   ]
  },
  {
   "cell_type": "code",
   "execution_count": 33,
   "id": "13a04fed",
   "metadata": {
    "ExecuteTime": {
     "end_time": "2022-05-15T14:48:13.919465Z",
     "start_time": "2022-05-15T14:48:13.875423Z"
    },
    "scrolled": true
   },
   "outputs": [],
   "source": [
    "allPages.to_csv('data/IFA_Search_data.csv', index=False)"
   ]
  },
  {
   "cell_type": "code",
   "execution_count": null,
   "id": "0bd32abc",
   "metadata": {},
   "outputs": [],
   "source": []
  },
  {
   "cell_type": "code",
   "execution_count": null,
   "id": "c3ab8119",
   "metadata": {},
   "outputs": [],
   "source": []
  },
  {
   "cell_type": "code",
   "execution_count": 161,
   "id": "1eb37f8b",
   "metadata": {
    "ExecuteTime": {
     "end_time": "2022-05-15T16:13:43.872134Z",
     "start_time": "2022-05-15T16:10:02.066913Z"
    }
   },
   "outputs": [],
   "source": [
    "currentUrl = 'https://www.irishexaminer.com/search/?cosearch=beef+prices'\n",
    "#driver.get(currentUrl)\n",
    "\n",
    "allLinks = []\n",
    "\n",
    "for i in range(100):\n",
    "    driver.get(currentUrl)\n",
    "    elems = driver.find_elements_by_css_selector(\".col-wrapper [href]\")\n",
    "    links = [elem.get_attribute('href') for elem in elems]\n",
    "    allLinks.append(links)\n",
    "    currentUrl = links[-2]"
   ]
  },
  {
   "cell_type": "code",
   "execution_count": 179,
   "id": "50cdde38",
   "metadata": {
    "ExecuteTime": {
     "end_time": "2022-05-15T16:23:53.650455Z",
     "start_time": "2022-05-15T16:23:53.640456Z"
    }
   },
   "outputs": [],
   "source": [
    "finalLinks = []\n",
    "\n",
    "for allLink in allLinks:\n",
    "    for link in allLink:\n",
    "        if 'search' not in link and 'sport' not in link:\n",
    "            finalLinks.append(link)"
   ]
  },
  {
   "cell_type": "code",
   "execution_count": 191,
   "id": "de8b8f77",
   "metadata": {
    "ExecuteTime": {
     "end_time": "2022-05-15T17:20:30.893789Z",
     "start_time": "2022-05-15T16:30:39.437637Z"
    }
   },
   "outputs": [
    {
     "name": "stdout",
     "output_type": "stream",
     "text": [
      "Could not get data for https://www.irishexaminer.com/news/spotlight/arid-40759038.html\n"
     ]
    }
   ],
   "source": [
    "examinerArticles = pd.DataFrame(columns=['Link', 'Date', 'Title', 'Text'])\n",
    "for link in finalLinks:\n",
    "    driver.get(link)\n",
    "    try: \n",
    "        page = driver.find_element_by_xpath(\"/html/body\")\n",
    "        examinerArticles = examinerArticles.append({'Link': link,\n",
    "                                       'Date': page.find_element(By.CLASS_NAME, 'date-byline').text,\n",
    "                                       'Title': page.find_element(By.CLASS_NAME, 'article-title').text,\n",
    "                                       'Text': page.find_element(By.CLASS_NAME, 'ctx_content').text},\n",
    "                                      ignore_index=True)\n",
    "    except:\n",
    "        print('Could not get data for {}'.format(link))"
   ]
  },
  {
   "cell_type": "code",
   "execution_count": 207,
   "id": "43cdc65d",
   "metadata": {
    "ExecuteTime": {
     "end_time": "2022-05-15T17:26:38.441895Z",
     "start_time": "2022-05-15T17:26:38.424897Z"
    }
   },
   "outputs": [
    {
     "data": {
      "text/html": [
       "<div>\n",
       "<style scoped>\n",
       "    .dataframe tbody tr th:only-of-type {\n",
       "        vertical-align: middle;\n",
       "    }\n",
       "\n",
       "    .dataframe tbody tr th {\n",
       "        vertical-align: top;\n",
       "    }\n",
       "\n",
       "    .dataframe thead th {\n",
       "        text-align: right;\n",
       "    }\n",
       "</style>\n",
       "<table border=\"1\" class=\"dataframe\">\n",
       "  <thead>\n",
       "    <tr style=\"text-align: right;\">\n",
       "      <th></th>\n",
       "      <th>Link</th>\n",
       "      <th>Date</th>\n",
       "      <th>Title</th>\n",
       "      <th>Text</th>\n",
       "    </tr>\n",
       "  </thead>\n",
       "  <tbody>\n",
       "    <tr>\n",
       "      <th>0</th>\n",
       "      <td>https://www.irishexaminer.com/farming/arid-101...</td>\n",
       "      <td>2002-07-11 02:00:00</td>\n",
       "      <td>Farm leaders condemn CAP reforms as Greens say...</td>\n",
       "      <td>However, the Irish Cattle Sheep Farmers Associ...</td>\n",
       "    </tr>\n",
       "    <tr>\n",
       "      <th>1</th>\n",
       "      <td>https://www.irishexaminer.com/farming/arid-100...</td>\n",
       "      <td>2002-07-11 02:00:00</td>\n",
       "      <td>EU Commission positive, but beef prospects mixed</td>\n",
       "      <td>In its just published seven year trade outlook...</td>\n",
       "    </tr>\n",
       "    <tr>\n",
       "      <th>2</th>\n",
       "      <td>https://www.irishexaminer.com/farming/arid-100...</td>\n",
       "      <td>2002-07-11 02:00:00</td>\n",
       "      <td>As big as foot and mouth</td>\n",
       "      <td>Question 1: Do you want a change to area- base...</td>\n",
       "    </tr>\n",
       "    <tr>\n",
       "      <th>3</th>\n",
       "      <td>https://www.irishexaminer.com/farming/arid-100...</td>\n",
       "      <td>2002-07-11 02:00:00</td>\n",
       "      <td>As big as foot and mouth</td>\n",
       "      <td>Question 1: Do you want a change to area- base...</td>\n",
       "    </tr>\n",
       "    <tr>\n",
       "      <th>4</th>\n",
       "      <td>https://www.irishexaminer.com/farming/arid-100...</td>\n",
       "      <td>2002-07-12 02:00:00</td>\n",
       "      <td>CAP reform will force beef plant closures, say...</td>\n",
       "      <td>In the past five years the number of processor...</td>\n",
       "    </tr>\n",
       "    <tr>\n",
       "      <th>...</th>\n",
       "      <td>...</td>\n",
       "      <td>...</td>\n",
       "      <td>...</td>\n",
       "      <td>...</td>\n",
       "    </tr>\n",
       "    <tr>\n",
       "      <th>1220</th>\n",
       "      <td>https://www.irishexaminer.com/farming/arid-408...</td>\n",
       "      <td>2022-05-10 14:02:00</td>\n",
       "      <td>Over €1m expected for 87-acre Golden Vale farm</td>\n",
       "      <td>It's another week and another public and onlin...</td>\n",
       "    </tr>\n",
       "    <tr>\n",
       "      <th>1221</th>\n",
       "      <td>https://www.irishexaminer.com/farming/arid-408...</td>\n",
       "      <td>2022-05-11 06:22:00</td>\n",
       "      <td>Lamb prices: Some processors offering up to 20...</td>\n",
       "      <td>Lamb prices have improved by up to 20 cents/kg...</td>\n",
       "    </tr>\n",
       "    <tr>\n",
       "      <th>1222</th>\n",
       "      <td>https://www.irishexaminer.com/farming/arid-408...</td>\n",
       "      <td>2022-05-11 15:16:00</td>\n",
       "      <td>Agriculture minister rules out restoring ban o...</td>\n",
       "      <td>There are no plans to ban below-cost selling o...</td>\n",
       "    </tr>\n",
       "    <tr>\n",
       "      <th>1223</th>\n",
       "      <td>https://www.irishexaminer.com/food/arid-408657...</td>\n",
       "      <td>2022-05-14 06:00:00</td>\n",
       "      <td>Caitriona Redmond: As prices rise families may...</td>\n",
       "      <td>When I talk about feeding families on a budget...</td>\n",
       "    </tr>\n",
       "    <tr>\n",
       "      <th>1224</th>\n",
       "      <td>https://www.irishexaminer.com/food/arid-408718...</td>\n",
       "      <td>2022-05-14 06:00:00</td>\n",
       "      <td>Darina Allen: Use up every last scrap of food ...</td>\n",
       "      <td>This week’s column will focus on sustainable f...</td>\n",
       "    </tr>\n",
       "  </tbody>\n",
       "</table>\n",
       "<p>1225 rows × 4 columns</p>\n",
       "</div>"
      ],
      "text/plain": [
       "                                                   Link                Date  \\\n",
       "0     https://www.irishexaminer.com/farming/arid-101... 2002-07-11 02:00:00   \n",
       "1     https://www.irishexaminer.com/farming/arid-100... 2002-07-11 02:00:00   \n",
       "2     https://www.irishexaminer.com/farming/arid-100... 2002-07-11 02:00:00   \n",
       "3     https://www.irishexaminer.com/farming/arid-100... 2002-07-11 02:00:00   \n",
       "4     https://www.irishexaminer.com/farming/arid-100... 2002-07-12 02:00:00   \n",
       "...                                                 ...                 ...   \n",
       "1220  https://www.irishexaminer.com/farming/arid-408... 2022-05-10 14:02:00   \n",
       "1221  https://www.irishexaminer.com/farming/arid-408... 2022-05-11 06:22:00   \n",
       "1222  https://www.irishexaminer.com/farming/arid-408... 2022-05-11 15:16:00   \n",
       "1223  https://www.irishexaminer.com/food/arid-408657... 2022-05-14 06:00:00   \n",
       "1224  https://www.irishexaminer.com/food/arid-408718... 2022-05-14 06:00:00   \n",
       "\n",
       "                                                  Title  \\\n",
       "0     Farm leaders condemn CAP reforms as Greens say...   \n",
       "1      EU Commission positive, but beef prospects mixed   \n",
       "2                              As big as foot and mouth   \n",
       "3                              As big as foot and mouth   \n",
       "4     CAP reform will force beef plant closures, say...   \n",
       "...                                                 ...   \n",
       "1220     Over €1m expected for 87-acre Golden Vale farm   \n",
       "1221  Lamb prices: Some processors offering up to 20...   \n",
       "1222  Agriculture minister rules out restoring ban o...   \n",
       "1223  Caitriona Redmond: As prices rise families may...   \n",
       "1224  Darina Allen: Use up every last scrap of food ...   \n",
       "\n",
       "                                                   Text  \n",
       "0     However, the Irish Cattle Sheep Farmers Associ...  \n",
       "1     In its just published seven year trade outlook...  \n",
       "2     Question 1: Do you want a change to area- base...  \n",
       "3     Question 1: Do you want a change to area- base...  \n",
       "4     In the past five years the number of processor...  \n",
       "...                                                 ...  \n",
       "1220  It's another week and another public and onlin...  \n",
       "1221  Lamb prices have improved by up to 20 cents/kg...  \n",
       "1222  There are no plans to ban below-cost selling o...  \n",
       "1223  When I talk about feeding families on a budget...  \n",
       "1224  This week’s column will focus on sustainable f...  \n",
       "\n",
       "[1225 rows x 4 columns]"
      ]
     },
     "execution_count": 207,
     "metadata": {},
     "output_type": "execute_result"
    }
   ],
   "source": [
    "examinerArticles.Date = pd.to_datetime(examinerArticles.Date, format='%Y-&m-%d')\n",
    "examinerArticles.dropna(inplace=True)\n",
    "examinerArticles.drop_duplicates(subset=['Title','Date'], keep='last').reset_index(drop=True, inplace=True)\n",
    "examinerArticles.sort_values(by='Date',ascending=True, inplace=True)\n",
    "examinerArticles.reset_index(drop=True, inplace=True)\n",
    "examinerArticles"
   ]
  },
  {
   "cell_type": "code",
   "execution_count": 208,
   "id": "da37be76",
   "metadata": {
    "ExecuteTime": {
     "end_time": "2022-05-15T17:28:02.172398Z",
     "start_time": "2022-05-15T17:28:02.076401Z"
    }
   },
   "outputs": [],
   "source": [
    "examinerArticles.to_csv('data/ExaminerSearchArticles.csv', index=False)"
   ]
  },
  {
   "cell_type": "code",
   "execution_count": null,
   "id": "301afa66",
   "metadata": {},
   "outputs": [],
   "source": []
  }
 ],
 "metadata": {
  "kernelspec": {
   "display_name": "Python 3 (ipykernel)",
   "language": "python",
   "name": "python3"
  },
  "language_info": {
   "codemirror_mode": {
    "name": "ipython",
    "version": 3
   },
   "file_extension": ".py",
   "mimetype": "text/x-python",
   "name": "python",
   "nbconvert_exporter": "python",
   "pygments_lexer": "ipython3",
   "version": "3.8.12"
  },
  "toc": {
   "base_numbering": 1,
   "nav_menu": {},
   "number_sections": true,
   "sideBar": true,
   "skip_h1_title": false,
   "title_cell": "Table of Contents",
   "title_sidebar": "Contents",
   "toc_cell": false,
   "toc_position": {},
   "toc_section_display": true,
   "toc_window_display": false
  }
 },
 "nbformat": 4,
 "nbformat_minor": 5
}
